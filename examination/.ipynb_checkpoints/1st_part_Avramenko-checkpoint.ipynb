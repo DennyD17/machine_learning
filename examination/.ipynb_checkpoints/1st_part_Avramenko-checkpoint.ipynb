{
 "cells": [
  {
   "cell_type": "code",
   "execution_count": 1,
   "metadata": {},
   "outputs": [
    {
     "data": {
      "text/plain": [
       "'\\n1. Первое задание\\n\\nПростая задача бинарной классификации с преобразованием признаков\\n\\nДАТАСЕТ:\\nhttps://archive.ics.uci.edu/ml/datasets/Adult\\n\\nAge – возраст, количественный признак\\nWorkclass – тип работодателя, количественный признак\\nfnlwgt – итоговый вес обьекта, количественный признак\\nEducation – уровень образования, качественный признак\\nEducation_Num – количество лет обучения, количественный признак\\nMartial_Status – семейное положение, категориальный признак\\nOccupation – профессия, категориальный признак\\nRelationship – тип семейных отношений, категориальный признак\\nRace – раса, категориальный признак\\nSex – пол, качественный признак\\nCapital_Gain – прирост капитала, количественный признак\\nCapital_Loss – потери капитала, количественный признак\\nHours_per_week – количество часов работы в неделю, количественный признак\\nCountry – страна, категориальный признак\\n\\nЦелевая переменная: Target – уровень заработка, категориальный (бинарный) признак\\n\\nadult_data - обучающая выборка, adult_test - тестовая выборка\\n\\n1. Сколько мужчин и женщин (признак sex) представлено в этом наборе данных? (1 балл)\\n2. Каков средний возраст (признак age) женщин? (1 балл)\\n3. Какова доля граждан Германии (признак native-country)? (2 балла)\\n4. Постройте гистограмму распределения (bar plot) образования людей (признак education). (2 балла)\\n5. Построить классификатор (целевая переменная Target) максимального качества с Accuracy Score не менее 0.84 (4 балла)\\n\\n'"
      ]
     },
     "execution_count": 1,
     "metadata": {},
     "output_type": "execute_result"
    }
   ],
   "source": [
    "\"\"\"\n",
    "1. Title: Contraceptive Method Choice\n",
    "\n",
    "2. Sources:\n",
    "   (a) Origin:  This dataset is a subset of the 1987 National Indonesia\n",
    "                Contraceptive Prevalence Survey\n",
    "   (b) Creator: Tjen-Sien Lim (limt@stat.wisc.edu)\n",
    "   (c) Donor:   Tjen-Sien Lim (limt@stat.wisc.edu)\n",
    "   (c) Date:    June 7, 1997\n",
    "\n",
    "3. Past Usage:\n",
    "   Lim, T.-S., Loh, W.-Y. & Shih, Y.-S. (1999). A Comparison of\n",
    "   Prediction Accuracy, Complexity, and Training Time of Thirty-three\n",
    "   Old and New Classification Algorithms. Machine Learning. Forthcoming.\n",
    "   (ftp://ftp.stat.wisc.edu/pub/loh/treeprogs/quest1.7/mach1317.pdf or\n",
    "   (http://www.stat.wisc.edu/~limt/mach1317.pdf)\n",
    "\n",
    "4. Relevant Information:\n",
    "   This dataset is a subset of the 1987 National Indonesia Contraceptive\n",
    "   Prevalence Survey. The samples are married women who were either not \n",
    "   pregnant or do not know if they were at the time of interview. The \n",
    "   problem is to predict the current contraceptive method choice \n",
    "   (no use, long-term methods, or short-term methods) of a woman based \n",
    "   on her demographic and socio-economic characteristics.\n",
    "\n",
    "5. Number of Instances: 1473\n",
    "\n",
    "6. Number of Attributes: 10 (including the class attribute)\n",
    "\n",
    "7. Attribute Information:\n",
    "\n",
    "   1. Wife's age                     (numerical)\n",
    "   2. Wife's education               (categorical)      1=low, 2, 3, 4=high\n",
    "   3. Husband's education            (categorical)      1=low, 2, 3, 4=high\n",
    "   4. Number of children ever born   (numerical)\n",
    "   5. Wife's religion                (binary)           0=Non-Islam, 1=Islam\n",
    "   6. Wife's now working?            (binary)           0=Yes, 1=No\n",
    "   7. Husband's occupation           (categorical)      1, 2, 3, 4\n",
    "   8. Standard-of-living index       (categorical)      1=low, 2, 3, 4=high\n",
    "   9. Media exposure                 (binary)           0=Good, 1=Not good\n",
    "   10. Contraceptive method used     (class attribute)  1=No-use \n",
    "                                                        2=Long-term\n",
    "                                                        3=Short-term\n",
    "\n",
    "8. Missing Attribute Values: None\n",
    "\"\"\""
   ]
  },
  {
   "cell_type": "code",
   "execution_count": 2,
   "metadata": {},
   "outputs": [
    {
     "name": "stdout",
     "output_type": "stream",
     "text": [
      "Populating the interactive namespace from numpy and matplotlib\n"
     ]
    },
    {
     "name": "stderr",
     "output_type": "stream",
     "text": [
      "C:\\Users\\admin\\Anaconda3\\lib\\site-packages\\sklearn\\cross_validation.py:44: DeprecationWarning: This module was deprecated in version 0.18 in favor of the model_selection module into which all the refactored classes and functions are moved. Also note that the interface of the new CV iterators are different from that of this module. This module will be removed in 0.20.\n",
      "  \"This module will be removed in 0.20.\", DeprecationWarning)\n",
      "C:\\Users\\admin\\Anaconda3\\lib\\site-packages\\sklearn\\grid_search.py:43: DeprecationWarning: This module was deprecated in version 0.18 in favor of the model_selection module into which all the refactored classes and functions are moved. This module will be removed in 0.20.\n",
      "  DeprecationWarning)\n"
     ]
    }
   ],
   "source": [
    "from __future__ import division, print_function\n",
    "# отключим всякие предупреждения Anaconda\n",
    "import warnings\n",
    "warnings.filterwarnings('ignore')\n",
    "%pylab inline\n",
    "import seaborn as sns\n",
    "figsize(12, 8)\n",
    "import pandas as pd\n",
    "import sys\n",
    "if sys.version_info.major == 2:\n",
    "    from urllib import urlopen\n",
    "elif sys.version_info.major == 3:\n",
    "    from urllib.request import urlopen\n",
    "from sklearn.preprocessing import LabelEncoder\n",
    "from sklearn.cross_validation import train_test_split\n",
    "from sklearn.ensemble import RandomForestClassifier\n",
    "from sklearn.linear_model import LogisticRegression\n",
    "from sklearn.grid_search import GridSearchCV\n",
    "from sklearn.neighbors import KNeighborsClassifier\n",
    "from sklearn.model_selection import cross_val_score\n",
    "from sklearn.metrics import accuracy_score, classification_report\n",
    "\n",
    "\n",
    "\n"
   ]
  },
  {
   "cell_type": "code",
   "execution_count": 4,
   "metadata": {},
   "outputs": [],
   "source": [
    "url = \"http://archive.ics.uci.edu/ml/machine-learning-databases/cmc/cmc.data\"\n",
    "\n",
    "names = ['wife_age', 'wife_edu', 'husb_edu', 'children_num', 'wife_religion', 'wife_is_working', 'husb_occupation', \n",
    "         'living_index', 'media_exposure', 'method']\n",
    "df = pd.read_csv(url, names=names)"
   ]
  },
  {
   "cell_type": "code",
   "execution_count": 5,
   "metadata": {},
   "outputs": [
    {
     "data": {
      "text/html": [
       "<div>\n",
       "<style>\n",
       "    .dataframe thead tr:only-child th {\n",
       "        text-align: right;\n",
       "    }\n",
       "\n",
       "    .dataframe thead th {\n",
       "        text-align: left;\n",
       "    }\n",
       "\n",
       "    .dataframe tbody tr th {\n",
       "        vertical-align: top;\n",
       "    }\n",
       "</style>\n",
       "<table border=\"1\" class=\"dataframe\">\n",
       "  <thead>\n",
       "    <tr style=\"text-align: right;\">\n",
       "      <th></th>\n",
       "      <th>wife_age</th>\n",
       "      <th>wife_edu</th>\n",
       "      <th>husb_edu</th>\n",
       "      <th>children_num</th>\n",
       "      <th>wife_religion</th>\n",
       "      <th>wife_is_working</th>\n",
       "      <th>husb_occupation</th>\n",
       "      <th>living_index</th>\n",
       "      <th>media_exposure</th>\n",
       "      <th>method</th>\n",
       "    </tr>\n",
       "  </thead>\n",
       "  <tbody>\n",
       "    <tr>\n",
       "      <th>0</th>\n",
       "      <td>24</td>\n",
       "      <td>2</td>\n",
       "      <td>3</td>\n",
       "      <td>3</td>\n",
       "      <td>1</td>\n",
       "      <td>1</td>\n",
       "      <td>2</td>\n",
       "      <td>3</td>\n",
       "      <td>0</td>\n",
       "      <td>1</td>\n",
       "    </tr>\n",
       "    <tr>\n",
       "      <th>1</th>\n",
       "      <td>45</td>\n",
       "      <td>1</td>\n",
       "      <td>3</td>\n",
       "      <td>10</td>\n",
       "      <td>1</td>\n",
       "      <td>1</td>\n",
       "      <td>3</td>\n",
       "      <td>4</td>\n",
       "      <td>0</td>\n",
       "      <td>1</td>\n",
       "    </tr>\n",
       "    <tr>\n",
       "      <th>2</th>\n",
       "      <td>43</td>\n",
       "      <td>2</td>\n",
       "      <td>3</td>\n",
       "      <td>7</td>\n",
       "      <td>1</td>\n",
       "      <td>1</td>\n",
       "      <td>3</td>\n",
       "      <td>4</td>\n",
       "      <td>0</td>\n",
       "      <td>1</td>\n",
       "    </tr>\n",
       "    <tr>\n",
       "      <th>3</th>\n",
       "      <td>42</td>\n",
       "      <td>3</td>\n",
       "      <td>2</td>\n",
       "      <td>9</td>\n",
       "      <td>1</td>\n",
       "      <td>1</td>\n",
       "      <td>3</td>\n",
       "      <td>3</td>\n",
       "      <td>0</td>\n",
       "      <td>1</td>\n",
       "    </tr>\n",
       "    <tr>\n",
       "      <th>4</th>\n",
       "      <td>36</td>\n",
       "      <td>3</td>\n",
       "      <td>3</td>\n",
       "      <td>8</td>\n",
       "      <td>1</td>\n",
       "      <td>1</td>\n",
       "      <td>3</td>\n",
       "      <td>2</td>\n",
       "      <td>0</td>\n",
       "      <td>1</td>\n",
       "    </tr>\n",
       "  </tbody>\n",
       "</table>\n",
       "</div>"
      ],
      "text/plain": [
       "   wife_age  wife_edu  husb_edu  children_num  wife_religion  wife_is_working  \\\n",
       "0        24         2         3             3              1                1   \n",
       "1        45         1         3            10              1                1   \n",
       "2        43         2         3             7              1                1   \n",
       "3        42         3         2             9              1                1   \n",
       "4        36         3         3             8              1                1   \n",
       "\n",
       "   husb_occupation  living_index  media_exposure  method  \n",
       "0                2             3               0       1  \n",
       "1                3             4               0       1  \n",
       "2                3             4               0       1  \n",
       "3                3             3               0       1  \n",
       "4                3             2               0       1  "
      ]
     },
     "execution_count": 5,
     "metadata": {},
     "output_type": "execute_result"
    }
   ],
   "source": [
    "df.head()"
   ]
  },
  {
   "cell_type": "code",
   "execution_count": 6,
   "metadata": {},
   "outputs": [
    {
     "data": {
      "text/plain": [
       "1    629\n",
       "3    511\n",
       "2    333\n",
       "Name: method, dtype: int64"
      ]
     },
     "execution_count": 6,
     "metadata": {},
     "output_type": "execute_result"
    }
   ],
   "source": [
    "df.method.value_counts()"
   ]
  },
  {
   "cell_type": "code",
   "execution_count": 9,
   "metadata": {},
   "outputs": [
    {
     "data": {
      "text/plain": [
       "2     276\n",
       "1     276\n",
       "3     259\n",
       "4     197\n",
       "5     135\n",
       "0      97\n",
       "6      92\n",
       "7      49\n",
       "8      47\n",
       "9      16\n",
       "11     11\n",
       "10     11\n",
       "12      4\n",
       "13      2\n",
       "16      1\n",
       "Name: children_num, dtype: int64"
      ]
     },
     "execution_count": 9,
     "metadata": {},
     "output_type": "execute_result"
    }
   ],
   "source": [
    "df.children_num.value_counts()"
   ]
  },
  {
   "cell_type": "code",
   "execution_count": 18,
   "metadata": {},
   "outputs": [
    {
     "data": {
      "text/plain": [
       "1473"
      ]
     },
     "execution_count": 18,
     "metadata": {},
     "output_type": "execute_result"
    }
   ],
   "source": [
    "len(df)"
   ]
  },
  {
   "cell_type": "code",
   "execution_count": 19,
   "metadata": {},
   "outputs": [
    {
     "data": {
      "text/plain": [
       "1     143\n",
       "2     114\n",
       "0      95\n",
       "3      70\n",
       "4      57\n",
       "5      44\n",
       "6      35\n",
       "8      29\n",
       "7      18\n",
       "10      9\n",
       "11      6\n",
       "9       5\n",
       "12      4\n",
       "Name: children_num, dtype: int64"
      ]
     },
     "execution_count": 19,
     "metadata": {},
     "output_type": "execute_result"
    }
   ],
   "source": [
    "df[df['method'] == 1]['children_num'].value_counts()"
   ]
  },
  {
   "cell_type": "code",
   "execution_count": 20,
   "metadata": {},
   "outputs": [
    {
     "data": {
      "text/plain": [
       "3     70\n",
       "4     62\n",
       "2     56\n",
       "1     46\n",
       "5     36\n",
       "6     27\n",
       "7     19\n",
       "8      9\n",
       "9      3\n",
       "11     2\n",
       "10     2\n",
       "13     1\n",
       "Name: children_num, dtype: int64"
      ]
     },
     "execution_count": 20,
     "metadata": {},
     "output_type": "execute_result"
    }
   ],
   "source": [
    "df[df['method'] == 2]['children_num'].value_counts()"
   ]
  },
  {
   "cell_type": "code",
   "execution_count": 21,
   "metadata": {},
   "outputs": [
    {
     "data": {
      "text/plain": [
       "3     119\n",
       "2     106\n",
       "1      87\n",
       "4      78\n",
       "5      55\n",
       "6      30\n",
       "7      12\n",
       "8       9\n",
       "9       8\n",
       "11      3\n",
       "0       2\n",
       "16      1\n",
       "13      1\n",
       "Name: children_num, dtype: int64"
      ]
     },
     "execution_count": 21,
     "metadata": {},
     "output_type": "execute_result"
    }
   ],
   "source": [
    "df[df['method'] == 3]['children_num'].value_counts()"
   ]
  },
  {
   "cell_type": "code",
   "execution_count": 22,
   "metadata": {},
   "outputs": [
    {
     "data": {
      "text/plain": [
       "1    95\n",
       "3     2\n",
       "Name: method, dtype: int64"
      ]
     },
     "execution_count": 22,
     "metadata": {},
     "output_type": "execute_result"
    }
   ],
   "source": [
    "df[df['children_num'] == 0]['method'].value_counts()"
   ]
  },
  {
   "cell_type": "code",
   "execution_count": 31,
   "metadata": {},
   "outputs": [
    {
     "data": {
      "text/plain": [
       "1    143\n",
       "3     87\n",
       "2     46\n",
       "Name: method, dtype: int64"
      ]
     },
     "execution_count": 31,
     "metadata": {},
     "output_type": "execute_result"
    }
   ],
   "source": [
    "df[df['children_num'] == 1]['method'].value_counts()"
   ]
  },
  {
   "cell_type": "code",
   "execution_count": 33,
   "metadata": {},
   "outputs": [
    {
     "data": {
      "text/html": [
       "<div>\n",
       "<style>\n",
       "    .dataframe thead tr:only-child th {\n",
       "        text-align: right;\n",
       "    }\n",
       "\n",
       "    .dataframe thead th {\n",
       "        text-align: left;\n",
       "    }\n",
       "\n",
       "    .dataframe tbody tr th {\n",
       "        vertical-align: top;\n",
       "    }\n",
       "</style>\n",
       "<table border=\"1\" class=\"dataframe\">\n",
       "  <thead>\n",
       "    <tr style=\"text-align: right;\">\n",
       "      <th></th>\n",
       "      <th>husb_edu</th>\n",
       "      <th>husb_occupation</th>\n",
       "      <th>living_index</th>\n",
       "      <th>media_exposure</th>\n",
       "      <th>method</th>\n",
       "      <th>wife_age</th>\n",
       "      <th>wife_edu</th>\n",
       "      <th>wife_is_working</th>\n",
       "      <th>wife_religion</th>\n",
       "    </tr>\n",
       "    <tr>\n",
       "      <th>children_num</th>\n",
       "      <th></th>\n",
       "      <th></th>\n",
       "      <th></th>\n",
       "      <th></th>\n",
       "      <th></th>\n",
       "      <th></th>\n",
       "      <th></th>\n",
       "      <th></th>\n",
       "      <th></th>\n",
       "    </tr>\n",
       "  </thead>\n",
       "  <tbody>\n",
       "    <tr>\n",
       "      <th>0</th>\n",
       "      <td>3.474227</td>\n",
       "      <td>2.278351</td>\n",
       "      <td>2.989691</td>\n",
       "      <td>0.041237</td>\n",
       "      <td>1.041237</td>\n",
       "      <td>27.546392</td>\n",
       "      <td>2.907216</td>\n",
       "      <td>0.546392</td>\n",
       "      <td>0.845361</td>\n",
       "    </tr>\n",
       "    <tr>\n",
       "      <th>1</th>\n",
       "      <td>3.518116</td>\n",
       "      <td>2.184783</td>\n",
       "      <td>3.047101</td>\n",
       "      <td>0.039855</td>\n",
       "      <td>1.797101</td>\n",
       "      <td>27.010870</td>\n",
       "      <td>3.141304</td>\n",
       "      <td>0.742754</td>\n",
       "      <td>0.851449</td>\n",
       "    </tr>\n",
       "    <tr>\n",
       "      <th>2</th>\n",
       "      <td>3.525362</td>\n",
       "      <td>2.112319</td>\n",
       "      <td>3.170290</td>\n",
       "      <td>0.054348</td>\n",
       "      <td>1.971014</td>\n",
       "      <td>29.818841</td>\n",
       "      <td>3.061594</td>\n",
       "      <td>0.739130</td>\n",
       "      <td>0.851449</td>\n",
       "    </tr>\n",
       "    <tr>\n",
       "      <th>3</th>\n",
       "      <td>3.575290</td>\n",
       "      <td>2.119691</td>\n",
       "      <td>3.274131</td>\n",
       "      <td>0.069498</td>\n",
       "      <td>2.189189</td>\n",
       "      <td>32.393822</td>\n",
       "      <td>3.146718</td>\n",
       "      <td>0.760618</td>\n",
       "      <td>0.787645</td>\n",
       "    </tr>\n",
       "    <tr>\n",
       "      <th>4</th>\n",
       "      <td>3.492386</td>\n",
       "      <td>2.101523</td>\n",
       "      <td>3.187817</td>\n",
       "      <td>0.081218</td>\n",
       "      <td>2.106599</td>\n",
       "      <td>34.908629</td>\n",
       "      <td>2.959391</td>\n",
       "      <td>0.771574</td>\n",
       "      <td>0.832487</td>\n",
       "    </tr>\n",
       "    <tr>\n",
       "      <th>5</th>\n",
       "      <td>3.333333</td>\n",
       "      <td>2.000000</td>\n",
       "      <td>3.177778</td>\n",
       "      <td>0.081481</td>\n",
       "      <td>2.081481</td>\n",
       "      <td>36.688889</td>\n",
       "      <td>2.888889</td>\n",
       "      <td>0.777778</td>\n",
       "      <td>0.881481</td>\n",
       "    </tr>\n",
       "    <tr>\n",
       "      <th>6</th>\n",
       "      <td>3.163043</td>\n",
       "      <td>2.152174</td>\n",
       "      <td>3.076087</td>\n",
       "      <td>0.108696</td>\n",
       "      <td>1.945652</td>\n",
       "      <td>38.510870</td>\n",
       "      <td>2.673913</td>\n",
       "      <td>0.793478</td>\n",
       "      <td>0.869565</td>\n",
       "    </tr>\n",
       "    <tr>\n",
       "      <th>7</th>\n",
       "      <td>3.061224</td>\n",
       "      <td>2.265306</td>\n",
       "      <td>3.142857</td>\n",
       "      <td>0.102041</td>\n",
       "      <td>1.877551</td>\n",
       "      <td>39.306122</td>\n",
       "      <td>2.489796</td>\n",
       "      <td>0.775510</td>\n",
       "      <td>0.897959</td>\n",
       "    </tr>\n",
       "    <tr>\n",
       "      <th>8</th>\n",
       "      <td>2.787234</td>\n",
       "      <td>2.127660</td>\n",
       "      <td>2.851064</td>\n",
       "      <td>0.255319</td>\n",
       "      <td>1.574468</td>\n",
       "      <td>41.553191</td>\n",
       "      <td>2.234043</td>\n",
       "      <td>0.872340</td>\n",
       "      <td>0.978723</td>\n",
       "    </tr>\n",
       "    <tr>\n",
       "      <th>9</th>\n",
       "      <td>2.937500</td>\n",
       "      <td>2.500000</td>\n",
       "      <td>2.812500</td>\n",
       "      <td>0.125000</td>\n",
       "      <td>2.187500</td>\n",
       "      <td>41.312500</td>\n",
       "      <td>2.125000</td>\n",
       "      <td>0.687500</td>\n",
       "      <td>1.000000</td>\n",
       "    </tr>\n",
       "    <tr>\n",
       "      <th>10</th>\n",
       "      <td>2.909091</td>\n",
       "      <td>2.454545</td>\n",
       "      <td>3.181818</td>\n",
       "      <td>0.090909</td>\n",
       "      <td>1.181818</td>\n",
       "      <td>43.727273</td>\n",
       "      <td>2.363636</td>\n",
       "      <td>0.818182</td>\n",
       "      <td>1.000000</td>\n",
       "    </tr>\n",
       "    <tr>\n",
       "      <th>11</th>\n",
       "      <td>3.090909</td>\n",
       "      <td>1.727273</td>\n",
       "      <td>2.909091</td>\n",
       "      <td>0.363636</td>\n",
       "      <td>1.727273</td>\n",
       "      <td>43.545455</td>\n",
       "      <td>2.545455</td>\n",
       "      <td>0.818182</td>\n",
       "      <td>0.909091</td>\n",
       "    </tr>\n",
       "    <tr>\n",
       "      <th>12</th>\n",
       "      <td>2.750000</td>\n",
       "      <td>2.500000</td>\n",
       "      <td>2.750000</td>\n",
       "      <td>0.000000</td>\n",
       "      <td>1.000000</td>\n",
       "      <td>42.250000</td>\n",
       "      <td>1.250000</td>\n",
       "      <td>1.000000</td>\n",
       "      <td>1.000000</td>\n",
       "    </tr>\n",
       "    <tr>\n",
       "      <th>13</th>\n",
       "      <td>3.500000</td>\n",
       "      <td>1.500000</td>\n",
       "      <td>3.500000</td>\n",
       "      <td>0.000000</td>\n",
       "      <td>2.500000</td>\n",
       "      <td>46.000000</td>\n",
       "      <td>3.000000</td>\n",
       "      <td>1.000000</td>\n",
       "      <td>1.000000</td>\n",
       "    </tr>\n",
       "    <tr>\n",
       "      <th>16</th>\n",
       "      <td>4.000000</td>\n",
       "      <td>1.000000</td>\n",
       "      <td>4.000000</td>\n",
       "      <td>0.000000</td>\n",
       "      <td>3.000000</td>\n",
       "      <td>48.000000</td>\n",
       "      <td>4.000000</td>\n",
       "      <td>1.000000</td>\n",
       "      <td>1.000000</td>\n",
       "    </tr>\n",
       "  </tbody>\n",
       "</table>\n",
       "</div>"
      ],
      "text/plain": [
       "              husb_edu  husb_occupation  living_index  media_exposure  \\\n",
       "children_num                                                            \n",
       "0             3.474227         2.278351      2.989691        0.041237   \n",
       "1             3.518116         2.184783      3.047101        0.039855   \n",
       "2             3.525362         2.112319      3.170290        0.054348   \n",
       "3             3.575290         2.119691      3.274131        0.069498   \n",
       "4             3.492386         2.101523      3.187817        0.081218   \n",
       "5             3.333333         2.000000      3.177778        0.081481   \n",
       "6             3.163043         2.152174      3.076087        0.108696   \n",
       "7             3.061224         2.265306      3.142857        0.102041   \n",
       "8             2.787234         2.127660      2.851064        0.255319   \n",
       "9             2.937500         2.500000      2.812500        0.125000   \n",
       "10            2.909091         2.454545      3.181818        0.090909   \n",
       "11            3.090909         1.727273      2.909091        0.363636   \n",
       "12            2.750000         2.500000      2.750000        0.000000   \n",
       "13            3.500000         1.500000      3.500000        0.000000   \n",
       "16            4.000000         1.000000      4.000000        0.000000   \n",
       "\n",
       "                method   wife_age  wife_edu  wife_is_working  wife_religion  \n",
       "children_num                                                                 \n",
       "0             1.041237  27.546392  2.907216         0.546392       0.845361  \n",
       "1             1.797101  27.010870  3.141304         0.742754       0.851449  \n",
       "2             1.971014  29.818841  3.061594         0.739130       0.851449  \n",
       "3             2.189189  32.393822  3.146718         0.760618       0.787645  \n",
       "4             2.106599  34.908629  2.959391         0.771574       0.832487  \n",
       "5             2.081481  36.688889  2.888889         0.777778       0.881481  \n",
       "6             1.945652  38.510870  2.673913         0.793478       0.869565  \n",
       "7             1.877551  39.306122  2.489796         0.775510       0.897959  \n",
       "8             1.574468  41.553191  2.234043         0.872340       0.978723  \n",
       "9             2.187500  41.312500  2.125000         0.687500       1.000000  \n",
       "10            1.181818  43.727273  2.363636         0.818182       1.000000  \n",
       "11            1.727273  43.545455  2.545455         0.818182       0.909091  \n",
       "12            1.000000  42.250000  1.250000         1.000000       1.000000  \n",
       "13            2.500000  46.000000  3.000000         1.000000       1.000000  \n",
       "16            3.000000  48.000000  4.000000         1.000000       1.000000  "
      ]
     },
     "execution_count": 33,
     "metadata": {},
     "output_type": "execute_result"
    }
   ],
   "source": [
    "df.pivot_table(index=['children_num'], aggfunc='mean')"
   ]
  },
  {
   "cell_type": "code",
   "execution_count": 36,
   "metadata": {},
   "outputs": [
    {
     "data": {
      "text/html": [
       "<div>\n",
       "<style>\n",
       "    .dataframe thead tr:only-child th {\n",
       "        text-align: right;\n",
       "    }\n",
       "\n",
       "    .dataframe thead th {\n",
       "        text-align: left;\n",
       "    }\n",
       "\n",
       "    .dataframe tbody tr th {\n",
       "        vertical-align: top;\n",
       "    }\n",
       "</style>\n",
       "<table border=\"1\" class=\"dataframe\">\n",
       "  <thead>\n",
       "    <tr style=\"text-align: right;\">\n",
       "      <th></th>\n",
       "      <th>method</th>\n",
       "    </tr>\n",
       "    <tr>\n",
       "      <th>children_num</th>\n",
       "      <th></th>\n",
       "    </tr>\n",
       "  </thead>\n",
       "  <tbody>\n",
       "    <tr>\n",
       "      <th>0</th>\n",
       "      <td>1.041237</td>\n",
       "    </tr>\n",
       "    <tr>\n",
       "      <th>1</th>\n",
       "      <td>1.797101</td>\n",
       "    </tr>\n",
       "    <tr>\n",
       "      <th>2</th>\n",
       "      <td>1.971014</td>\n",
       "    </tr>\n",
       "    <tr>\n",
       "      <th>3</th>\n",
       "      <td>2.189189</td>\n",
       "    </tr>\n",
       "    <tr>\n",
       "      <th>4</th>\n",
       "      <td>2.106599</td>\n",
       "    </tr>\n",
       "    <tr>\n",
       "      <th>5</th>\n",
       "      <td>2.081481</td>\n",
       "    </tr>\n",
       "    <tr>\n",
       "      <th>6</th>\n",
       "      <td>1.945652</td>\n",
       "    </tr>\n",
       "    <tr>\n",
       "      <th>7</th>\n",
       "      <td>1.877551</td>\n",
       "    </tr>\n",
       "    <tr>\n",
       "      <th>8</th>\n",
       "      <td>1.574468</td>\n",
       "    </tr>\n",
       "    <tr>\n",
       "      <th>9</th>\n",
       "      <td>2.187500</td>\n",
       "    </tr>\n",
       "    <tr>\n",
       "      <th>10</th>\n",
       "      <td>1.181818</td>\n",
       "    </tr>\n",
       "    <tr>\n",
       "      <th>11</th>\n",
       "      <td>1.727273</td>\n",
       "    </tr>\n",
       "    <tr>\n",
       "      <th>12</th>\n",
       "      <td>1.000000</td>\n",
       "    </tr>\n",
       "    <tr>\n",
       "      <th>13</th>\n",
       "      <td>2.500000</td>\n",
       "    </tr>\n",
       "    <tr>\n",
       "      <th>16</th>\n",
       "      <td>3.000000</td>\n",
       "    </tr>\n",
       "  </tbody>\n",
       "</table>\n",
       "</div>"
      ],
      "text/plain": [
       "                method\n",
       "children_num          \n",
       "0             1.041237\n",
       "1             1.797101\n",
       "2             1.971014\n",
       "3             2.189189\n",
       "4             2.106599\n",
       "5             2.081481\n",
       "6             1.945652\n",
       "7             1.877551\n",
       "8             1.574468\n",
       "9             2.187500\n",
       "10            1.181818\n",
       "11            1.727273\n",
       "12            1.000000\n",
       "13            2.500000\n",
       "16            3.000000"
      ]
     },
     "execution_count": 36,
     "metadata": {},
     "output_type": "execute_result"
    }
   ],
   "source": [
    "df.pivot_table(index=['children_num'], values='method', aggfunc='mean')"
   ]
  },
  {
   "cell_type": "code",
   "execution_count": 44,
   "metadata": {},
   "outputs": [
    {
     "data": {
      "text/plain": [
       "1    175\n",
       "2     84\n",
       "3     47\n",
       "Name: method, dtype: int64"
      ]
     },
     "execution_count": 44,
     "metadata": {},
     "output_type": "execute_result"
    }
   ],
   "source": [
    "df[df['wife_age'] > 40]['method'].value_counts()"
   ]
  },
  {
   "cell_type": "code",
   "execution_count": 45,
   "metadata": {},
   "outputs": [
    {
     "data": {
      "text/plain": [
       "32.53835709436524"
      ]
     },
     "execution_count": 45,
     "metadata": {},
     "output_type": "execute_result"
    }
   ],
   "source": [
    "df['wife_age'].mean()"
   ]
  },
  {
   "cell_type": "code",
   "execution_count": 46,
   "metadata": {},
   "outputs": [
    {
     "data": {
      "text/plain": [
       "49"
      ]
     },
     "execution_count": 46,
     "metadata": {},
     "output_type": "execute_result"
    }
   ],
   "source": [
    "df['wife_age'].max()"
   ]
  },
  {
   "cell_type": "code",
   "execution_count": 47,
   "metadata": {},
   "outputs": [
    {
     "data": {
      "text/plain": [
       "16"
      ]
     },
     "execution_count": 47,
     "metadata": {},
     "output_type": "execute_result"
    }
   ],
   "source": [
    "df['wife_age'].min()"
   ]
  },
  {
   "cell_type": "code",
   "execution_count": 48,
   "metadata": {},
   "outputs": [
    {
     "data": {
      "text/plain": [
       "25    80\n",
       "26    69\n",
       "32    64\n",
       "30    64\n",
       "28    63\n",
       "35    62\n",
       "24    61\n",
       "22    59\n",
       "27    59\n",
       "29    59\n",
       "36    57\n",
       "33    55\n",
       "37    51\n",
       "34    50\n",
       "21    48\n",
       "31    46\n",
       "23    44\n",
       "38    44\n",
       "47    43\n",
       "45    41\n",
       "42    40\n",
       "44    39\n",
       "43    34\n",
       "39    34\n",
       "40    34\n",
       "41    34\n",
       "48    30\n",
       "20    28\n",
       "49    23\n",
       "46    22\n",
       "19    18\n",
       "17     8\n",
       "18     7\n",
       "16     3\n",
       "Name: wife_age, dtype: int64"
      ]
     },
     "execution_count": 48,
     "metadata": {},
     "output_type": "execute_result"
    }
   ],
   "source": [
    "df['wife_age'].value_counts()"
   ]
  },
  {
   "cell_type": "code",
   "execution_count": 50,
   "metadata": {},
   "outputs": [],
   "source": [
    "df['wife_age'] = df['wife_age'].map(lambda x: 0 if x <= 20 else (1 if x <= 30 and x > 20 else (2 if x <= 40 and x > 30 else 3)))"
   ]
  },
  {
   "cell_type": "code",
   "execution_count": 51,
   "metadata": {},
   "outputs": [
    {
     "data": {
      "text/plain": [
       "1    606\n",
       "2    497\n",
       "3    306\n",
       "0     64\n",
       "Name: wife_age, dtype: int64"
      ]
     },
     "execution_count": 51,
     "metadata": {},
     "output_type": "execute_result"
    }
   ],
   "source": [
    "df['wife_age'].value_counts()"
   ]
  },
  {
   "cell_type": "code",
   "execution_count": 52,
   "metadata": {},
   "outputs": [
    {
     "data": {
      "text/plain": [
       "<matplotlib.axes._subplots.AxesSubplot at 0x2103b5d9278>"
      ]
     },
     "execution_count": 52,
     "metadata": {},
     "output_type": "execute_result"
    },
    {
     "data": {
      "image/png": "[encoded data removed]",
      "text/plain": [
       "<matplotlib.figure.Figure at 0x2103acbfcf8>"
      ]
     },
     "metadata": {},
     "output_type": "display_data"
    }
   ],
   "source": [
    "df.pivot_table('children_num', 'wife_age', 'method', 'count').plot(kind='bar')"
   ]
  },
  {
   "cell_type": "code",
   "execution_count": 53,
   "metadata": {},
   "outputs": [
    {
     "data": {
      "text/html": [
       "<div>\n",
       "<style>\n",
       "    .dataframe thead tr:only-child th {\n",
       "        text-align: right;\n",
       "    }\n",
       "\n",
       "    .dataframe thead th {\n",
       "        text-align: left;\n",
       "    }\n",
       "\n",
       "    .dataframe tbody tr th {\n",
       "        vertical-align: top;\n",
       "    }\n",
       "</style>\n",
       "<table border=\"1\" class=\"dataframe\">\n",
       "  <thead>\n",
       "    <tr style=\"text-align: right;\">\n",
       "      <th></th>\n",
       "      <th>wife_age</th>\n",
       "      <th>wife_edu</th>\n",
       "      <th>husb_edu</th>\n",
       "      <th>children_num</th>\n",
       "      <th>wife_religion</th>\n",
       "      <th>wife_is_working</th>\n",
       "      <th>husb_occupation</th>\n",
       "      <th>living_index</th>\n",
       "      <th>media_exposure</th>\n",
       "      <th>method</th>\n",
       "    </tr>\n",
       "  </thead>\n",
       "  <tbody>\n",
       "    <tr>\n",
       "      <th>0</th>\n",
       "      <td>1</td>\n",
       "      <td>2</td>\n",
       "      <td>3</td>\n",
       "      <td>3</td>\n",
       "      <td>1</td>\n",
       "      <td>1</td>\n",
       "      <td>2</td>\n",
       "      <td>3</td>\n",
       "      <td>0</td>\n",
       "      <td>1</td>\n",
       "    </tr>\n",
       "    <tr>\n",
       "      <th>1</th>\n",
       "      <td>3</td>\n",
       "      <td>1</td>\n",
       "      <td>3</td>\n",
       "      <td>10</td>\n",
       "      <td>1</td>\n",
       "      <td>1</td>\n",
       "      <td>3</td>\n",
       "      <td>4</td>\n",
       "      <td>0</td>\n",
       "      <td>1</td>\n",
       "    </tr>\n",
       "    <tr>\n",
       "      <th>2</th>\n",
       "      <td>3</td>\n",
       "      <td>2</td>\n",
       "      <td>3</td>\n",
       "      <td>7</td>\n",
       "      <td>1</td>\n",
       "      <td>1</td>\n",
       "      <td>3</td>\n",
       "      <td>4</td>\n",
       "      <td>0</td>\n",
       "      <td>1</td>\n",
       "    </tr>\n",
       "    <tr>\n",
       "      <th>3</th>\n",
       "      <td>3</td>\n",
       "      <td>3</td>\n",
       "      <td>2</td>\n",
       "      <td>9</td>\n",
       "      <td>1</td>\n",
       "      <td>1</td>\n",
       "      <td>3</td>\n",
       "      <td>3</td>\n",
       "      <td>0</td>\n",
       "      <td>1</td>\n",
       "    </tr>\n",
       "    <tr>\n",
       "      <th>4</th>\n",
       "      <td>2</td>\n",
       "      <td>3</td>\n",
       "      <td>3</td>\n",
       "      <td>8</td>\n",
       "      <td>1</td>\n",
       "      <td>1</td>\n",
       "      <td>3</td>\n",
       "      <td>2</td>\n",
       "      <td>0</td>\n",
       "      <td>1</td>\n",
       "    </tr>\n",
       "  </tbody>\n",
       "</table>\n",
       "</div>"
      ],
      "text/plain": [
       "   wife_age  wife_edu  husb_edu  children_num  wife_religion  wife_is_working  \\\n",
       "0         1         2         3             3              1                1   \n",
       "1         3         1         3            10              1                1   \n",
       "2         3         2         3             7              1                1   \n",
       "3         3         3         2             9              1                1   \n",
       "4         2         3         3             8              1                1   \n",
       "\n",
       "   husb_occupation  living_index  media_exposure  method  \n",
       "0                2             3               0       1  \n",
       "1                3             4               0       1  \n",
       "2                3             4               0       1  \n",
       "3                3             3               0       1  \n",
       "4                3             2               0       1  "
      ]
     },
     "execution_count": 53,
     "metadata": {},
     "output_type": "execute_result"
    }
   ],
   "source": [
    "df.head()"
   ]
  },
  {
   "cell_type": "code",
   "execution_count": 54,
   "metadata": {},
   "outputs": [
    {
     "data": {
      "text/plain": [
       "4    577\n",
       "3    410\n",
       "2    334\n",
       "1    152\n",
       "Name: wife_edu, dtype: int64"
      ]
     },
     "execution_count": 54,
     "metadata": {},
     "output_type": "execute_result"
    }
   ],
   "source": [
    "df.wife_edu.value_counts()"
   ]
  },
  {
   "cell_type": "code",
   "execution_count": 55,
   "metadata": {},
   "outputs": [
    {
     "data": {
      "text/plain": [
       "4    899\n",
       "3    352\n",
       "2    178\n",
       "1     44\n",
       "Name: husb_edu, dtype: int64"
      ]
     },
     "execution_count": 55,
     "metadata": {},
     "output_type": "execute_result"
    }
   ],
   "source": [
    "df.husb_edu.value_counts()"
   ]
  },
  {
   "cell_type": "code",
   "execution_count": 57,
   "metadata": {},
   "outputs": [
    {
     "data": {
      "text/plain": [
       "1    1253\n",
       "0     220\n",
       "Name: wife_religion, dtype: int64"
      ]
     },
     "execution_count": 57,
     "metadata": {},
     "output_type": "execute_result"
    }
   ],
   "source": [
    "df.wife_religion.value_counts()"
   ]
  },
  {
   "cell_type": "code",
   "execution_count": 58,
   "metadata": {},
   "outputs": [
    {
     "data": {
      "text/plain": [
       "2    76\n",
       "1    75\n",
       "3    69\n",
       "Name: method, dtype: int64"
      ]
     },
     "execution_count": 58,
     "metadata": {},
     "output_type": "execute_result"
    }
   ],
   "source": [
    "df[df['wife_religion'] == 0]['method'].value_counts()"
   ]
  },
  {
   "cell_type": "code",
   "execution_count": 59,
   "metadata": {},
   "outputs": [
    {
     "data": {
      "text/plain": [
       "1    554\n",
       "3    442\n",
       "2    257\n",
       "Name: method, dtype: int64"
      ]
     },
     "execution_count": 59,
     "metadata": {},
     "output_type": "execute_result"
    }
   ],
   "source": [
    "df[df['wife_religion'] == 1]['method'].value_counts()"
   ]
  },
  {
   "cell_type": "code",
   "execution_count": 61,
   "metadata": {},
   "outputs": [],
   "source": [
    "df = df.drop('wife_religion', 1)"
   ]
  },
  {
   "cell_type": "code",
   "execution_count": 62,
   "metadata": {},
   "outputs": [
    {
     "data": {
      "text/html": [
       "<div>\n",
       "<style>\n",
       "    .dataframe thead tr:only-child th {\n",
       "        text-align: right;\n",
       "    }\n",
       "\n",
       "    .dataframe thead th {\n",
       "        text-align: left;\n",
       "    }\n",
       "\n",
       "    .dataframe tbody tr th {\n",
       "        vertical-align: top;\n",
       "    }\n",
       "</style>\n",
       "<table border=\"1\" class=\"dataframe\">\n",
       "  <thead>\n",
       "    <tr style=\"text-align: right;\">\n",
       "      <th></th>\n",
       "      <th>wife_age</th>\n",
       "      <th>wife_edu</th>\n",
       "      <th>husb_edu</th>\n",
       "      <th>children_num</th>\n",
       "      <th>wife_is_working</th>\n",
       "      <th>husb_occupation</th>\n",
       "      <th>living_index</th>\n",
       "      <th>media_exposure</th>\n",
       "      <th>method</th>\n",
       "    </tr>\n",
       "  </thead>\n",
       "  <tbody>\n",
       "    <tr>\n",
       "      <th>0</th>\n",
       "      <td>1</td>\n",
       "      <td>2</td>\n",
       "      <td>3</td>\n",
       "      <td>3</td>\n",
       "      <td>1</td>\n",
       "      <td>2</td>\n",
       "      <td>3</td>\n",
       "      <td>0</td>\n",
       "      <td>1</td>\n",
       "    </tr>\n",
       "    <tr>\n",
       "      <th>1</th>\n",
       "      <td>3</td>\n",
       "      <td>1</td>\n",
       "      <td>3</td>\n",
       "      <td>10</td>\n",
       "      <td>1</td>\n",
       "      <td>3</td>\n",
       "      <td>4</td>\n",
       "      <td>0</td>\n",
       "      <td>1</td>\n",
       "    </tr>\n",
       "    <tr>\n",
       "      <th>2</th>\n",
       "      <td>3</td>\n",
       "      <td>2</td>\n",
       "      <td>3</td>\n",
       "      <td>7</td>\n",
       "      <td>1</td>\n",
       "      <td>3</td>\n",
       "      <td>4</td>\n",
       "      <td>0</td>\n",
       "      <td>1</td>\n",
       "    </tr>\n",
       "    <tr>\n",
       "      <th>3</th>\n",
       "      <td>3</td>\n",
       "      <td>3</td>\n",
       "      <td>2</td>\n",
       "      <td>9</td>\n",
       "      <td>1</td>\n",
       "      <td>3</td>\n",
       "      <td>3</td>\n",
       "      <td>0</td>\n",
       "      <td>1</td>\n",
       "    </tr>\n",
       "    <tr>\n",
       "      <th>4</th>\n",
       "      <td>2</td>\n",
       "      <td>3</td>\n",
       "      <td>3</td>\n",
       "      <td>8</td>\n",
       "      <td>1</td>\n",
       "      <td>3</td>\n",
       "      <td>2</td>\n",
       "      <td>0</td>\n",
       "      <td>1</td>\n",
       "    </tr>\n",
       "  </tbody>\n",
       "</table>\n",
       "</div>"
      ],
      "text/plain": [
       "   wife_age  wife_edu  husb_edu  children_num  wife_is_working  \\\n",
       "0         1         2         3             3                1   \n",
       "1         3         1         3            10                1   \n",
       "2         3         2         3             7                1   \n",
       "3         3         3         2             9                1   \n",
       "4         2         3         3             8                1   \n",
       "\n",
       "   husb_occupation  living_index  media_exposure  method  \n",
       "0                2             3               0       1  \n",
       "1                3             4               0       1  \n",
       "2                3             4               0       1  \n",
       "3                3             3               0       1  \n",
       "4                3             2               0       1  "
      ]
     },
     "execution_count": 62,
     "metadata": {},
     "output_type": "execute_result"
    }
   ],
   "source": [
    "df.head()"
   ]
  },
  {
   "cell_type": "code",
   "execution_count": null,
   "metadata": {},
   "outputs": [],
   "source": []
  },
  {
   "cell_type": "code",
   "execution_count": 63,
   "metadata": {},
   "outputs": [
    {
     "data": {
      "text/plain": [
       "1    1104\n",
       "0     369\n",
       "Name: wife_is_working, dtype: int64"
      ]
     },
     "execution_count": 63,
     "metadata": {},
     "output_type": "execute_result"
    }
   ],
   "source": [
    "df.wife_is_working.value_counts()"
   ]
  },
  {
   "cell_type": "code",
   "execution_count": 64,
   "metadata": {},
   "outputs": [
    {
     "data": {
      "text/plain": [
       "1    459\n",
       "3    401\n",
       "2    244\n",
       "Name: method, dtype: int64"
      ]
     },
     "execution_count": 64,
     "metadata": {},
     "output_type": "execute_result"
    }
   ],
   "source": [
    "df[df['wife_is_working'] == 1]['method'].value_counts()"
   ]
  },
  {
   "cell_type": "code",
   "execution_count": 66,
   "metadata": {},
   "outputs": [
    {
     "data": {
      "text/plain": [
       "1    170\n",
       "3    110\n",
       "2     89\n",
       "Name: method, dtype: int64"
      ]
     },
     "execution_count": 66,
     "metadata": {},
     "output_type": "execute_result"
    }
   ],
   "source": [
    "df[df['wife_is_working'] == 0]['method'].value_counts()"
   ]
  },
  {
   "cell_type": "code",
   "execution_count": 67,
   "metadata": {},
   "outputs": [
    {
     "data": {
      "text/plain": [
       "<matplotlib.axes._subplots.AxesSubplot at 0x2103b6b6c88>"
      ]
     },
     "execution_count": 67,
     "metadata": {},
     "output_type": "execute_result"
    },
    {
     "data": {
      "image/png": "[encoded data removed]",
      "text/plain": [
       "<matplotlib.figure.Figure at 0x2103b6d2f98>"
      ]
     },
     "metadata": {},
     "output_type": "display_data"
    }
   ],
   "source": [
    "df.pivot_table('children_num', 'living_index', 'method', 'count').plot(kind='bar')"
   ]
  },
  {
   "cell_type": "code",
   "execution_count": 71,
   "metadata": {},
   "outputs": [
    {
     "data": {
      "text/plain": [
       "80"
      ]
     },
     "execution_count": 71,
     "metadata": {},
     "output_type": "execute_result"
    }
   ],
   "source": [
    "len(df[(df['living_index'] == 1) & (df['method'] == 1)])"
   ]
  },
  {
   "cell_type": "code",
   "execution_count": 73,
   "metadata": {},
   "outputs": [
    {
     "data": {
      "text/plain": [
       "0.6201550387596899"
      ]
     },
     "execution_count": 73,
     "metadata": {},
     "output_type": "execute_result"
    }
   ],
   "source": [
    "len(df[(df['living_index'] == 1) & (df['method'] == 1)])/len(df[df['living_index'] == 1])"
   ]
  },
  {
   "cell_type": "code",
   "execution_count": 74,
   "metadata": {},
   "outputs": [
    {
     "data": {
      "text/plain": [
       "0.06976744186046512"
      ]
     },
     "execution_count": 74,
     "metadata": {},
     "output_type": "execute_result"
    }
   ],
   "source": [
    "len(df[(df['living_index'] == 1) & (df['method'] == 2)])/len(df[df['living_index'] == 1])"
   ]
  },
  {
   "cell_type": "code",
   "execution_count": 75,
   "metadata": {},
   "outputs": [
    {
     "data": {
      "text/plain": [
       "0.31007751937984496"
      ]
     },
     "execution_count": 75,
     "metadata": {},
     "output_type": "execute_result"
    }
   ],
   "source": [
    "len(df[(df['living_index'] == 1) & (df['method'] == 3)])/len(df[df['living_index'] == 1])"
   ]
  },
  {
   "cell_type": "code",
   "execution_count": 76,
   "metadata": {},
   "outputs": [
    {
     "data": {
      "text/plain": [
       "0.5109170305676856"
      ]
     },
     "execution_count": 76,
     "metadata": {},
     "output_type": "execute_result"
    }
   ],
   "source": [
    "len(df[(df['living_index'] == 2) & (df['method'] == 1)])/len(df[df['living_index'] == 2])"
   ]
  },
  {
   "cell_type": "code",
   "execution_count": 77,
   "metadata": {},
   "outputs": [
    {
     "data": {
      "text/plain": [
       "0.13100436681222707"
      ]
     },
     "execution_count": 77,
     "metadata": {},
     "output_type": "execute_result"
    }
   ],
   "source": [
    "len(df[(df['living_index'] == 2) & (df['method'] == 2)])/len(df[df['living_index'] == 2])"
   ]
  },
  {
   "cell_type": "code",
   "execution_count": 78,
   "metadata": {},
   "outputs": [
    {
     "data": {
      "text/plain": [
       "0.35807860262008734"
      ]
     },
     "execution_count": 78,
     "metadata": {},
     "output_type": "execute_result"
    }
   ],
   "source": [
    "len(df[(df['living_index'] == 2) & (df['method'] == 3)])/len(df[df['living_index'] == 2])"
   ]
  },
  {
   "cell_type": "code",
   "execution_count": 79,
   "metadata": {},
   "outputs": [
    {
     "data": {
      "text/plain": [
       "0.42691415313225056"
      ]
     },
     "execution_count": 79,
     "metadata": {},
     "output_type": "execute_result"
    }
   ],
   "source": [
    "len(df[(df['living_index'] == 3) & (df['method'] == 1)])/len(df[df['living_index'] == 3])"
   ]
  },
  {
   "cell_type": "code",
   "execution_count": 80,
   "metadata": {},
   "outputs": [
    {
     "name": "stdout",
     "output_type": "stream",
     "text": [
      "0.6201550387596899\n",
      "0.5109170305676856\n",
      "0.42691415313225056\n",
      "0.36257309941520466\n"
     ]
    }
   ],
   "source": [
    "#percents of peaople that use method one in each class of living\n",
    "print(len(df[(df['living_index'] == 1) & (df['method'] == 1)])/len(df[df['living_index'] == 1]))\n",
    "print(len(df[(df['living_index'] == 2) & (df['method'] == 1)])/len(df[df['living_index'] == 2]))\n",
    "print(len(df[(df['living_index'] == 3) & (df['method'] == 1)])/len(df[df['living_index'] == 3]))\n",
    "print(len(df[(df['living_index'] == 4) & (df['method'] == 1)])/len(df[df['living_index'] == 4]))\n",
    "\n"
   ]
  },
  {
   "cell_type": "code",
   "execution_count": 81,
   "metadata": {},
   "outputs": [
    {
     "name": "stdout",
     "output_type": "stream",
     "text": [
      "0.06976744186046512\n",
      "0.13100436681222707\n",
      "0.2088167053364269\n",
      "0.2982456140350877\n"
     ]
    }
   ],
   "source": [
    "#percents of peaople that use method two in each class of living\n",
    "print(len(df[(df['living_index'] == 1) & (df['method'] == 2)])/len(df[df['living_index'] == 1]))\n",
    "print(len(df[(df['living_index'] == 2) & (df['method'] == 2)])/len(df[df['living_index'] == 2]))\n",
    "print(len(df[(df['living_index'] == 3) & (df['method'] == 2)])/len(df[df['living_index'] == 3]))\n",
    "print(len(df[(df['living_index'] == 4) & (df['method'] == 2)])/len(df[df['living_index'] == 4]))\n",
    "\n"
   ]
  },
  {
   "cell_type": "code",
   "execution_count": 82,
   "metadata": {},
   "outputs": [
    {
     "name": "stdout",
     "output_type": "stream",
     "text": [
      "0.31007751937984496\n",
      "0.35807860262008734\n",
      "0.3642691415313225\n",
      "0.3391812865497076\n"
     ]
    }
   ],
   "source": [
    "#percents of peaople that use method three in each class of living\n",
    "print(len(df[(df['living_index'] == 1) & (df['method'] == 3)])/len(df[df['living_index'] == 1]))\n",
    "print(len(df[(df['living_index'] == 2) & (df['method'] == 3)])/len(df[df['living_index'] == 2]))\n",
    "print(len(df[(df['living_index'] == 3) & (df['method'] == 3)])/len(df[df['living_index'] == 3]))\n",
    "print(len(df[(df['living_index'] == 4) & (df['method'] == 3)])/len(df[df['living_index'] == 4]))\n",
    "\n"
   ]
  },
  {
   "cell_type": "code",
   "execution_count": 83,
   "metadata": {},
   "outputs": [
    {
     "data": {
      "text/html": [
       "<div>\n",
       "<style>\n",
       "    .dataframe thead tr:only-child th {\n",
       "        text-align: right;\n",
       "    }\n",
       "\n",
       "    .dataframe thead th {\n",
       "        text-align: left;\n",
       "    }\n",
       "\n",
       "    .dataframe tbody tr th {\n",
       "        vertical-align: top;\n",
       "    }\n",
       "</style>\n",
       "<table border=\"1\" class=\"dataframe\">\n",
       "  <thead>\n",
       "    <tr style=\"text-align: right;\">\n",
       "      <th></th>\n",
       "      <th>wife_age</th>\n",
       "      <th>wife_edu</th>\n",
       "      <th>husb_edu</th>\n",
       "      <th>children_num</th>\n",
       "      <th>wife_is_working</th>\n",
       "      <th>husb_occupation</th>\n",
       "      <th>living_index</th>\n",
       "      <th>media_exposure</th>\n",
       "      <th>method</th>\n",
       "    </tr>\n",
       "  </thead>\n",
       "  <tbody>\n",
       "    <tr>\n",
       "      <th>0</th>\n",
       "      <td>1</td>\n",
       "      <td>2</td>\n",
       "      <td>3</td>\n",
       "      <td>3</td>\n",
       "      <td>1</td>\n",
       "      <td>2</td>\n",
       "      <td>3</td>\n",
       "      <td>0</td>\n",
       "      <td>1</td>\n",
       "    </tr>\n",
       "    <tr>\n",
       "      <th>1</th>\n",
       "      <td>3</td>\n",
       "      <td>1</td>\n",
       "      <td>3</td>\n",
       "      <td>10</td>\n",
       "      <td>1</td>\n",
       "      <td>3</td>\n",
       "      <td>4</td>\n",
       "      <td>0</td>\n",
       "      <td>1</td>\n",
       "    </tr>\n",
       "    <tr>\n",
       "      <th>2</th>\n",
       "      <td>3</td>\n",
       "      <td>2</td>\n",
       "      <td>3</td>\n",
       "      <td>7</td>\n",
       "      <td>1</td>\n",
       "      <td>3</td>\n",
       "      <td>4</td>\n",
       "      <td>0</td>\n",
       "      <td>1</td>\n",
       "    </tr>\n",
       "    <tr>\n",
       "      <th>3</th>\n",
       "      <td>3</td>\n",
       "      <td>3</td>\n",
       "      <td>2</td>\n",
       "      <td>9</td>\n",
       "      <td>1</td>\n",
       "      <td>3</td>\n",
       "      <td>3</td>\n",
       "      <td>0</td>\n",
       "      <td>1</td>\n",
       "    </tr>\n",
       "    <tr>\n",
       "      <th>4</th>\n",
       "      <td>2</td>\n",
       "      <td>3</td>\n",
       "      <td>3</td>\n",
       "      <td>8</td>\n",
       "      <td>1</td>\n",
       "      <td>3</td>\n",
       "      <td>2</td>\n",
       "      <td>0</td>\n",
       "      <td>1</td>\n",
       "    </tr>\n",
       "  </tbody>\n",
       "</table>\n",
       "</div>"
      ],
      "text/plain": [
       "   wife_age  wife_edu  husb_edu  children_num  wife_is_working  \\\n",
       "0         1         2         3             3                1   \n",
       "1         3         1         3            10                1   \n",
       "2         3         2         3             7                1   \n",
       "3         3         3         2             9                1   \n",
       "4         2         3         3             8                1   \n",
       "\n",
       "   husb_occupation  living_index  media_exposure  method  \n",
       "0                2             3               0       1  \n",
       "1                3             4               0       1  \n",
       "2                3             4               0       1  \n",
       "3                3             3               0       1  \n",
       "4                3             2               0       1  "
      ]
     },
     "execution_count": 83,
     "metadata": {},
     "output_type": "execute_result"
    }
   ],
   "source": [
    "df.head()"
   ]
  },
  {
   "cell_type": "code",
   "execution_count": 84,
   "metadata": {},
   "outputs": [
    {
     "data": {
      "text/plain": [
       "0    1364\n",
       "1     109\n",
       "Name: media_exposure, dtype: int64"
      ]
     },
     "execution_count": 84,
     "metadata": {},
     "output_type": "execute_result"
    }
   ],
   "source": [
    "df.media_exposure.value_counts()"
   ]
  },
  {
   "cell_type": "code",
   "execution_count": 85,
   "metadata": {},
   "outputs": [
    {
     "name": "stdout",
     "output_type": "stream",
     "text": [
      "1    74\n",
      "3    25\n",
      "2    10\n",
      "Name: method, dtype: int64\n",
      "1    555\n",
      "3    486\n",
      "2    323\n",
      "Name: method, dtype: int64\n"
     ]
    }
   ],
   "source": [
    "print(df[df['media_exposure'] == 1]['method'].value_counts())\n",
    "print(df[df['media_exposure'] == 0]['method'].value_counts())"
   ]
  },
  {
   "cell_type": "code",
   "execution_count": 92,
   "metadata": {},
   "outputs": [],
   "source": [
    "df = pd.concat([df, pd.get_dummies(df['children_num'], prefix='children')], axis=1)\n"
   ]
  },
  {
   "cell_type": "code",
   "execution_count": 93,
   "metadata": {},
   "outputs": [
    {
     "data": {
      "text/html": [
       "<div>\n",
       "<style>\n",
       "    .dataframe thead tr:only-child th {\n",
       "        text-align: right;\n",
       "    }\n",
       "\n",
       "    .dataframe thead th {\n",
       "        text-align: left;\n",
       "    }\n",
       "\n",
       "    .dataframe tbody tr th {\n",
       "        vertical-align: top;\n",
       "    }\n",
       "</style>\n",
       "<table border=\"1\" class=\"dataframe\">\n",
       "  <thead>\n",
       "    <tr style=\"text-align: right;\">\n",
       "      <th></th>\n",
       "      <th>wife_age</th>\n",
       "      <th>wife_edu</th>\n",
       "      <th>husb_edu</th>\n",
       "      <th>children_num</th>\n",
       "      <th>wife_is_working</th>\n",
       "      <th>husb_occupation</th>\n",
       "      <th>living_index</th>\n",
       "      <th>media_exposure</th>\n",
       "      <th>method</th>\n",
       "      <th>children_0</th>\n",
       "      <th>...</th>\n",
       "      <th>children_5</th>\n",
       "      <th>children_6</th>\n",
       "      <th>children_7</th>\n",
       "      <th>children_8</th>\n",
       "      <th>children_9</th>\n",
       "      <th>children_10</th>\n",
       "      <th>children_11</th>\n",
       "      <th>children_12</th>\n",
       "      <th>children_13</th>\n",
       "      <th>children_16</th>\n",
       "    </tr>\n",
       "  </thead>\n",
       "  <tbody>\n",
       "    <tr>\n",
       "      <th>0</th>\n",
       "      <td>1</td>\n",
       "      <td>2</td>\n",
       "      <td>3</td>\n",
       "      <td>3</td>\n",
       "      <td>1</td>\n",
       "      <td>2</td>\n",
       "      <td>3</td>\n",
       "      <td>0</td>\n",
       "      <td>1</td>\n",
       "      <td>0</td>\n",
       "      <td>...</td>\n",
       "      <td>0</td>\n",
       "      <td>0</td>\n",
       "      <td>0</td>\n",
       "      <td>0</td>\n",
       "      <td>0</td>\n",
       "      <td>0</td>\n",
       "      <td>0</td>\n",
       "      <td>0</td>\n",
       "      <td>0</td>\n",
       "      <td>0</td>\n",
       "    </tr>\n",
       "    <tr>\n",
       "      <th>1</th>\n",
       "      <td>3</td>\n",
       "      <td>1</td>\n",
       "      <td>3</td>\n",
       "      <td>10</td>\n",
       "      <td>1</td>\n",
       "      <td>3</td>\n",
       "      <td>4</td>\n",
       "      <td>0</td>\n",
       "      <td>1</td>\n",
       "      <td>0</td>\n",
       "      <td>...</td>\n",
       "      <td>0</td>\n",
       "      <td>0</td>\n",
       "      <td>0</td>\n",
       "      <td>0</td>\n",
       "      <td>0</td>\n",
       "      <td>1</td>\n",
       "      <td>0</td>\n",
       "      <td>0</td>\n",
       "      <td>0</td>\n",
       "      <td>0</td>\n",
       "    </tr>\n",
       "    <tr>\n",
       "      <th>2</th>\n",
       "      <td>3</td>\n",
       "      <td>2</td>\n",
       "      <td>3</td>\n",
       "      <td>7</td>\n",
       "      <td>1</td>\n",
       "      <td>3</td>\n",
       "      <td>4</td>\n",
       "      <td>0</td>\n",
       "      <td>1</td>\n",
       "      <td>0</td>\n",
       "      <td>...</td>\n",
       "      <td>0</td>\n",
       "      <td>0</td>\n",
       "      <td>1</td>\n",
       "      <td>0</td>\n",
       "      <td>0</td>\n",
       "      <td>0</td>\n",
       "      <td>0</td>\n",
       "      <td>0</td>\n",
       "      <td>0</td>\n",
       "      <td>0</td>\n",
       "    </tr>\n",
       "    <tr>\n",
       "      <th>3</th>\n",
       "      <td>3</td>\n",
       "      <td>3</td>\n",
       "      <td>2</td>\n",
       "      <td>9</td>\n",
       "      <td>1</td>\n",
       "      <td>3</td>\n",
       "      <td>3</td>\n",
       "      <td>0</td>\n",
       "      <td>1</td>\n",
       "      <td>0</td>\n",
       "      <td>...</td>\n",
       "      <td>0</td>\n",
       "      <td>0</td>\n",
       "      <td>0</td>\n",
       "      <td>0</td>\n",
       "      <td>1</td>\n",
       "      <td>0</td>\n",
       "      <td>0</td>\n",
       "      <td>0</td>\n",
       "      <td>0</td>\n",
       "      <td>0</td>\n",
       "    </tr>\n",
       "    <tr>\n",
       "      <th>4</th>\n",
       "      <td>2</td>\n",
       "      <td>3</td>\n",
       "      <td>3</td>\n",
       "      <td>8</td>\n",
       "      <td>1</td>\n",
       "      <td>3</td>\n",
       "      <td>2</td>\n",
       "      <td>0</td>\n",
       "      <td>1</td>\n",
       "      <td>0</td>\n",
       "      <td>...</td>\n",
       "      <td>0</td>\n",
       "      <td>0</td>\n",
       "      <td>0</td>\n",
       "      <td>1</td>\n",
       "      <td>0</td>\n",
       "      <td>0</td>\n",
       "      <td>0</td>\n",
       "      <td>0</td>\n",
       "      <td>0</td>\n",
       "      <td>0</td>\n",
       "    </tr>\n",
       "  </tbody>\n",
       "</table>\n",
       "<p>5 rows × 24 columns</p>\n",
       "</div>"
      ],
      "text/plain": [
       "   wife_age  wife_edu  husb_edu  children_num  wife_is_working  \\\n",
       "0         1         2         3             3                1   \n",
       "1         3         1         3            10                1   \n",
       "2         3         2         3             7                1   \n",
       "3         3         3         2             9                1   \n",
       "4         2         3         3             8                1   \n",
       "\n",
       "   husb_occupation  living_index  media_exposure  method  children_0  \\\n",
       "0                2             3               0       1           0   \n",
       "1                3             4               0       1           0   \n",
       "2                3             4               0       1           0   \n",
       "3                3             3               0       1           0   \n",
       "4                3             2               0       1           0   \n",
       "\n",
       "      ...       children_5  children_6  children_7  children_8  children_9  \\\n",
       "0     ...                0           0           0           0           0   \n",
       "1     ...                0           0           0           0           0   \n",
       "2     ...                0           0           1           0           0   \n",
       "3     ...                0           0           0           0           1   \n",
       "4     ...                0           0           0           1           0   \n",
       "\n",
       "   children_10  children_11  children_12  children_13  children_16  \n",
       "0            0            0            0            0            0  \n",
       "1            1            0            0            0            0  \n",
       "2            0            0            0            0            0  \n",
       "3            0            0            0            0            0  \n",
       "4            0            0            0            0            0  \n",
       "\n",
       "[5 rows x 24 columns]"
      ]
     },
     "execution_count": 93,
     "metadata": {},
     "output_type": "execute_result"
    }
   ],
   "source": [
    "df.head()"
   ]
  },
  {
   "cell_type": "code",
   "execution_count": 94,
   "metadata": {},
   "outputs": [],
   "source": [
    "df = df.drop('children_num', 1)"
   ]
  },
  {
   "cell_type": "code",
   "execution_count": 95,
   "metadata": {},
   "outputs": [
    {
     "data": {
      "text/html": [
       "<div>\n",
       "<style>\n",
       "    .dataframe thead tr:only-child th {\n",
       "        text-align: right;\n",
       "    }\n",
       "\n",
       "    .dataframe thead th {\n",
       "        text-align: left;\n",
       "    }\n",
       "\n",
       "    .dataframe tbody tr th {\n",
       "        vertical-align: top;\n",
       "    }\n",
       "</style>\n",
       "<table border=\"1\" class=\"dataframe\">\n",
       "  <thead>\n",
       "    <tr style=\"text-align: right;\">\n",
       "      <th></th>\n",
       "      <th>wife_age</th>\n",
       "      <th>wife_edu</th>\n",
       "      <th>husb_edu</th>\n",
       "      <th>wife_is_working</th>\n",
       "      <th>husb_occupation</th>\n",
       "      <th>living_index</th>\n",
       "      <th>media_exposure</th>\n",
       "      <th>method</th>\n",
       "      <th>children_0</th>\n",
       "      <th>children_1</th>\n",
       "      <th>...</th>\n",
       "      <th>children_5</th>\n",
       "      <th>children_6</th>\n",
       "      <th>children_7</th>\n",
       "      <th>children_8</th>\n",
       "      <th>children_9</th>\n",
       "      <th>children_10</th>\n",
       "      <th>children_11</th>\n",
       "      <th>children_12</th>\n",
       "      <th>children_13</th>\n",
       "      <th>children_16</th>\n",
       "    </tr>\n",
       "  </thead>\n",
       "  <tbody>\n",
       "    <tr>\n",
       "      <th>0</th>\n",
       "      <td>1</td>\n",
       "      <td>2</td>\n",
       "      <td>3</td>\n",
       "      <td>1</td>\n",
       "      <td>2</td>\n",
       "      <td>3</td>\n",
       "      <td>0</td>\n",
       "      <td>1</td>\n",
       "      <td>0</td>\n",
       "      <td>0</td>\n",
       "      <td>...</td>\n",
       "      <td>0</td>\n",
       "      <td>0</td>\n",
       "      <td>0</td>\n",
       "      <td>0</td>\n",
       "      <td>0</td>\n",
       "      <td>0</td>\n",
       "      <td>0</td>\n",
       "      <td>0</td>\n",
       "      <td>0</td>\n",
       "      <td>0</td>\n",
       "    </tr>\n",
       "    <tr>\n",
       "      <th>1</th>\n",
       "      <td>3</td>\n",
       "      <td>1</td>\n",
       "      <td>3</td>\n",
       "      <td>1</td>\n",
       "      <td>3</td>\n",
       "      <td>4</td>\n",
       "      <td>0</td>\n",
       "      <td>1</td>\n",
       "      <td>0</td>\n",
       "      <td>0</td>\n",
       "      <td>...</td>\n",
       "      <td>0</td>\n",
       "      <td>0</td>\n",
       "      <td>0</td>\n",
       "      <td>0</td>\n",
       "      <td>0</td>\n",
       "      <td>1</td>\n",
       "      <td>0</td>\n",
       "      <td>0</td>\n",
       "      <td>0</td>\n",
       "      <td>0</td>\n",
       "    </tr>\n",
       "    <tr>\n",
       "      <th>2</th>\n",
       "      <td>3</td>\n",
       "      <td>2</td>\n",
       "      <td>3</td>\n",
       "      <td>1</td>\n",
       "      <td>3</td>\n",
       "      <td>4</td>\n",
       "      <td>0</td>\n",
       "      <td>1</td>\n",
       "      <td>0</td>\n",
       "      <td>0</td>\n",
       "      <td>...</td>\n",
       "      <td>0</td>\n",
       "      <td>0</td>\n",
       "      <td>1</td>\n",
       "      <td>0</td>\n",
       "      <td>0</td>\n",
       "      <td>0</td>\n",
       "      <td>0</td>\n",
       "      <td>0</td>\n",
       "      <td>0</td>\n",
       "      <td>0</td>\n",
       "    </tr>\n",
       "    <tr>\n",
       "      <th>3</th>\n",
       "      <td>3</td>\n",
       "      <td>3</td>\n",
       "      <td>2</td>\n",
       "      <td>1</td>\n",
       "      <td>3</td>\n",
       "      <td>3</td>\n",
       "      <td>0</td>\n",
       "      <td>1</td>\n",
       "      <td>0</td>\n",
       "      <td>0</td>\n",
       "      <td>...</td>\n",
       "      <td>0</td>\n",
       "      <td>0</td>\n",
       "      <td>0</td>\n",
       "      <td>0</td>\n",
       "      <td>1</td>\n",
       "      <td>0</td>\n",
       "      <td>0</td>\n",
       "      <td>0</td>\n",
       "      <td>0</td>\n",
       "      <td>0</td>\n",
       "    </tr>\n",
       "    <tr>\n",
       "      <th>4</th>\n",
       "      <td>2</td>\n",
       "      <td>3</td>\n",
       "      <td>3</td>\n",
       "      <td>1</td>\n",
       "      <td>3</td>\n",
       "      <td>2</td>\n",
       "      <td>0</td>\n",
       "      <td>1</td>\n",
       "      <td>0</td>\n",
       "      <td>0</td>\n",
       "      <td>...</td>\n",
       "      <td>0</td>\n",
       "      <td>0</td>\n",
       "      <td>0</td>\n",
       "      <td>1</td>\n",
       "      <td>0</td>\n",
       "      <td>0</td>\n",
       "      <td>0</td>\n",
       "      <td>0</td>\n",
       "      <td>0</td>\n",
       "      <td>0</td>\n",
       "    </tr>\n",
       "  </tbody>\n",
       "</table>\n",
       "<p>5 rows × 23 columns</p>\n",
       "</div>"
      ],
      "text/plain": [
       "   wife_age  wife_edu  husb_edu  wife_is_working  husb_occupation  \\\n",
       "0         1         2         3                1                2   \n",
       "1         3         1         3                1                3   \n",
       "2         3         2         3                1                3   \n",
       "3         3         3         2                1                3   \n",
       "4         2         3         3                1                3   \n",
       "\n",
       "   living_index  media_exposure  method  children_0  children_1     ...       \\\n",
       "0             3               0       1           0           0     ...        \n",
       "1             4               0       1           0           0     ...        \n",
       "2             4               0       1           0           0     ...        \n",
       "3             3               0       1           0           0     ...        \n",
       "4             2               0       1           0           0     ...        \n",
       "\n",
       "   children_5  children_6  children_7  children_8  children_9  children_10  \\\n",
       "0           0           0           0           0           0            0   \n",
       "1           0           0           0           0           0            1   \n",
       "2           0           0           1           0           0            0   \n",
       "3           0           0           0           0           1            0   \n",
       "4           0           0           0           1           0            0   \n",
       "\n",
       "   children_11  children_12  children_13  children_16  \n",
       "0            0            0            0            0  \n",
       "1            0            0            0            0  \n",
       "2            0            0            0            0  \n",
       "3            0            0            0            0  \n",
       "4            0            0            0            0  \n",
       "\n",
       "[5 rows x 23 columns]"
      ]
     },
     "execution_count": 95,
     "metadata": {},
     "output_type": "execute_result"
    }
   ],
   "source": [
    "df.head()"
   ]
  },
  {
   "cell_type": "code",
   "execution_count": 97,
   "metadata": {},
   "outputs": [
    {
     "data": {
      "text/html": [
       "<div>\n",
       "<style>\n",
       "    .dataframe thead tr:only-child th {\n",
       "        text-align: right;\n",
       "    }\n",
       "\n",
       "    .dataframe thead th {\n",
       "        text-align: left;\n",
       "    }\n",
       "\n",
       "    .dataframe tbody tr th {\n",
       "        vertical-align: top;\n",
       "    }\n",
       "</style>\n",
       "<table border=\"1\" class=\"dataframe\">\n",
       "  <thead>\n",
       "    <tr style=\"text-align: right;\">\n",
       "      <th></th>\n",
       "      <th>wife_age</th>\n",
       "      <th>wife_edu</th>\n",
       "      <th>husb_edu</th>\n",
       "      <th>wife_is_working</th>\n",
       "      <th>husb_occupation</th>\n",
       "      <th>living_index</th>\n",
       "      <th>media_exposure</th>\n",
       "      <th>children_0</th>\n",
       "      <th>children_1</th>\n",
       "      <th>children_2</th>\n",
       "      <th>...</th>\n",
       "      <th>children_5</th>\n",
       "      <th>children_6</th>\n",
       "      <th>children_7</th>\n",
       "      <th>children_8</th>\n",
       "      <th>children_9</th>\n",
       "      <th>children_10</th>\n",
       "      <th>children_11</th>\n",
       "      <th>children_12</th>\n",
       "      <th>children_13</th>\n",
       "      <th>children_16</th>\n",
       "    </tr>\n",
       "  </thead>\n",
       "  <tbody>\n",
       "    <tr>\n",
       "      <th>0</th>\n",
       "      <td>1</td>\n",
       "      <td>2</td>\n",
       "      <td>3</td>\n",
       "      <td>1</td>\n",
       "      <td>2</td>\n",
       "      <td>3</td>\n",
       "      <td>0</td>\n",
       "      <td>0</td>\n",
       "      <td>0</td>\n",
       "      <td>0</td>\n",
       "      <td>...</td>\n",
       "      <td>0</td>\n",
       "      <td>0</td>\n",
       "      <td>0</td>\n",
       "      <td>0</td>\n",
       "      <td>0</td>\n",
       "      <td>0</td>\n",
       "      <td>0</td>\n",
       "      <td>0</td>\n",
       "      <td>0</td>\n",
       "      <td>0</td>\n",
       "    </tr>\n",
       "    <tr>\n",
       "      <th>1</th>\n",
       "      <td>3</td>\n",
       "      <td>1</td>\n",
       "      <td>3</td>\n",
       "      <td>1</td>\n",
       "      <td>3</td>\n",
       "      <td>4</td>\n",
       "      <td>0</td>\n",
       "      <td>0</td>\n",
       "      <td>0</td>\n",
       "      <td>0</td>\n",
       "      <td>...</td>\n",
       "      <td>0</td>\n",
       "      <td>0</td>\n",
       "      <td>0</td>\n",
       "      <td>0</td>\n",
       "      <td>0</td>\n",
       "      <td>1</td>\n",
       "      <td>0</td>\n",
       "      <td>0</td>\n",
       "      <td>0</td>\n",
       "      <td>0</td>\n",
       "    </tr>\n",
       "    <tr>\n",
       "      <th>2</th>\n",
       "      <td>3</td>\n",
       "      <td>2</td>\n",
       "      <td>3</td>\n",
       "      <td>1</td>\n",
       "      <td>3</td>\n",
       "      <td>4</td>\n",
       "      <td>0</td>\n",
       "      <td>0</td>\n",
       "      <td>0</td>\n",
       "      <td>0</td>\n",
       "      <td>...</td>\n",
       "      <td>0</td>\n",
       "      <td>0</td>\n",
       "      <td>1</td>\n",
       "      <td>0</td>\n",
       "      <td>0</td>\n",
       "      <td>0</td>\n",
       "      <td>0</td>\n",
       "      <td>0</td>\n",
       "      <td>0</td>\n",
       "      <td>0</td>\n",
       "    </tr>\n",
       "    <tr>\n",
       "      <th>3</th>\n",
       "      <td>3</td>\n",
       "      <td>3</td>\n",
       "      <td>2</td>\n",
       "      <td>1</td>\n",
       "      <td>3</td>\n",
       "      <td>3</td>\n",
       "      <td>0</td>\n",
       "      <td>0</td>\n",
       "      <td>0</td>\n",
       "      <td>0</td>\n",
       "      <td>...</td>\n",
       "      <td>0</td>\n",
       "      <td>0</td>\n",
       "      <td>0</td>\n",
       "      <td>0</td>\n",
       "      <td>1</td>\n",
       "      <td>0</td>\n",
       "      <td>0</td>\n",
       "      <td>0</td>\n",
       "      <td>0</td>\n",
       "      <td>0</td>\n",
       "    </tr>\n",
       "    <tr>\n",
       "      <th>4</th>\n",
       "      <td>2</td>\n",
       "      <td>3</td>\n",
       "      <td>3</td>\n",
       "      <td>1</td>\n",
       "      <td>3</td>\n",
       "      <td>2</td>\n",
       "      <td>0</td>\n",
       "      <td>0</td>\n",
       "      <td>0</td>\n",
       "      <td>0</td>\n",
       "      <td>...</td>\n",
       "      <td>0</td>\n",
       "      <td>0</td>\n",
       "      <td>0</td>\n",
       "      <td>1</td>\n",
       "      <td>0</td>\n",
       "      <td>0</td>\n",
       "      <td>0</td>\n",
       "      <td>0</td>\n",
       "      <td>0</td>\n",
       "      <td>0</td>\n",
       "    </tr>\n",
       "  </tbody>\n",
       "</table>\n",
       "<p>5 rows × 22 columns</p>\n",
       "</div>"
      ],
      "text/plain": [
       "   wife_age  wife_edu  husb_edu  wife_is_working  husb_occupation  \\\n",
       "0         1         2         3                1                2   \n",
       "1         3         1         3                1                3   \n",
       "2         3         2         3                1                3   \n",
       "3         3         3         2                1                3   \n",
       "4         2         3         3                1                3   \n",
       "\n",
       "   living_index  media_exposure  children_0  children_1  children_2  \\\n",
       "0             3               0           0           0           0   \n",
       "1             4               0           0           0           0   \n",
       "2             4               0           0           0           0   \n",
       "3             3               0           0           0           0   \n",
       "4             2               0           0           0           0   \n",
       "\n",
       "      ...       children_5  children_6  children_7  children_8  children_9  \\\n",
       "0     ...                0           0           0           0           0   \n",
       "1     ...                0           0           0           0           0   \n",
       "2     ...                0           0           1           0           0   \n",
       "3     ...                0           0           0           0           1   \n",
       "4     ...                0           0           0           1           0   \n",
       "\n",
       "   children_10  children_11  children_12  children_13  children_16  \n",
       "0            0            0            0            0            0  \n",
       "1            1            0            0            0            0  \n",
       "2            0            0            0            0            0  \n",
       "3            0            0            0            0            0  \n",
       "4            0            0            0            0            0  \n",
       "\n",
       "[5 rows x 22 columns]"
      ]
     },
     "execution_count": 97,
     "metadata": {},
     "output_type": "execute_result"
    }
   ],
   "source": [
    "df.loc[:, df.columns != 'method'].head()"
   ]
  },
  {
   "cell_type": "code",
   "execution_count": 98,
   "metadata": {},
   "outputs": [],
   "source": [
    "X_train, X_test, Y_train, Y_test = train_test_split(df.loc[:, df.columns != 'method'], \n",
    "                                                    df['method'], test_size=0.33 , random_state=42)"
   ]
  },
  {
   "cell_type": "code",
   "execution_count": 99,
   "metadata": {},
   "outputs": [
    {
     "data": {
      "text/plain": [
       "986"
      ]
     },
     "execution_count": 99,
     "metadata": {},
     "output_type": "execute_result"
    }
   ],
   "source": [
    "len(X_train)"
   ]
  },
  {
   "cell_type": "code",
   "execution_count": 100,
   "metadata": {},
   "outputs": [
    {
     "data": {
      "text/plain": [
       "487"
      ]
     },
     "execution_count": 100,
     "metadata": {},
     "output_type": "execute_result"
    }
   ],
   "source": [
    "len(X_test)"
   ]
  },
  {
   "cell_type": "code",
   "execution_count": 101,
   "metadata": {},
   "outputs": [
    {
     "data": {
      "text/plain": [
       "617     2\n",
       "558     2\n",
       "490     2\n",
       "1344    3\n",
       "308     1\n",
       "Name: method, dtype: int64"
      ]
     },
     "execution_count": 101,
     "metadata": {},
     "output_type": "execute_result"
    }
   ],
   "source": [
    "Y_train.head()"
   ]
  },
  {
   "cell_type": "code",
   "execution_count": 103,
   "metadata": {},
   "outputs": [
    {
     "name": "stdout",
     "output_type": "stream",
     "text": [
      "LogisticRegression(C=1, class_weight=None, dual=False, fit_intercept=True,\n",
      "          intercept_scaling=1, max_iter=100, multi_class='ovr', n_jobs=1,\n",
      "          penalty='l2', random_state=None, solver='liblinear', tol=0.0001,\n",
      "          verbose=0, warm_start=False)\n",
      "LinReg 0.542094455852\n",
      "\n",
      " KNeighborsClassifier(algorithm='auto', leaf_size=30, metric='minkowski',\n",
      "           metric_params=None, n_jobs=1, n_neighbors=22, p=1,\n",
      "           weights='uniform')\n",
      "\n",
      " Kneighbors 0.544147843943\n",
      "\n",
      " RandomForestClassifier(bootstrap=True, class_weight=None, criterion='gini',\n",
      "            max_depth=None, max_features='auto', max_leaf_nodes=None,\n",
      "            min_impurity_split=1e-07, min_samples_leaf=1,\n",
      "            min_samples_split=2, min_weight_fraction_leaf=0.0,\n",
      "            n_estimators=180, n_jobs=1, oob_score=False, random_state=None,\n",
      "            verbose=0, warm_start=False)\n",
      "\n",
      " RandomForest 0.544147843943\n"
     ]
    }
   ],
   "source": [
    "params_lr = {'penalty': ['l1','l2'], 'C': [0.001, 0.01, 0.1, 1, 10, 100, 1000] }\n",
    "params_kn = {'n_neighbors': [x for x in range(2,50,4)], 'p': [x for x in range(1,5)] }\n",
    "params_rf = {'n_estimators': [x for x in range(10,200,10)]}\n",
    "\n",
    "\n",
    "LR_grid = GridSearchCV(estimator=LogisticRegression(), param_grid=params_lr, n_jobs=-1, cv=5)\n",
    "LR_grid.fit(X_train, Y_train)\n",
    "print(LR_grid.best_estimator_)\n",
    "predicted_by_LR = LR_grid.best_estimator_.predict(X_test)\n",
    "accuracy_by_best_LR = accuracy_score(Y_test, predicted_by_LR)\n",
    "print('LinReg', accuracy_by_best_LR)\n",
    "    \n",
    "KN_grid = GridSearchCV(estimator=KNeighborsClassifier(), param_grid=params_kn, n_jobs=-1, cv=5)\n",
    "KN_grid.fit(X_train, Y_train)\n",
    "print('\\n',KN_grid.best_estimator_)\n",
    "predicted_by_KN = KN_grid.best_estimator_.predict(X_test)\n",
    "accuracy_by_best_KN = accuracy_score(Y_test, predicted_by_KN)\n",
    "print('\\n', 'Kneighbors', accuracy_by_best_KN)\n",
    "\n",
    "RF_grid = GridSearchCV(estimator=RandomForestClassifier(), param_grid=params_rf, n_jobs=-1, cv=5)\n",
    "RF_grid.fit(X_train, Y_train)\n",
    "print('\\n',RF_grid.best_estimator_)\n",
    "predicted_by_RF = RF_grid.best_estimator_.predict(X_test)\n",
    "accuracy_by_best_RF = accuracy_score(Y_test, predicted_by_RF)\n",
    "print('\\n', 'RandomForest', accuracy_by_best_RF)\n",
    "\n"
   ]
  },
  {
   "cell_type": "code",
   "execution_count": 104,
   "metadata": {},
   "outputs": [
    {
     "name": "stdout",
     "output_type": "stream",
     "text": [
      "\\RandForest: \n",
      "              precision    recall  f1-score   support\n",
      "\n",
      "          1       0.63      0.64      0.63       206\n",
      "          2       0.46      0.33      0.38       120\n",
      "          3       0.49      0.58      0.53       161\n",
      "\n",
      "avg / total       0.54      0.54      0.54       487\n",
      "\n"
     ]
    }
   ],
   "source": [
    "print('\\RandForest: \\n', classification_report(Y_test, predicted_by_RF))"
   ]
  },
  {
   "cell_type": "code",
   "execution_count": 105,
   "metadata": {},
   "outputs": [],
   "source": [
    "from sklearn.metrics import confusion_matrix"
   ]
  },
  {
   "cell_type": "code",
   "execution_count": 106,
   "metadata": {},
   "outputs": [
    {
     "name": "stdout",
     "output_type": "stream",
     "text": [
      "\\RandForest: \n",
      " [[132  21  53]\n",
      " [ 36  39  45]\n",
      " [ 43  24  94]]\n"
     ]
    }
   ],
   "source": [
    "print('\\RandForest: \\n', confusion_matrix(Y_test, predicted_by_RF))"
   ]
  },
  {
   "cell_type": "code",
   "execution_count": 109,
   "metadata": {},
   "outputs": [
    {
     "data": {
      "text/plain": [
       "<matplotlib.axes._subplots.AxesSubplot at 0x2103c1ba2e8>"
      ]
     },
     "execution_count": 109,
     "metadata": {},
     "output_type": "execute_result"
    },
    {
     "data": {
      "image/png": "[encoded data removed]",
      "text/plain": [
       "<matplotlib.figure.Figure at 0x2103c1b1630>"
      ]
     },
     "metadata": {},
     "output_type": "display_data"
    }
   ],
   "source": [
    "df.pivot_table('wife_is_working', 'wife_edu', 'method', 'count').plot(kind='bar')"
   ]
  },
  {
   "cell_type": "code",
   "execution_count": 110,
   "metadata": {},
   "outputs": [
    {
     "data": {
      "text/plain": [
       "<matplotlib.axes._subplots.AxesSubplot at 0x2103bd1ddd8>"
      ]
     },
     "execution_count": 110,
     "metadata": {},
     "output_type": "execute_result"
    },
    {
     "data": {
      "image/png": "[encoded data removed]",
      "text/plain": [
       "<matplotlib.figure.Figure at 0x2103be125f8>"
      ]
     },
     "metadata": {},
     "output_type": "display_data"
    }
   ],
   "source": [
    "df.pivot_table('wife_is_working', 'husb_edu', 'method', 'count').plot(kind='bar')"
   ]
  },
  {
   "cell_type": "code",
   "execution_count": 108,
   "metadata": {},
   "outputs": [
    {
     "data": {
      "text/html": [
       "<div>\n",
       "<style>\n",
       "    .dataframe thead tr:only-child th {\n",
       "        text-align: right;\n",
       "    }\n",
       "\n",
       "    .dataframe thead th {\n",
       "        text-align: left;\n",
       "    }\n",
       "\n",
       "    .dataframe tbody tr th {\n",
       "        vertical-align: top;\n",
       "    }\n",
       "</style>\n",
       "<table border=\"1\" class=\"dataframe\">\n",
       "  <thead>\n",
       "    <tr style=\"text-align: right;\">\n",
       "      <th></th>\n",
       "      <th>wife_age</th>\n",
       "      <th>wife_edu</th>\n",
       "      <th>husb_edu</th>\n",
       "      <th>wife_is_working</th>\n",
       "      <th>husb_occupation</th>\n",
       "      <th>living_index</th>\n",
       "      <th>media_exposure</th>\n",
       "      <th>method</th>\n",
       "      <th>children_0</th>\n",
       "      <th>children_1</th>\n",
       "      <th>...</th>\n",
       "      <th>children_5</th>\n",
       "      <th>children_6</th>\n",
       "      <th>children_7</th>\n",
       "      <th>children_8</th>\n",
       "      <th>children_9</th>\n",
       "      <th>children_10</th>\n",
       "      <th>children_11</th>\n",
       "      <th>children_12</th>\n",
       "      <th>children_13</th>\n",
       "      <th>children_16</th>\n",
       "    </tr>\n",
       "  </thead>\n",
       "  <tbody>\n",
       "    <tr>\n",
       "      <th>0</th>\n",
       "      <td>1</td>\n",
       "      <td>2</td>\n",
       "      <td>3</td>\n",
       "      <td>1</td>\n",
       "      <td>2</td>\n",
       "      <td>3</td>\n",
       "      <td>0</td>\n",
       "      <td>1</td>\n",
       "      <td>0</td>\n",
       "      <td>0</td>\n",
       "      <td>...</td>\n",
       "      <td>0</td>\n",
       "      <td>0</td>\n",
       "      <td>0</td>\n",
       "      <td>0</td>\n",
       "      <td>0</td>\n",
       "      <td>0</td>\n",
       "      <td>0</td>\n",
       "      <td>0</td>\n",
       "      <td>0</td>\n",
       "      <td>0</td>\n",
       "    </tr>\n",
       "    <tr>\n",
       "      <th>1</th>\n",
       "      <td>3</td>\n",
       "      <td>1</td>\n",
       "      <td>3</td>\n",
       "      <td>1</td>\n",
       "      <td>3</td>\n",
       "      <td>4</td>\n",
       "      <td>0</td>\n",
       "      <td>1</td>\n",
       "      <td>0</td>\n",
       "      <td>0</td>\n",
       "      <td>...</td>\n",
       "      <td>0</td>\n",
       "      <td>0</td>\n",
       "      <td>0</td>\n",
       "      <td>0</td>\n",
       "      <td>0</td>\n",
       "      <td>1</td>\n",
       "      <td>0</td>\n",
       "      <td>0</td>\n",
       "      <td>0</td>\n",
       "      <td>0</td>\n",
       "    </tr>\n",
       "    <tr>\n",
       "      <th>2</th>\n",
       "      <td>3</td>\n",
       "      <td>2</td>\n",
       "      <td>3</td>\n",
       "      <td>1</td>\n",
       "      <td>3</td>\n",
       "      <td>4</td>\n",
       "      <td>0</td>\n",
       "      <td>1</td>\n",
       "      <td>0</td>\n",
       "      <td>0</td>\n",
       "      <td>...</td>\n",
       "      <td>0</td>\n",
       "      <td>0</td>\n",
       "      <td>1</td>\n",
       "      <td>0</td>\n",
       "      <td>0</td>\n",
       "      <td>0</td>\n",
       "      <td>0</td>\n",
       "      <td>0</td>\n",
       "      <td>0</td>\n",
       "      <td>0</td>\n",
       "    </tr>\n",
       "    <tr>\n",
       "      <th>3</th>\n",
       "      <td>3</td>\n",
       "      <td>3</td>\n",
       "      <td>2</td>\n",
       "      <td>1</td>\n",
       "      <td>3</td>\n",
       "      <td>3</td>\n",
       "      <td>0</td>\n",
       "      <td>1</td>\n",
       "      <td>0</td>\n",
       "      <td>0</td>\n",
       "      <td>...</td>\n",
       "      <td>0</td>\n",
       "      <td>0</td>\n",
       "      <td>0</td>\n",
       "      <td>0</td>\n",
       "      <td>1</td>\n",
       "      <td>0</td>\n",
       "      <td>0</td>\n",
       "      <td>0</td>\n",
       "      <td>0</td>\n",
       "      <td>0</td>\n",
       "    </tr>\n",
       "    <tr>\n",
       "      <th>4</th>\n",
       "      <td>2</td>\n",
       "      <td>3</td>\n",
       "      <td>3</td>\n",
       "      <td>1</td>\n",
       "      <td>3</td>\n",
       "      <td>2</td>\n",
       "      <td>0</td>\n",
       "      <td>1</td>\n",
       "      <td>0</td>\n",
       "      <td>0</td>\n",
       "      <td>...</td>\n",
       "      <td>0</td>\n",
       "      <td>0</td>\n",
       "      <td>0</td>\n",
       "      <td>1</td>\n",
       "      <td>0</td>\n",
       "      <td>0</td>\n",
       "      <td>0</td>\n",
       "      <td>0</td>\n",
       "      <td>0</td>\n",
       "      <td>0</td>\n",
       "    </tr>\n",
       "  </tbody>\n",
       "</table>\n",
       "<p>5 rows × 23 columns</p>\n",
       "</div>"
      ],
      "text/plain": [
       "   wife_age  wife_edu  husb_edu  wife_is_working  husb_occupation  \\\n",
       "0         1         2         3                1                2   \n",
       "1         3         1         3                1                3   \n",
       "2         3         2         3                1                3   \n",
       "3         3         3         2                1                3   \n",
       "4         2         3         3                1                3   \n",
       "\n",
       "   living_index  media_exposure  method  children_0  children_1     ...       \\\n",
       "0             3               0       1           0           0     ...        \n",
       "1             4               0       1           0           0     ...        \n",
       "2             4               0       1           0           0     ...        \n",
       "3             3               0       1           0           0     ...        \n",
       "4             2               0       1           0           0     ...        \n",
       "\n",
       "   children_5  children_6  children_7  children_8  children_9  children_10  \\\n",
       "0           0           0           0           0           0            0   \n",
       "1           0           0           0           0           0            1   \n",
       "2           0           0           1           0           0            0   \n",
       "3           0           0           0           0           1            0   \n",
       "4           0           0           0           1           0            0   \n",
       "\n",
       "   children_11  children_12  children_13  children_16  \n",
       "0            0            0            0            0  \n",
       "1            0            0            0            0  \n",
       "2            0            0            0            0  \n",
       "3            0            0            0            0  \n",
       "4            0            0            0            0  \n",
       "\n",
       "[5 rows x 23 columns]"
      ]
     },
     "execution_count": 108,
     "metadata": {},
     "output_type": "execute_result"
    }
   ],
   "source": [
    "df.head()\n"
   ]
  },
  {
   "cell_type": "code",
   "execution_count": 111,
   "metadata": {},
   "outputs": [],
   "source": [
    "df['wife_edu'] = df['wife_edu'].map(lambda x: 0 if x < 4 else 1)"
   ]
  },
  {
   "cell_type": "code",
   "execution_count": 112,
   "metadata": {},
   "outputs": [],
   "source": [
    "df['husb_edu'] = df['husb_edu'].map(lambda x: 0 if x < 4 else 1)"
   ]
  },
  {
   "cell_type": "code",
   "execution_count": 113,
   "metadata": {},
   "outputs": [],
   "source": [
    "X_train, X_test, Y_train, Y_test = train_test_split(df.loc[:, df.columns != 'method'], \n",
    "                                                    df['method'], test_size=0.33 , random_state=42)"
   ]
  },
  {
   "cell_type": "code",
   "execution_count": 114,
   "metadata": {},
   "outputs": [
    {
     "name": "stdout",
     "output_type": "stream",
     "text": [
      "LogisticRegression(C=1, class_weight=None, dual=False, fit_intercept=True,\n",
      "          intercept_scaling=1, max_iter=100, multi_class='ovr', n_jobs=1,\n",
      "          penalty='l1', random_state=None, solver='liblinear', tol=0.0001,\n",
      "          verbose=0, warm_start=False)\n",
      "LinReg 0.554414784394\n",
      "\n",
      " KNeighborsClassifier(algorithm='auto', leaf_size=30, metric='minkowski',\n",
      "           metric_params=None, n_jobs=1, n_neighbors=38, p=3,\n",
      "           weights='uniform')\n",
      "\n",
      " Kneighbors 0.52977412731\n",
      "\n",
      " RandomForestClassifier(bootstrap=True, class_weight=None, criterion='gini',\n",
      "            max_depth=None, max_features='auto', max_leaf_nodes=None,\n",
      "            min_impurity_split=1e-07, min_samples_leaf=1,\n",
      "            min_samples_split=2, min_weight_fraction_leaf=0.0,\n",
      "            n_estimators=170, n_jobs=1, oob_score=False, random_state=None,\n",
      "            verbose=0, warm_start=False)\n",
      "\n",
      " RandomForest 0.525667351129\n"
     ]
    }
   ],
   "source": [
    "params_lr = {'penalty': ['l1','l2'], 'C': [0.001, 0.01, 0.1, 1, 10, 100, 1000] }\n",
    "params_kn = {'n_neighbors': [x for x in range(2,50,4)], 'p': [x for x in range(1,5)] }\n",
    "params_rf = {'n_estimators': [x for x in range(10,200,10)]}\n",
    "\n",
    "\n",
    "LR_grid = GridSearchCV(estimator=LogisticRegression(), param_grid=params_lr, n_jobs=-1, cv=5)\n",
    "LR_grid.fit(X_train, Y_train)\n",
    "print(LR_grid.best_estimator_)\n",
    "predicted_by_LR = LR_grid.best_estimator_.predict(X_test)\n",
    "accuracy_by_best_LR = accuracy_score(Y_test, predicted_by_LR)\n",
    "print('LinReg', accuracy_by_best_LR)\n",
    "    \n",
    "KN_grid = GridSearchCV(estimator=KNeighborsClassifier(), param_grid=params_kn, n_jobs=-1, cv=5)\n",
    "KN_grid.fit(X_train, Y_train)\n",
    "print('\\n',KN_grid.best_estimator_)\n",
    "predicted_by_KN = KN_grid.best_estimator_.predict(X_test)\n",
    "accuracy_by_best_KN = accuracy_score(Y_test, predicted_by_KN)\n",
    "print('\\n', 'Kneighbors', accuracy_by_best_KN)\n",
    "\n",
    "RF_grid = GridSearchCV(estimator=RandomForestClassifier(), param_grid=params_rf, n_jobs=-1, cv=5)\n",
    "RF_grid.fit(X_train, Y_train)\n",
    "print('\\n',RF_grid.best_estimator_)\n",
    "predicted_by_RF = RF_grid.best_estimator_.predict(X_test)\n",
    "accuracy_by_best_RF = accuracy_score(Y_test, predicted_by_RF)\n",
    "print('\\n', 'RandomForest', accuracy_by_best_RF)\n",
    "\n"
   ]
  },
  {
   "cell_type": "code",
   "execution_count": 115,
   "metadata": {},
   "outputs": [
    {
     "name": "stdout",
     "output_type": "stream",
     "text": [
      "\\RandForest: \n",
      " [[143  12  51]\n",
      " [ 31  32  57]\n",
      " [ 50  16  95]]\n"
     ]
    }
   ],
   "source": [
    "print('\\RandForest: \\n', confusion_matrix(Y_test, predicted_by_LR))"
   ]
  },
  {
   "cell_type": "code",
   "execution_count": 116,
   "metadata": {},
   "outputs": [
    {
     "name": "stdout",
     "output_type": "stream",
     "text": [
      "\\RandForest: \n",
      " [[128  18  60]\n",
      " [ 37  34  49]\n",
      " [ 42  25  94]]\n"
     ]
    }
   ],
   "source": [
    "print('\\RandForest: \\n', confusion_matrix(Y_test, predicted_by_RF))"
   ]
  },
  {
   "cell_type": "code",
   "execution_count": null,
   "metadata": {},
   "outputs": [],
   "source": []
  }
 ],
 "metadata": {
  "kernelspec": {
   "display_name": "py35-anaconda",
   "language": "python",
   "name": "py35-anaconda"
  },
  "language_info": {
   "codemirror_mode": {
    "name": "ipython",
    "version": 3
   },
   "file_extension": ".py",
   "mimetype": "text/x-python",
   "name": "python",
   "nbconvert_exporter": "python",
   "pygments_lexer": "ipython3",
   "version": "3.6.1"
  }
 },
 "nbformat": 4,
 "nbformat_minor": 2
}
