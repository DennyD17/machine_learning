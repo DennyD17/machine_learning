{
 "cells": [
  {
   "cell_type": "code",
   "execution_count": 1,
   "metadata": {},
   "outputs": [],
   "source": [
    "from pymystem3 import Mystem\n"
   ]
  },
  {
   "cell_type": "code",
   "execution_count": 2,
   "metadata": {},
   "outputs": [],
   "source": [
    "m = Mystem()"
   ]
  },
  {
   "cell_type": "code",
   "execution_count": 5,
   "metadata": {},
   "outputs": [],
   "source": [
    "t = \"\"\"\n",
    "Вы голосовали в акции «Повлияй на политику компании», мы выполнили обязательства. Обещанный (во всех смыслах) платёж взлетел!\n",
    "\n",
    "Летом мы запустили тестирование — дали доступ к фиче клиентам с аккаунтом старше 3 лет. Получили фидбек — поправили баги и по многочисленным просьбам продлили срок действия с 3 до 5 дней.\n",
    "\n",
    "Теперь обещанный платёж доступен клиентам с аккаунтом старше 1 года. С ним виртуальные серверы, хостинг приложений и диски для бэкапов работают даже при нулевом балансе. Обещанный платёж продляет на 5 дней активные услуги и активирует остановленные.\n",
    "\n",
    "По-прежнему ждём ваши отзывы и предложения по улучшению фичи \"\"\""
   ]
  },
  {
   "cell_type": "code",
   "execution_count": 7,
   "metadata": {},
   "outputs": [
    {
     "name": "stdout",
     "output_type": "stream",
     "text": [
      "Wall time: 0 ns\n",
      "\n",
      " вы   голосовать   в   акция  « повлиять   на   политика   компания »,  мы   выполнять   обязательство .  обещать  ( во   весь   смысл )  платеж   взлетать ! \n",
      " \n",
      " лето   мы   запускать   тестирование  —  даль   доступ   к   фич   клиент   с   аккаунт   старый   3   год .  получать   фидбек  —  поправлять   баги   и   по   многочисленный   просьба   продлять   срок   действие   с   3   до   5   день . \n",
      " \n",
      " теперь   обещать   платеж   доступный   клиент   с   аккаунт   старый   1   год .  с   они   виртуальный   сервер ,  хостинг   приложение   и   диск   для   бэкап   работать   даже   при   нулевой   баланс .  обещать   платеж   продлять   на   5   день   активный   услуга   и   активировать   останавливать . \n",
      " \n",
      " по-прежнему   ждать   ваш   отзыв   и   предложение   по   улучшение   фич  \n",
      "\n"
     ]
    }
   ],
   "source": [
    "%time\n",
    "print(' '.join(m.lemmatize(t)))"
   ]
  },
  {
   "cell_type": "code",
   "execution_count": 8,
   "metadata": {},
   "outputs": [
    {
     "name": "stdout",
     "output_type": "stream",
     "text": [
      "Wall time: 0 ns\n"
     ]
    }
   ],
   "source": [
    "%time"
   ]
  },
  {
   "cell_type": "code",
   "execution_count": null,
   "metadata": {},
   "outputs": [],
   "source": []
  }
 ],
 "metadata": {
  "kernelspec": {
   "display_name": "py35-anaconda",
   "language": "python",
   "name": "py35-anaconda"
  },
  "language_info": {
   "codemirror_mode": {
    "name": "ipython",
    "version": 3
   },
   "file_extension": ".py",
   "mimetype": "text/x-python",
   "name": "python",
   "nbconvert_exporter": "python",
   "pygments_lexer": "ipython3",
   "version": "3.6.1"
  }
 },
 "nbformat": 4,
 "nbformat_minor": 2
}
