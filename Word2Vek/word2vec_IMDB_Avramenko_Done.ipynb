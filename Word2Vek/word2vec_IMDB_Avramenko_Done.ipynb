{
 "cells": [
  {
   "cell_type": "code",
   "execution_count": null,
   "metadata": {},
   "outputs": [],
   "source": []
  },
  {
   "cell_type": "code",
   "execution_count": 3,
   "metadata": {},
   "outputs": [
    {
     "name": "stderr",
     "output_type": "stream",
     "text": [
      "C:\\Users\\admin\\Anaconda3\\lib\\site-packages\\gensim\\utils.py:862: UserWarning: detected Windows; aliasing chunkize to chunkize_serial\n",
      "  warnings.warn(\"detected Windows; aliasing chunkize to chunkize_serial\")\n"
     ]
    }
   ],
   "source": [
    "import re\n",
    "import time\n",
    "from bs4 import BeautifulSoup\n",
    "import numpy as np\n",
    "import pandas as pd\n",
    "\n",
    "from sklearn.feature_extraction.text import CountVectorizer\n",
    "from sklearn.ensemble import RandomForestClassifier\n",
    "from sklearn.cluster import KMeans\n",
    "\n",
    "from gensim.models import Word2Vec \n",
    "import nltk\n",
    "from nltk.corpus import stopwords "
   ]
  },
  {
   "cell_type": "code",
   "execution_count": 4,
   "metadata": {},
   "outputs": [],
   "source": [
    "unlabeled_train = pd.read_csv( \"unlabeledTrainData.tsv\", header=0, \n",
    " delimiter=\"\\t\", quoting=3 )"
   ]
  },
  {
   "cell_type": "code",
   "execution_count": 8,
   "metadata": {},
   "outputs": [
    {
     "name": "stdout",
     "output_type": "stream",
     "text": [
      "[nltk_data] Downloading package punkt to\n",
      "[nltk_data]     C:\\Users\\admin\\AppData\\Roaming\\nltk_data...\n",
      "[nltk_data]   Package punkt is already up-to-date!\n"
     ]
    },
    {
     "data": {
      "text/plain": [
       "True"
      ]
     },
     "execution_count": 8,
     "metadata": {},
     "output_type": "execute_result"
    }
   ],
   "source": [
    "nltk.download('punkt')"
   ]
  },
  {
   "cell_type": "code",
   "execution_count": 9,
   "metadata": {},
   "outputs": [],
   "source": [
    "tokenizer = nltk.data.load('tokenizers/punkt/english.pickle')"
   ]
  },
  {
   "cell_type": "code",
   "execution_count": 10,
   "metadata": {},
   "outputs": [],
   "source": [
    "def review_to_wordlist(review):\n",
    "    review_text = BeautifulSoup(review).get_text()\n",
    "    review_text = re.sub(\"[^a-zA-Z]\",\" \", review_text)\n",
    "    words = review_text.lower().split()\n",
    "    stops = set(stopwords.words(\"english\"))\n",
    "    words = [w for w in words if not w in stops]\n",
    "    return(words)"
   ]
  },
  {
   "cell_type": "code",
   "execution_count": 11,
   "metadata": {},
   "outputs": [],
   "source": [
    "def review_to_sentences( review, tokenizer, remove_stopwords=False ):\n",
    "    # разбиваем review на предложения. Возвращаем список предложений. Каждое предложение - список слов\n",
    "    #\n",
    "    # 1. NLTK Tokenizer требуется для того, чтобы разбить текст на предложения. Разбиваем на предложения\n",
    "    raw_sentences = tokenizer.tokenize(review.strip())\n",
    "    #\n",
    "    # 2. идем по каждому предложению\n",
    "    sentences = []\n",
    "    for raw_sentence in raw_sentences:\n",
    "        # если предолжение пустое - пропускаем его\n",
    "        if len(raw_sentence) > 0:\n",
    "            # иначе запускаем review_to_wordlist и добавляем в sentences\n",
    "            sentences.append( review_to_wordlist( raw_sentence))\n",
    "            \n",
    "    # возвращаем предложения\n",
    "    return sentences"
   ]
  },
  {
   "cell_type": "code",
   "execution_count": 107,
   "metadata": {},
   "outputs": [],
   "source": [
    "train = pd.read_csv(\"labeledTrainData.tsv\", header=0, \\\n",
    "                    delimiter=\"\\t\", quoting=3)"
   ]
  },
  {
   "cell_type": "code",
   "execution_count": 13,
   "metadata": {},
   "outputs": [],
   "source": [
    "from IPython.display import clear_output"
   ]
  },
  {
   "cell_type": "code",
   "execution_count": 14,
   "metadata": {},
   "outputs": [
    {
     "name": "stdout",
     "output_type": "stream",
     "text": [
      "99.996 %\n",
      "Wall time: 11min 11s\n"
     ]
    }
   ],
   "source": [
    "%%time\n",
    "sentences = [] \n",
    "print(\"Parsing sentences from training set\")\n",
    "i = 0\n",
    "for i, review in enumerate(train[\"review\"]):\n",
    "    clear_output()\n",
    "    print((i/len(train))*100, '%')\n",
    "    sentences += review_to_sentences(review, tokenizer)\n",
    "    i += 1"
   ]
  },
  {
   "cell_type": "code",
   "execution_count": 20,
   "metadata": {},
   "outputs": [],
   "source": []
  },
  {
   "cell_type": "code",
   "execution_count": 15,
   "metadata": {},
   "outputs": [
    {
     "name": "stdout",
     "output_type": "stream",
     "text": [
      "99.998 %\n",
      "Wall time: 21min 9s\n"
     ]
    }
   ],
   "source": [
    "%%time\n",
    "print(\"Parsing sentences from unlabeled set\")\n",
    "i = 0\n",
    "for review in unlabeled_train[\"review\"]:\n",
    "    clear_output()\n",
    "    print((i/len(unlabeled_train))*100, '%')\n",
    "    sentences += review_to_sentences(review, tokenizer)\n",
    "    i += 1"
   ]
  },
  {
   "cell_type": "code",
   "execution_count": 33,
   "metadata": {},
   "outputs": [
    {
     "name": "stdout",
     "output_type": "stream",
     "text": [
      "795538\n"
     ]
    }
   ],
   "source": [
    "print(len(sentences))"
   ]
  },
  {
   "cell_type": "code",
   "execution_count": 34,
   "metadata": {},
   "outputs": [
    {
     "name": "stdout",
     "output_type": "stream",
     "text": [
      "['stuff', 'going', 'moment', 'mj', 'started', 'listening', 'music', 'watching', 'odd', 'documentary', 'watched', 'wiz', 'watched', 'moonwalker']\n"
     ]
    }
   ],
   "source": [
    "print(sentences[0])\n"
   ]
  },
  {
   "cell_type": "code",
   "execution_count": 36,
   "metadata": {},
   "outputs": [],
   "source": [
    "# Set values for various parameters\n",
    "num_features = 300    # Word vector dimensionality                      \n",
    "min_word_count = 40   # Minimum word count                        \n",
    "num_workers = 8     # Number of threads to run in parallel\n",
    "context = 10          # Context window size                                                                                    \n",
    "downsampling = 1e-3   # Downsample setting for frequent words"
   ]
  },
  {
   "cell_type": "code",
   "execution_count": 37,
   "metadata": {},
   "outputs": [
    {
     "name": "stdout",
     "output_type": "stream",
     "text": [
      "Training model...\n",
      "Wall time: 55 s\n"
     ]
    }
   ],
   "source": [
    "%%time\n",
    "# Initialize and train the model (this will take some time)\n",
    "print(\"Training model...\")\n",
    "model = Word2Vec(sentences, workers=num_workers, \\\n",
    "            size=num_features, min_count = min_word_count, \\\n",
    "            window = context, sample = 0.0001)\n"
   ]
  },
  {
   "cell_type": "code",
   "execution_count": 38,
   "metadata": {},
   "outputs": [],
   "source": [
    "model.init_sims(replace=True)"
   ]
  },
  {
   "cell_type": "code",
   "execution_count": 39,
   "metadata": {},
   "outputs": [],
   "source": [
    "model_name = \"300features_40minwords_10context\"\n",
    "model.save(model_name)"
   ]
  },
  {
   "cell_type": "code",
   "execution_count": 43,
   "metadata": {},
   "outputs": [
    {
     "data": {
      "text/plain": [
       "'child'"
      ]
     },
     "execution_count": 43,
     "metadata": {},
     "output_type": "execute_result"
    }
   ],
   "source": [
    "model.doesnt_match(\"man woman child foo bar kitchen\".split())"
   ]
  },
  {
   "cell_type": "code",
   "execution_count": 44,
   "metadata": {},
   "outputs": [
    {
     "data": {
      "text/plain": [
       "[('woman', 0.712565004825592),\n",
       " ('monk', 0.5986726880073547),\n",
       " ('servant', 0.5845864415168762),\n",
       " ('pursuing', 0.5684902667999268),\n",
       " ('wheelchair', 0.5665715336799622),\n",
       " ('businessman', 0.5628113746643066),\n",
       " ('crippled', 0.5597537159919739),\n",
       " ('widow', 0.5597490668296814),\n",
       " ('lad', 0.5580651760101318),\n",
       " ('tall', 0.5573580265045166)]"
      ]
     },
     "execution_count": 44,
     "metadata": {},
     "output_type": "execute_result"
    }
   ],
   "source": [
    "model.most_similar(\"man\")"
   ]
  },
  {
   "cell_type": "code",
   "execution_count": 67,
   "metadata": {},
   "outputs": [
    {
     "data": {
      "text/plain": [
       "[('crouching', 0.8941984176635742),\n",
       " ('tiger', 0.8735963106155396),\n",
       " ('sword', 0.8582170009613037),\n",
       " ('ninja', 0.8013341426849365),\n",
       " ('jet', 0.795806884765625),\n",
       " ('swords', 0.7900489568710327),\n",
       " ('chun', 0.7713428735733032),\n",
       " ('iron', 0.7652692794799805),\n",
       " ('fist', 0.7584738731384277),\n",
       " ('warriors', 0.757693886756897)]"
      ]
     },
     "execution_count": 67,
     "metadata": {},
     "output_type": "execute_result"
    }
   ],
   "source": [
    "model.most_similar(\"dragon\")"
   ]
  },
  {
   "cell_type": "code",
   "execution_count": 68,
   "metadata": {},
   "outputs": [
    {
     "data": {
      "text/plain": [
       "[('stars', 0.7458279132843018),\n",
       " ('studded', 0.6530028581619263),\n",
       " ('stardom', 0.6027533411979675),\n",
       " ('trek', 0.565423309803009),\n",
       " ('guest', 0.5487549304962158),\n",
       " ('billed', 0.5418476462364197),\n",
       " ('fame', 0.5346068739891052),\n",
       " ('superstar', 0.5146893262863159),\n",
       " ('vehicle', 0.5116539001464844),\n",
       " ('hudson', 0.510845422744751)]"
      ]
     },
     "execution_count": 68,
     "metadata": {},
     "output_type": "execute_result"
    }
   ],
   "source": [
    "model.most_similar(\"star\")"
   ]
  },
  {
   "cell_type": "code",
   "execution_count": 69,
   "metadata": {},
   "outputs": [
    {
     "data": {
      "text/plain": [
       "[('sith', 0.8024415969848633),\n",
       " ('anakin', 0.7901677489280701),\n",
       " ('ewoks', 0.7738562226295471),\n",
       " ('skywalker', 0.772915780544281),\n",
       " ('vader', 0.7552484273910522),\n",
       " ('saber', 0.7525895237922668),\n",
       " ('jabba', 0.7419978976249695),\n",
       " ('galaxy', 0.7411889433860779),\n",
       " ('darth', 0.7325034141540527),\n",
       " ('terminator', 0.7224287390708923)]"
      ]
     },
     "execution_count": 69,
     "metadata": {},
     "output_type": "execute_result"
    }
   ],
   "source": [
    "model.most_similar(\"jedi\")"
   ]
  },
  {
   "cell_type": "code",
   "execution_count": 70,
   "metadata": {},
   "outputs": [
    {
     "data": {
      "text/plain": [
       "[('callahan', 0.7826710939407349),\n",
       " ('potter', 0.7791247963905334),\n",
       " ('enforcer', 0.7310588955879211),\n",
       " ('lime', 0.7012282609939575),\n",
       " ('marv', 0.6921302080154419),\n",
       " ('stanton', 0.6798675060272217),\n",
       " ('clint', 0.651884913444519),\n",
       " ('davenport', 0.6371444463729858),\n",
       " ('eastwood', 0.6307017803192139),\n",
       " ('dirty', 0.6061629056930542)]"
      ]
     },
     "execution_count": 70,
     "metadata": {},
     "output_type": "execute_result"
    }
   ],
   "source": [
    "model.most_similar(\"harry\")"
   ]
  },
  {
   "cell_type": "code",
   "execution_count": 74,
   "metadata": {},
   "outputs": [],
   "source": [
    "def makeFeatureVec(words, model, num_features):\n",
    "    # берем документ и считаем средний вектор по всем словам\n",
    "    # paragraph\n",
    "    #\n",
    "    # берем вектор, инициализируем изначально нулями\n",
    "    featureVec = np.zeros((num_features,),dtype=\"float32\")\n",
    "    #\n",
    "    nwords = 0\n",
    "    # \n",
    "    # Index2word - содержит имена слов в словаре, чтобы по нему искать, лучше опять же, для скорости - положить его в set \n",
    "\n",
    "    index2word_set = set(model.wv.index2word)\n",
    "    #\n",
    "    # бежим по каждому слову в документе и если слово встречается в словаре - добавляем его в ответ \n",
    "    # (прибавляем к результирующему вектору)\n",
    "    for word in words:\n",
    "        if word in index2word_set: \n",
    "            nwords = nwords + 1.\n",
    "            featureVec = np.add(featureVec,model[word])\n",
    "    # \n",
    "    # теперь соответственно делим на количество слов всего\n",
    "    featureVec = np.divide(featureVec,nwords)\n",
    "    return featureVec\n",
    "\n"
   ]
  },
  {
   "cell_type": "code",
   "execution_count": 80,
   "metadata": {},
   "outputs": [],
   "source": [
    "\n",
    "def getAvgFeatureVecs(reviews, model, num_features):\n",
    "    # эта функция берет на вход набор документов и для каждого из них возаращаетя средний вектор - полчается на выходе 2D-массив\n",
    "    # \n",
    "    # инициализируем счетчик\n",
    "    counter = 0\n",
    "    # \n",
    "    # точно также заполним нулями вектора (для скорости)\n",
    "    reviewFeatureVecs = np.zeros((len(reviews),num_features),dtype=\"float32\")\n",
    "    # \n",
    "    # идем по всем ревью\n",
    "    for review in reviews:\n",
    "       #\n",
    "       # Print a status message every 1000th review\n",
    "       if counter%5000 == 0:\n",
    "           print(\"Review %d of %d\" % (counter, len(reviews)))\n",
    "       # \n",
    "       # для каждого ревью считаем средний вектор\n",
    "       reviewFeatureVecs[counter] = makeFeatureVec(review, model, num_features)\n",
    "       #\n",
    "       # увеличиваем счетчик\n",
    "       counter = counter + 1\n",
    "    return reviewFeatureVecs"
   ]
  },
  {
   "cell_type": "code",
   "execution_count": 64,
   "metadata": {},
   "outputs": [
    {
     "name": "stderr",
     "output_type": "stream",
     "text": [
      "C:\\Users\\admin\\Anaconda3\\lib\\site-packages\\bs4\\__init__.py:181: UserWarning: No parser was explicitly specified, so I'm using the best available HTML parser for this system (\"lxml\"). This usually isn't a problem, but if you run this code on another system, or in a different virtual environment, it may use a different parser and behave differently.\n",
      "\n",
      "The code that caused this warning is on line 193 of the file C:\\Users\\admin\\Anaconda3\\lib\\runpy.py. To get rid of this warning, change code that looks like this:\n",
      "\n",
      " BeautifulSoup(YOUR_MARKUP})\n",
      "\n",
      "to this:\n",
      "\n",
      " BeautifulSoup(YOUR_MARKUP, \"lxml\")\n",
      "\n",
      "  markup_type=markup_type))\n"
     ]
    },
    {
     "name": "stdout",
     "output_type": "stream",
     "text": [
      "Wall time: 55.9 s\n"
     ]
    }
   ],
   "source": [
    "%%time\n",
    "clean_train_reviews = []\n",
    "for review in train[\"review\"]:\n",
    "    clean_train_reviews.append( review_to_wordlist( review))"
   ]
  },
  {
   "cell_type": "code",
   "execution_count": 81,
   "metadata": {},
   "outputs": [
    {
     "name": "stdout",
     "output_type": "stream",
     "text": [
      "Wall time: 0 ns\n",
      "Review 0 of 25000\n",
      "Review 5000 of 25000\n",
      "Review 10000 of 25000\n",
      "Review 15000 of 25000\n",
      "Review 20000 of 25000\n"
     ]
    }
   ],
   "source": [
    "%time \n",
    "trainDataVecs = getAvgFeatureVecs(clean_train_reviews, model, num_features )"
   ]
  },
  {
   "cell_type": "code",
   "execution_count": 73,
   "metadata": {},
   "outputs": [
    {
     "data": {
      "text/plain": [
       "dict_keys(['stuff', 'going', 'moment', 'mj', 'started', 'listening', 'music', 'watching', 'odd', 'documentary', 'watched', 'maybe', 'want', 'get', 'certain', 'insight', 'guy', 'thought', 'really', 'cool', 'eighties', 'make', 'mind', 'whether', 'guilty', 'innocent', 'part', 'biography', 'feature', 'film', 'remember', 'see', 'cinema', 'originally', 'released', 'subtle', 'messages', 'feeling', 'towards', 'press', 'also', 'obvious', 'message', 'drugs', 'bad', 'kay', 'visually', 'impressive', 'course', 'michael', 'jackson', 'unless', 'remotely', 'like', 'anyway', 'hate', 'find', 'boring', 'may', 'call', 'making', 'movie', 'fans', 'would', 'say', 'made', 'true', 'nice', 'actual', 'bit', 'finally', 'starts', 'minutes', 'excluding', 'smooth', 'criminal', 'sequence', 'joe', 'pesci', 'convincing', 'psychopathic', 'powerful', 'drug', 'lord', 'wants', 'dead', 'beyond', 'plans', 'nah', 'character', 'wanted', 'people', 'know', 'etc', 'dunno', 'hates', 'lots', 'things', 'turning', 'car', 'robot', 'whole', 'speed', 'demon', 'director', 'must', 'patience', 'saint', 'came', 'filming', 'usually', 'directors', 'working', 'one', 'kid', 'let', 'alone', 'bunch', 'performing', 'complex', 'dance', 'scene', 'bottom', 'line', 'level', 'another', 'think', 'stay', 'away', 'try', 'give', 'wholesome', 'ironically', 'buddy', 'girl', 'truly', 'talented', 'ever', 'grace', 'planet', 'well', 'attention', 'gave', 'subject', 'hmmm', 'different', 'behind', 'closed', 'doors', 'fact', 'either', 'extremely', 'stupid', 'hope', 'latter', 'classic', 'war', 'worlds', 'timothy', 'hines', 'entertaining', 'obviously', 'goes', 'great', 'effort', 'lengths', 'faithfully', 'recreate', 'h', 'g', 'wells', 'book', 'mr', 'succeeds', 'appreciated', 'standard', 'predictable', 'hollywood', 'fare', 'comes', 'every', 'year', 'e', 'spielberg', 'version', 'tom', 'cruise', 'slightest', 'resemblance', 'everyone', 'looks', 'amateur', 'critics', 'look', 'criticize', 'everything', 'others', 'rate', 'important', 'bases', 'entertained', 'never', 'agree', 'enjoyed', 'put', 'faithful', 'novel', 'found', 'easy', 'overlook', 'perceive', 'shortcomings', 'manager', 'nicholas', 'bell', 'giving', 'welcome', 'investors', 'robert', 'carradine', 'primal', 'park', 'secret', 'project', 'animal', 'using', 'dna', 'scientists', 'resurrect', 'nature', 'predators', 'tiger', 'scientific', 'ambition', 'turns', 'deadly', 'however', 'high', 'fence', 'opened', 'creature', 'escape', 'begins', 'stalking', 'prey', 'human', 'visitors', 'tourists', 'meanwhile', 'youngsters', 'enter', 'restricted', 'area', 'security', 'center', 'attacked', 'pack', 'large', 'pre', 'historical', 'animals', 'bigger', 'addition', 'agent', 'stacy', 'mate', 'brian', 'fight', 'hardly', 'real', 'star', 'stars', 'astounding', 'though', 'giant', 'group', 'run', 'afoul', 'furthermore', 'third', 'dangerous', 'slow', 'stalks', 'victims', 'delivers', 'goods', 'blood', 'gore', 'hair', 'raising', 'chills', 'full', 'scares', 'appear', 'mediocre', 'special', 'effects', 'story', 'provides', 'exciting', 'stirring', 'entertainment', 'results', 'quite', 'majority', 'computer', 'generator', 'seem', 'totally', 'lousy', 'performances', 'players', 'reacting', 'appropriately', 'becoming', 'food', 'actors', 'physical', 'beasts', 'running', 'bound', 'leaps', 'dangling', 'walls', 'packs', 'ridiculous', 'final', 'small', 'kids', 'realistic', 'gory', 'violent', 'attack', 'scenes', 'films', 'following', 'james', 'r', 'vanessa', 'angel', 'david', 'keith', 'john', 'rhys', 'davies', 'much', 'better', 'bc', 'roland', 'steven', 'cliff', 'curtis', 'camilla', 'belle', 'motion', 'picture', 'filled', 'bloody', 'moments', 'badly', 'directed', 'george', 'miller', 'originality', 'takes', 'many', 'elements', 'previous', 'australian', 'television', 'wave', 'journey', 'earth', 'occasionally', 'man', 'snowy', 'river', 'robinson', 'crusoe', 'rating', 'average', 'barrel', 'assumed', 'praised', 'greatest', 'filmed', 'opera', 'read', 'somewhere', 'care', 'wagner', 'anything', 'except', 'desire', 'cultured', 'representation', 'swan', 'song', 'strikes', 'disaster', 'leaden', 'reading', 'score', 'matched', 'text', 'questionable', 'ideas', 'matter', 'play', 'especially', 'shakespeare', 'allowed', 'anywhere', 'near', 'theatre', 'studio', 'without', 'smallest', 'justification', 'decided', 'bisexual', 'title', 'stages', 'kind', 'babe', 'continues', 'sing', 'tenor', 'singers', 'double', 'dose', 'jordan', 'conductor', 'seen', 'face', 'heard', 'voice', 'appears', 'exposure', 'ate', 'playing', 'good', 'friday', 'way', 'represented', 'stuck', 'ill', 'laid', 'turf', 'sometimes', 'piece', 'thoughts', 'mountain', 'lush', 'provided', 'julie', 'andrews', 'sound', 'hard', 'endure', 'voices', 'particular', 'possessing', 'adds', 'sort', 'uninspired', 'conducting', 'unfolding', 'ritual', 'someone', 'review', 'mentioned', 'recording', 'often', 'altogether', 'lacks', 'sense', 'pulse', 'flow', 'half', 'century', 'orchestral', 'set', 'modern', 'still', 'superior', 'superbly', 'trashy', 'unpretentious', 'exploitation', 'hooray', 'credits', 'opening', 'sequences', 'somewhat', 'false', 'impression', 'dealing', 'serious', 'harrowing', 'drama', 'need', 'fear', 'barely', 'ten', 'later', 'necks', 'nonsensical', 'chainsaw', 'battles', 'rough', 'fist', 'fights', 'lurid', 'dialogs', 'gratuitous', 'nudity', 'bo', 'ingrid', 'two', 'orphaned', 'siblings', 'unusually', 'close', 'even', 'slightly', 'perverted', 'relationship', 'imagine', 'ripping', 'towel', 'covers', 'sister', 'naked', 'body', 'stare', 'genitals', 'several', 'judging', 'dubbed', 'laughter', 'sick', 'dude', 'fled', 'russia', 'parents', 'nasty', 'soldiers', 'brutally', 'slaughtered', 'mommy', 'daddy', 'friendly', 'took', 'custody', 'raised', 'trained', 'expert', 'plot', 'lifts', 'years', 'facing', 'ultimate', 'quest', 'mythical', 'incredibly', 'valuable', 'white', 'fire', 'diamond', 'coincidentally', 'mine', 'life', 'little', 'narrative', 'structure', 'sure', 'lot', 'fun', 'watch', 'time', 'clue', 'beating', 'cause', 'bet', 'understood', 'less', 'whatever', 'violence', 'magnificently', 'grotesque', 'single', 'twist', 'retarded', 'script', 'bonkers', 'repair', 'suddenly', 'reveal', 'reason', 'needs', 'replacement', 'fred', 'williamson', 'enters', 'big', 'cigar', 'mouth', 'sleazy', 'black', 'fingers', 'local', 'prostitutes', 'principal', 'opponent', 'italian', 'chick', 'breasts', 'hideous', 'accent', 'preposterous', 'catchy', 'theme', 'plays', 'least', 'dozen', 'times', 'throughout', 'obligatory', 'falling', 'love', 'montage', 'loads', 'attractions', 'god', 'brilliant', 'experience', 'original', 'french', 'translates', 'survive', 'uniquely', 'appropriate', 'makes', 'rest', 'none', 'dont', 'got', 'pretty', 'action', 'change', 'location', 'harry', 'hurt', 'offensive', 'eastwood', 'form', 'dirty', 'liked', 'pat', 'town', 'cop', 'pool', 'could', 'short', 'cheesy', 'acting', 'looked', 'past', 'background', 'centers', 'around', 'evil', 'witch', 'linked', 'woman', 'gets', 'drags', 'clearly', 'explains', 'keeps', 'plodding', 'christopher', 'walken', 'completely', 'senseless', 'potential', 'tv', 'avoid', 'video', 'friend', 'house', 'glad', 'waste', 'money', 'buying', 'cover', 'clips', 'rocket', 'blow', 'ups', 'related', 'flight', 'smoking', 'gun', 'clip', 'astronauts', 'preparing', 'broadcast', 'edits', 'instead', 'letting', 'us', 'listen', 'crew', 'curiously', 'ends', 'showing', 'claims', 'radiation', 'photography', 'lead', 'believe', 'ignorant', 'ax', 'grind', 'nasa', 'american', 'general', 'science', 'bought', 'grossly', 'despite', 'featuring', 'names', 'adam', 'sandler', 'billy', 'bob', 'thornton', 'burt', 'young', 'funny', 'taking', 'straight', 'uses', 'tired', 'comedic', 'techniques', 'consistently', 'breaking', 'fourth', 'wall', 'talks', 'audience', 'seemingly', 'pointless', 'montages', 'hot', 'girls', 'waiter', 'ship', 'successful', 'comedian', 'order', 'become', 'women', 'resident', 'shamelessly', 'named', 'due', 'unfathomable', 'success', 'opposite', 'gender', 'presumed', 'lost', 'sea', 'break', 'rather', 'locked', 'bathroom', 'presumably', 'perhaps', 'worst', 'references', 'mad', 'max', 'ii', 'wild', 'clear', 'reference', 'tribute', 'peter', 'lorre', 'masterpiece', 'talk', 'future', 'happens', 'army', 'eastern', 'european', 'gather', 'forces', 'south', 'border', 'gary', 'busey', 'kicks', 'butts', 'laughable', 'example', 'reagan', 'era', 'cultural', 'wastes', 'decent', 'supporting', 'cast', 'headed', 'l', 'q', 'jones', 'although', 'generally', 'remakes', 'believing', 'exception', 'actually', 'far', 'comment', 'remake', 'opinion', 'purely', 'comparison', 'written', 'question', 'capote', 'words', 'anthony', 'edwards', 'eric', 'roberts', 'superb', 'movies', 'case', 'always', 'wondered', 'number', 'famous', 'brother', 'certainty', 'top', 'profession', 'recommend', 'keep', 'dvd', 'shelves', 'harvey', 'lights', 'candle', 'performance', 'spall', 'predict', 'titular', 'tight', 'teacher', 'catharsis', 'based', 'deep', 'emotions', 'surprising', 'range', 'feelings', 'conveyed', 'moving', 'portray', 'mike', 'leigh', 'expected', 'school', 'bus', 'trip', 'used', 'comic', 'purposes', 'simpsons', 'central', 'situation', 'visit', 'brook', 'contained', 'structured', 'dramatic', 'almost', 'divided', 'acts', 'introduced', 'urban', 'british', 'diverse', 'uniforms', 'tell', 'private', 'public', 'rapping', 'asians', 'muslims', 'bullies', 'mean', 'naturally', 'individually', 'recognized', 'shameless', 'exuberant', 'representing', 'usual', 'junior', 'social', 'pressures', 'puts', 'warmth', 'role', 'leads', 'crisis', 'remain', 'amusingly', 'oblivious', 'portrayed', 'ben', 'miles', 'spoon', 'fed', 'didactic', 'lesson', 'religious', 'tolerance', 'faith', 'bbc', 'showed', 'england', 'easter', 'america', 'u', 'christmas', 'summer', 'key', 'redemption', 'played', 'week', 'preaching', 'touching', 'reach', 'unexpected', 'unfortunately', 'saw', 'intense', 'interrupted', 'commercials', 'heavy', 'handed', 'calling', 'road', 'quiet', 'best', 'men', 'holiday', 'themed', 'right', 'looking', 'champagne', 'product', 'repeatedly', 'stranger', 'sounds', 'nothing', 'editing', 'grade', 'amateurish', 'b', 'c', 'enough', 'hire', 'couple', 'ok', 'designer', 'poster', 'said', 'problems', 'post', 'production', 'dubbing', 'sg', 'flick', 'rent', 'asking', 'forgiveness', 'miss', 'kelly', 'note', 'mystery', 'theater', 'riff', 'favorite', 'simply', 'complete', 'absurdity', 'credit', 'mst', 'k', 'trying', 'ridicule', 'dialog', 'bill', 'playwright', 'hand', 'club', 'buy', 'hamlet', 'stephen', 'king', 'adaptation', 'scripted', 'family', 'newcomers', 'rural', 'maine', 'pet', 'cemetery', 'home', 'father', 'dale', 'finds', 'burial', 'ground', 'powers', 'resurrection', 'buried', 'back', 'horror', 'clumsy', 'insulting', 'inept', 'absolute', 'element', 'worthless', 'toward', 'end', 'genuinely', 'disturbing', 'finale', 'point', 'dismiss', 'something', 'memorable', 'gwynne', 'wise', 'old', 'aged', 'neighbor', 'brad', 'disfigured', 'spirit', 'victor', 'redeem', 'cameo', 'minister', 'followed', 'sequel', 'mary', 'lambert', 'wonder', 'mainstream', 'work', 'since', 'matrix', 'blockbuster', 'fantastic', 'provoking', 'twilight', 'zone', 'ish', 'manner', 'rule', 'applies', 'match', 'predecessor', 'worse', 'compare', 'explodes', 'onto', 'screen', 'un', 'professional', 'fashion', 'seconds', 'first', 'trinity', 'shot', 'dream', 'immediately', 'nose', 'dives', 'disastrous', 'gradually', 'gains', 'momentum', 'smith', 'battle', 'place', 'loses', 'reaches', 'minute', 'chase', 'groan', 'worthy', 'overlong', 'rave', 'absolutely', 'pathetic', 'excuse', 'porn', 'bullet', 'aspect', 'overuse', 'interesting', 'linear', 'basically', 'series', 'stylish', 'prevent', 'realising', 'empty', 'works', 'incorrect', 'principle', 'franchise', 'quickly', 'descended', 'drenched', 'misfire', 'franchises', 'wars', 'saga', 'poor', 'hugo', 'weaving', 'keanu', 'reeves', 'definitive', 'neo', 'room', 'impact', 'academy', 'award', 'nominee', 'laurence', 'fishburne', 'reduced', 'monotonous', 'mentor', 'dialogue', 'carrie', 'ann', 'moss', 'done', 'actress', 'thrown', 'together', 'disappointment', 'unlikely', 'flock', 'die', 'sub', 'genre', 'effect', 'minority', 'report', 'imdb', 'lommel', 'low', 'budget', 'chiller', 'worth', 'ultimately', 'taken', 'seriously', 'left', 'door', 'open', 'minded', 'seeing', 'day', 'browsing', 'videos', 'store', 'mall', 'across', 'entitled', 'return', 'earlier', 'happy', 'shell', 'bucks', 'known', 'pros', 'ha', 'laugh', 'hunk', 'cow', 'dung', 'footage', 'um', 'mercifully', 'yeah', 'cons', 'start', 'decisions', 'total', 'bore', 'next', 'scary', 'happening', 'stiff', 'likely', 'friends', 'whatsoever', 'probably', 'nonexistent', 'direction', 'plain', 'awful', 'tries', 'artsy', 'camera', 'move', 'filters', 'dull', 'hear', 'parts', 'ties', 'botched', 'lacey', 'natalie', 'events', 'depicted', 'beginning', 'take', 'mention', 'happened', 'new', 'ashamed', 'thing', 'sucked', 'supposed', 'damn', 'doubt', 'forget', 'handled', 'idea', 'among', 'indian', 'fade', 'passage', 'spell', 'appeal', 'diminish', 'transforms', 'abyss', 'artificially', 'styled', 'pop', 'culture', 'drill', 'oriented', 'extras', 'p', 'songs', 'cinematography', 'speaks', 'excellent', 'skills', 'josef', 'monumental', 'scope', 'entirety', 'gone', 'days', 'meticulous', 'paid', 'poignant', 'sublime', 'emotional', 'intensity', 'instance', 'refuses', 'yes', 'approval', 'marriage', 'bond', 'climbs', 'hill', 'berserk', 'traumatized', 'frenzy', 'raj', 'kumar', 'follows', 'strong', 'gale', 'wind', 'blew', 'veil', 'legs', 'kamal', 'shall', 'remembered', 'golden', 'history', 'record', 'setting', 'manage', 'vital', 'lady', 'terminally', 'fighting', 'early', 'understand', 'loss', 'feel', 'loneliness', 'johnson', 'reflected', 'felt', 'trapped', 'perspective', 'wonderful', 'pulls', 'tears', 'cheadle', 'supporter', 'oscars', 'fine', 'assure', 'jerry', 'soylent', 'green', 'fiction', 'today', 'standards', 'flawed', 'dated', 'apocalyptic', 'touch', 'environmental', 'premise', 'typical', 'unsettling', 'quality', 'surpasses', 'contemporary', 'sf', 'flicks', 'personally', 'consider', 'york', 'depressing', 'alive', 'population', 'unhealthy', 'climate', 'available', 'synthetic', 'distributed', 'company', 'charlton', 'heston', 'shape', 'investigating', 'murder', 'executives', 'stumbles', 'upon', 'dark', 'secrets', 'sentimental', 'climax', 'come', 'surprise', 'atmosphere', 'tense', 'uncanny', 'riot', 'grueling', 'easily', 'macabre', 'edward', 'last', 'modest', 'supportive', 'joseph', 'cotton', 'baron', 'abominable', 'dr', 'nightmarish', 'inevitable', 'humanity', 'fancy', 'space', 'ships', 'hairy', 'monsters', 'attacking', 'sexually', 'frustrated', 'individual', 'moral', 'attitude', 'sexuality', 'problem', 'dancers', 'sex', 'believes', 'lose', 'innocence', 'beauty', 'hills', 'lovemaking', 'couples', 'distance', 'shooting', 'powered', 'rifle', 'seeming', 'primary', 'existence', 'indulge', 'sexual', 'activity', 'afterthought', 'happily', 'heterosexual', 'male', 'pleased', 'treated', 'ladies', 'awfully', 'sans', 'clothes', 'serve', 'major', 'titillation', 'fair', 'deal', 'creepiness', 'factor', 'considerably', 'illustrates', 'voyeurism', 'eyes', 'pulling', 'trigger', 'intrusive', 'atmospheric', 'soundtrack', 'penchant', 'trash', 'enjoy', 'degree', 'includes', 'lesbian', 'renders', 'uncertain', 'react', 'unfolds', 'pace', 'wraps', 'amusing', 'ironic', 'kinky', 'twisted', 'rarity', 'else', 'definitely', 'viewers', 'glued', 'go', 'luck', 'military', 'swashbuckler', 'loosely', 'poem', 'three', 'qualifies', 'imperial', 'india', 'cary', 'grant', 'knock', 'blows', 'fists', 'six', 'fisted', 'yarn', 'exploits', 'rugged', 'native', 'water', 'gunga', 'din', 'sam', 'contend', 'bloodthirsty', 'cult', 'murderous', 'indians', 'called', 'sergeant', 'cutter', 'outpost', 'oscar', 'winner', 'mclaglen', 'informer', 'douglas', 'fairbanks', 'jr', 'dawn', 'patrol', 'competitive', 'trio', 'drinking', 'loving', 'alpha', 'males', 'whose', 'marry', 'emmy', 'joan', 'fontaine', 'tea', 'business', 'drum', 'assorted', 'schemes', 'superiors', 'sgt', 'sheik', 'steps', 'cannot', 'accompany', 'replace', 'principals', 'hating', 'stevens', 'celebrates', 'adventure', 'grand', 'style', 'heroes', 'august', 'received', 'nomination', 'outstanding', 'hours', 'seemed', 'steve', 'spliced', 'constructed', 'wait', 'ball', 'recently', 'dog', 'mostly', 'lame', 'fx', 'zeta', 'fanatics', 'credibility', 'quo', 'wow', 'amazing', 'ken', 'russell', 'quirky', 'stylized', 'artistic', 'nero', 'presented', 'wacky', 'unfulfilled', 'emperor', 'circus', 'career', 'position', 'leading', 'empire', 'longed', 'maria', 'tremendous', 'christians', 'vengeance', 'henchmen', 'protecting', 'everywhere', 'turn', 'son', 'genetically', 'mutated', 'monster', 'scarier', 'name', 'paul', 'frightening', 'shark', 'dagger', 'sharp', 'teeth', 'ability', 'ambush', 'dry', 'land', 'rock', 'eats', 'sit', 'laughing', 'load', 'shreds', 'referred', 'entire', 'silly', 'campy', 'contrived', 'spend', 'wandering', 'along', 'island', 'sudden', 'madly', 'walking', 'forest', 'pour', 'feet', 'relive', 'allows', 'kill', 'scifi', 'channel', 'hottie', 'live', 'silver', 'lining', 'otherwise', 'disappointing', 'biggest', 'settings', 'expectations', 'slasher', 'urge', 'claim', 'stinks', 'killer', 'motivations', 'possible', 'makers', 'garbage', 'create', 'tiny', 'tension', 'carpenter', 'guess', 'easier', 'enjoyable', 'soul', 'survivors', 'crap', 'eliza', 'dushku', 'junk', 'debut', 'daphne', 'dies', 'min', 'second', 'person', 'victim', 'directly', 'nobody', 'seems', 'afterwards', 'cares', 'deserve', 'term', 'uninteresting', 'hoping', 'quick', 'painful', 'death', 'humble', 'intrigued', 'synopsis', 'gay', 'necessarily', 'sign', 'purchased', 'arthur', 'knowing', 'purchase', 'connection', 'concerned', 'blatant', 'rip', 'observation', 'lightly', 'collector', 'state', 'authority', 'hesitation', 'sat', 'period', 'collection', 'boasts', 'comfortable', 'stating', 'interest', 'pleasant', 'jaguar', 'normal', 'examples', 'titles', 'stumbled', 'accidentally', 'box', 'conflict', 'lovers', 'christian', 'subjects', 'plunge', 'sight', 'unseen', 'previously', 'visions', 'sugar', 'compared', 'viewed', 'wrong', 'plenty', 'begin', 'sympathetic', 'asked', 'church', 'member', 'priest', 'mob', 'execution', 'save', 'souls', 'writing', 'points', 'reflect', 'logic', 'follow', 'acceptable', 'activist', 'wing', 'sides', 'difficult', 'anybody', 'hired', 'characters', 'stereotypes', 'boot', 'neither', 'sexy', 'forever', 'distributors', 'advantage', 'distinction', 'insipid', 'understanding', 'serves', 'aware', 'embarrassment', 'queer', 'intend', 'warn', 'possibly', 'soon', 'highway', 'robbery', 'price', 'cheated', 'connected', 'drivel', 'reviews', 'user', 'numerous', 'websites', 'praise', 'writer', 'actor', 'reviewer', 'ed', 'wood', 'wannabe', 'sad', 'desperate', 'wish', 'allow', 'zero', 'minus', 'deserved', 'anyone', 'rubbish', 'contain', 'children', 'nude', 'cinematic', 'view', 'encountered', 'dire', 'woke', 'art', 'stick', 'countryside', 'explanation', 'ticked', 'spoilers', 'proper', 'unremarkable', 'celebrated', 'english', 'overly', 'maligned', 'builds', 'betrays', 'origins', 'richard', 'burton', 'sophia', 'loren', 'display', 'passion', 'simon', 'pegg', 'rude', 'crude', 'control', 'celebrity', 'journalist', 'brought', 'magazine', 'winning', 'ways', 'sorts', 'complications', 'comedy', 'co', 'kristen', 'dunst', 'grown', 'danny', 'huston', 'jeff', 'bridges', 'primarily', 'behavior', 'frequent', 'screw', 'cap', 'evening', 'sitting', 'couch', 'witty', 'cynical', 'depressed', 'middle', 'software', 'engineer', 'relying', 'heavily', 'narration', 'downbeat', 'bourgeois', 'philosophical', 'humorous', 'describe', 'intellectual', 'charles', 'disrespect', 'intended', 'bleak', 'analysis', 'relations', 'achievement', 'reflects', 'recognisable', 'ask', 'rare', 'equally', 'eva', 'hedy', 'lamarr', 'married', 'older', 'honeymoon', 'realizes', 'husband', 'returning', 'farm', 'leaving', 'afternoon', 'bathing', 'lake', 'horse', 'escapes', 'worker', 'gives', 'fall', 'misses', 'fortune', 'ending', 'affair', 'tragic', 'remark', 'relative', 'horrible', 'vhs', 'brazil', 'brazilian', 'distributor', 'network', 'reels', 'damaged', 'therefore', 'images', 'achieved', 'viewer', 'chance', 'rental', 'sale', 'practically', 'silent', 'lines', 'consequently', 'developed', 'daring', 'beautiful', 'fat', 'present', 'poetic', 'flowers', 'intercourse', 'lover', 'show', 'non', 'unusual', 'restored', 'vote', 'eight', 'ecstasy', 'allegedly', 'joke', 'response', 'commit', 'gerard', 'depardieu', 'iron', 'mask', 'office', 'poison', 'th', 'critique', 'bourgeoisie', 'saying', 'satire', 'tricky', 'becomes', 'butt', 'miserable', 'disgusting', 'worthwhile', 'luis', 'bunuel', 'spoiler', 'alert', 'job', 'attain', 'maker', 'benefit', 'assume', 'guessing', 'pretentious', 'ass', 'incompetent', 'weird', 'caricature', 'purpose', 'dilemma', 'faced', 'involved', 'knew', 'patch', 'adams', 'duped', 'deceptively', 'alluring', 'packaging', 'reputation', 'eye', 'candy', 'sky', 'captain', 'game', 'injected', 'performers', 'visuals', 'thirty', 'walk', 'kept', 'growing', 'five', 'yet', 'main', 'pitiful', 'jude', 'law', 'affleck', 'gigli', 'paltrow', 'article', 'thinking', 'staying', 'mother', 'applaud', 'decision', 'soap', 'operas', 'continually', 'progresses', 'directing', 'suffer', 'greatly', 'phantom', 'menace', 'paying', 'prices', 'release', 'graduate', 'explaining', 'desires', 'ruined', 'develop', 'revealed', 'slowly', 'realistically', 'believably', 'sensitive', 'tried', 'happen', 'highly', 'confess', 'mom', 'light', 'dumb', 'thoroughly', 'essentially', 'chris', 'klein', 'maintain', 'profile', 'eventually', 'laughs', 'outrageous', 'spirited', 'nut', 'jobs', 'imitation', 'simple', 'plan', 'jake', 'merk', 'accident', 'kenneth', 'branagh', 'stealing', 'helena', 'bonham', 'carter', 'chemistry', 'emma', 'thompson', 'disabled', 'seeking', 'female', 'long', 'portraying', 'pull', 'pain', 'believable', 'current', 'roles', 'charlize', 'theron', 'halle', 'berry', 'fell', 'consideration', 'cable', 'late', 'night', 'trust', 'sleep', 'comparisons', 'legendary', 'filmmaker', 'neurotic', 'yorker', 'persona', 'frankly', 'draw', 'bumbling', 'loser', 'josh', 'kornbluth', 'insult', 'mentioning', 'spot', 'breath', 'celluloid', 'catastrophe', 'waking', 'surgery', 'tunnel', 'pulled', 'plug', 'cruel', 'result', 'audiences', 'world', 'indeed', 'discussing', 'sake', 'caution', 'severe', 'commitment', 'offered', 'permanent', 'duty', 'mail', 'priority', 'letters', 'boss', 'ludicrously', 'unable', 'perform', 'task', 'reaction', 'passing', 'passed', 'self', 'respecting', 'buffoon', 'chubby', 'features', 'facial', 'expressions', 'cringe', 'oh', 'mistake', 'screenplay', 'suspect', 'assured', 'means', 'aimless', 'assassination', 'presence', 'frustration', 'incessant', 'monologues', 'ounce', 'intelligence', 'comprehend', 'insults', 'filmmaking', 'exposition', 'charisma', 'charm', 'hawaiian', 'shirts', 'casting', 'blank', 'relieve', 'boredom', 'patricia', 'appearance', 'helen', 'ex', 'secretary', 'driven', 'insane', 'phone', 'calls', 'basement', 'holding', 'flashlight', 'chuckle', 'checking', 'remainder', 'ancient', 'japanese', 'poetry', 'fooled', 'sounding', 'handful', 'cinemas', 'bette', 'davis', 'votes', 'turned', 'delightful', 'expect', 'formulaic', 'surprisingly', 'helps', 'carried', 'brent', 'helped', 'mainly', 'involves', 'clever', 'perfectly', 'hour', 'needless', 'development', 'fast', 'paced', 'watchable', 'todays', 'expense', 'romantic', 'deserves', 'nicholson', 'shallow', 'drained', 'power', 'kathleen', 'turner', 'filthy', 'slut', 'notion', 'accept', 'falls', 'absurd', 'strike', 'hype', 'antonio', 'margheriti', 'danza', 'castle', 'eerie', 'fronts', 'wonderfully', 'creepy', 'gothic', 'vibe', 'alan', 'foster', 'pursues', 'interview', 'visiting', 'edgar', 'allan', 'poe', 'bets', 'abandoned', 'mansion', 'thomas', 'accepting', 'scared', 'hell', 'crypt', 'unbearable', 'barbara', 'steele', 'sinister', 'elisabeth', 'sue', 'kramer', 'suspicion', 'somehow', 'participate', 'prove', 'homophobic', 'pedestrian', 'keeping', 'mouths', 'shut', 'labeled', 'anti', 'lifestyle', 'reviewing', 'sincerity', 'believability', 'clich', 'hated', 'afraid', 'bomb', 'unbiased', 'judgment', 'improved', 'lighting', 'writers', 'apparently', 'dollar', 'stronger', 'super', 'advanced', 'stealth', 'bomber', 'invisible', 'million', 'cost', 'billion', 'cant', 'fly', 'east', 'random', 'attempt', 'guys', 'randomly', 'zoom', 'skip', 'segal', 'rank', 'snakes', 'plane', 'loved', 'episode', 'getting', 'punished', 'effectively', 'accomplice', 'columbo', 'unpredictable', 'resolution', 'conclusion', 'uncovering', 'murderer', 'interplay', 'falk', 'ruth', 'gordon', 'priceless', 'lt', 'tongue', 'cheek', 'detective', 'fame', 'crime', 'installments', 'massive', 'yawn', 'proving', 'americans', 'hang', 'farce', 'already', 'errors', 'translation', 'chains', 'skipped', 'entirely', 'robbing', 'farcical', 'cheap', 'oops', 'trousers', 'screenwriters', 'conference', 'themes', 'inspiring', 'deals', 'dare', 'parental', 'figures', 'overcome', 'embrace', 'possibilities', 'treasured', 'hyped', 'mandy', 'bloke', 'vintage', 'lacklustre', 'previews', 'teen', 'generous', 'terrible', 'sympathy', 'morbid', 'waiting', 'secondly', 'relation', 'somebody', 'please', 'explain', 'boy', 'screaming', 'lungs', 'jackie', 'chan', 'moves', 'biting', 'virus', 'proceed', 'angry', 'infected', 'redneck', 'hunting', 'spree', 'confusion', 'utter', 'disbelief', 'literally', 'loud', 'cabin', 'fever', 'tops', 'puke', 'brains', 'productive', 'grass', 'grow', 'alternative', 'okay', 'sorry', 'anymore', 'imitating', 'popular', 'lives', 'living', 'pick', 'nerdy', 'marty', 'fatal', 'pranks', 'reunion', 'ones', 'receiving', 'knocked', 'disappointed', 'critical', 'tour', 'de', 'force', 'france', 'indie', 'cedric', 'meets', 'mathieu', 'newcomer', 'jamie', 'stunning', 'nuanced', 'ethereal', 'beach', 'demanding', 'aunt', 'fractured', 'comprised', 'lengthy', 'flash', 'backs', 'bits', 'pieces', 'forward', 'movement', 'signal', 'engrossing', 'able', 'heart', 'uplifting', 'ranks', 'misfortune', 'hit', 'festival', 'circuit', 'austin', 'elizabeth', 'inside', 'staging', 'scottish', 'macbeth', 'producing', 'curse', 'crisp', 'efficient', 'treatment', 'treachery', 'troupe', 'evocative', 'suggest', 'gem', 'class', 'satisfying', 'yikes', 'transfer', 'favours', 'decide', 'treat', 'material', 'theatrical', 'occasional', 'glances', 'observing', 'jumpy', 'reminding', 'whereas', 'remind', 'overwhelmed', 'mira', 'sorvino', 'stage', 'via', 'merchant', 'ivory', 'oeuvre', 'fiona', 'shaw', 'pedigree', 'handle', 'truthful', 'kingsley', 'diana', 'rigg', 'daughter', 'rachel', 'sadly', 'magic', 'wife', 'evidence', 'weekly', 'nielsen', 'ratings', 'veronica', 'mars', 'supposedly', 'aired', 'twice', 'ranked', 'lowest', 'rated', 'deservedly', 'coverage', 'nonsense', 'reality', 'unrealistic', 'richly', 'canceled', 'cw', 'compelled', 'schedule', 'memory', 'continued', 'commercial', 'failure', 'crappy', 'signing', 'advise', 'catch', 'ward', 'clinton', 'bimbo', 'pills', 'weakest', 'formula', 'highlander', 'hero', 'immortal', 'encounters', 'flashbacks', 'met', 'sword', 'nick', 'wolf', 'storyline', 'types', 'joint', 'canadian', 'vancouver', 'paris', 'laughed', 'bogdanovich', 'recognition', 'reasons', 'sets', 'tone', 'appealing', 'gazzara', 'ritter', 'audrey', 'hepburn', 'breezy', 'vein', 'screwball', 'thirties', 'odyssey', 'agency', 'fellow', 'detectives', 'pot', 'roller', 'skating', 'eccentric', 'blaine', 'novak', 'producer', 'rich', 'tycoon', 'dorothy', 'murdered', 'essential', 'viewing', 'excellence', 'beautifully', 'noir', 'shadows', 'stark', 'spoil', 'presentation', 'homosexuals', 'tragedy', 'issue', 'torn', 'edge', 'ran', 'spine', 'dylan', 'gorgeous', 'ah', 'younger', 'sung', 'spooky', 'flaw', 'chinese', 'hong', 'kong', 'infamous', 'cat', 'disappeared', 'judge', 'lawyer', 'arrangements', 'threatening', 'within', 'given', 'cops', 'locate', 'arrest', 'police', 'officers', 'civilians', 'killed', 'race', 'cambodia', 'stops', 'proves', 'track', 'hide', 'dump', 'raped', 'mistreated', 'saves', 'persuades', 'coaster', 'incident', 'exceptionally', 'breathtaking', 'incredible', 'unbelievable', 'fitting', 'brutal', 'socks', 'eat', 'including', 'recommended', 'anthology', 'stories', 'stuffy', 'four', 'connects', 'involve', 'investigate', 'tenants', 'segment', 'starred', 'denholm', 'elliott', 'block', 'scenery', 'vanishes', 'steadily', 'tale', 'serial', 'amazingly', 'fictional', 'psychotic', 'disappears', 'losing', 'might', 'cushing', 'bachelor', 'died', 'ago', 'chamber', 'horrors', 'wax', 'museum', 'sees', 'figure', 'reminds', 'fascinated', 'joss', 'visits', 'entranced', 'letdown', 'lee', 'harsh', 'stern', 'idiot', 'demeanor', 'ended', 'silliest', 'meant', 'parody', 'jon', 'pertwee', 'doctor', 'portrayals', 'dracula', 'according', 'fit', 'props', 'vampire', 'natural', 'vampires', 'recent', 'incarnations', 'bela', 'lugosi', 'considering', 'charming', 'nowhere', 'cats', 'sums', 'admit', 'freaked', 'seriousness', 'spite', 'overall', 'caricatures', 'basis', 'instincts', 'rely', 'greed', 'pride', 'lust', 'anger', 'argued', 'failing', 'actuality', 'telling', 'supernatural', 'specific', 'nicely', 'supported', 'makeup', 'suitable', 'alice', 'brady', 'otherworldly', 'manages', 'outsider', 'twists', 'fan', 'rented', 'genres', 'romance', 'western', 'canyon', 'expecting', 'pure', 'puberty', 'child', 'leering', 'sickening', 'fonda', 'virtuous', 'resist', 'attraction', 'brooke', 'shields', 'drive', 'revolting', 'teenager', 'metal', 'ruled', 'trick', 'rocks', 'gene', 'simmons', 'kiss', 'preacher', 'backwards', 'vinyl', 'thats', 'use', 'records', 'eddie', 'player', 'speakers', 'stereo', 'possessed', 'funniest', 'sarcastic', 'jealous', 'hey', 'whats', 'wearing', 'ignored', 'axe', 'exact', 'chop', 'premiered', 'tbs', 'station', 'chasing', 'trivia', 'buffs', 'noted', 'weekend', 'melissa', 'warning', 'utterly', 'addicted', 'spoof', 'list', 'playful', 'kitsch', 'cartoon', 'stills', 'enchanting', 'uncredited', 'unmistakable', 'familiar', 'kathy', 'plus', 'teri', 'hatcher', 'superman', 'various', 'actresses', 'producers', 'daytime', 'careers', 'fashioned', 'delicious', 'penned', 'feels', 'gift', 'cliched', 'dim', 'jealousy', 'celeste', 'sally', 'field', 'perennial', 'nicknamed', 'sweetheart', 'awards', 'introduce', 'sun', 'vain', 'fears', 'contrary', 'wins', 'genuine', 'thrill', 'absence', 'instantly', 'cries', 'hands', 'constantly', 'fog', 'paranoia', 'indulges', 'taste', 'faye', 'baker', 'specifically', 'rosie', 'whoopi', 'goldberg', 'head', 'support', 'networks', 'freaks', 'offers', 'write', 'months', 'maggie', 'went', 'doubts', 'moved', 'la', 'fernando', 'lamas', 'lorenzo', 'aforementioned', 'stein', 'ferris', 'roll', 'pleasure', 'hidden', 'include', 'marshall', 'penny', 'command', 'says', 'likes', 'fisher', 'betsy', 'sharon', 'bitch', 'geoffrey', 'anderson', 'kevin', 'kline', 'yummy', 'dinner', 'rescued', 'barnes', 'downey', 'canned', 'presents', 'logical', 'challenges', 'scriptwriters', 'rod', 'randall', 'decapitated', 'difficulties', 'washington', 'bridge', 'longer', 'shake', 'degenerates', 'stalker', 'rid', 'promised', 'hold', 'promise', 'florida', 'argues', 'willie', 'front', 'farts', 'eating', 'amongst', 'accidents', 'hilarious', 'suit', 'forced', 'cockroaches', 'shoe', 'broken', 'surgeon', 'dating', 'laurie', 'craven', 'shue', 'rounds', 'ensemble', 'smoothly', 'montana', 'moorehead', 'cathy', 'moriarty', 'impatient', 'rise', 'publicity', 'plots', 'succeed', 'settle', 'nerves', 'fuzzy', 'lovable', 'malicious', 'reads', 'glasses', 'stitches', 'stomach', 'pouring', 'free', 'demand', 'deliver', 'crafted', 'humor', 'blazing', 'saddles', 'value', 'weep', 'source', 'addiction', 'weak', 'pay', 'pants', 'masks', 'told', 'pits', 'familial', 'preference', 'companionship', 'china', 'meet', 'wang', 'elderly', 'street', 'performer', 'talents', 'magical', 'capture', 'awe', 'witness', 'operatic', 'befriends', 'invites', 'join', 'learn', 'tradition', 'pass', 'learning', 'encouraged', 'heir', 'advice', 'fulfill', 'legacy', 'teach', 'silk', 'discovers', 'threatens', 'dying', 'invariably', 'absorbing', 'serene', 'costuming', 'international', 'help', 'inspire', 'ridicules', 'worry', 'sloppy', 'cowboy', 'ride', 'bar', 'mustache', 'shoot', 'clean', 'sometime', 'shave', 'solid', 'verite', 'honestly', 'awesome', 'concept', 'inspired', 'columbine', 'killings', 'killers', 'weaknesses', 'detracts', 'realism', 'shaky', 'distraction', 'approach', 'criticizing', 'band', 'wagon', 'syndrome', 'bash', 'freely', 'backlash', 'flaws', 'universal', 'sixteen', 'alcohol', 'competition', 'sink', 'acquire', 'failures', 'site', 'glory', 'pursuing', 'impressions', 'warned', 'drink', 'coffee', 'suggestion', 'failed', 'entertain', 'intentionally', 'overkill', 'shoved', 'throats', 'profound', 'sincerely', 'promotional', 'literature', 'trouble', 'obnoxious', 'till', 'grin', 'intentional', 'prevented', 'commentary', 'significantly', 'myers', 'runs', 'sludge', 'beaten', 'submission', 'statements', 'femme', 'fatale', 'guns', 'n', 'gals', 'breed', 'ninja', 'cracked', 'suffers', 'preventing', 'nuclear', 'holocaust', 'martial', 'arts', 'gunfire', 'earned', 'cash', 'singing', 'tank', 'answers', 'questions', 'mission', 'section', 'godfrey', 'ho', 'trans', 'hardcore', 'addicts', 'wit', 'operates', 'reaching', 'length', 'jokes', 'realize', 'punchline', 'santa', 'claus', 'gag', 'needed', 'students', 'nearly', 'artistry', 'frontal', 'huge', 'lynn', 'peterson', 'breakthrough', 'north', 'francis', 'strongest', 'driver', 'creativity', 'remove', 'profanity', 'bye', 'classes', 'beverly', 'zip', 'code', 'granny', 'jed', 'bed', 'employer', 'woronov', 'manuel', 'debt', 'asian', 'gang', 'raunchy', 'fairly', 'humour', 'beneath', 'surface', 'sensual', 'niece', 'missionary', 'africa', 'student', 'thesis', 'likable', 'villain', 'admire', 'veteran', 'willem', 'dafoe', 'ham', 'plentiful', 'picnic', 'wretched', 'employee', 'beer', 'hangover', 'stop', 'throw', 'places', 'blurb', 'suggests', 'pictures', 'betrayal', 'hurts', 'remains', 'embarrassed', 'hopelessly', 'muddled', 'demille', 'frederic', 'march', 'brings', 'starring', 'yul', 'brynner', 'andrew', 'stroke', 'genius', 'tend', 'jenna', 'jameson', 'armstrong', 'asia', 'capable', 'stephanie', 'swift', 'lovely', 'disappoint', 'adult', 'aside', 'technical', 'jeanette', 'macdonald', 'nelson', 'eddy', 'musical', 'showcases', 'abilities', 'surreal', 'fashions', 'vogue', 'popping', 'costumes', 'w', 'add', 'dreamlike', 'twinkle', 'highlight', 'everett', 'horton', 'owen', 'mona', 'maris', 'anne', 'extended', 'esther', 'sessions', 'gertrude', 'hoffman', 'cecil', 'cunningham', 'vamp', 'routines', 'marcus', 'hastings', 'spectacular', 'thumbs', 'ruin', 'cassandra', 'alter', 'ego', 'elvira', 'mistress', 'heroine', 'gravity', 'defying', 'boobs', 'anxious', 'raise', 'las', 'vegas', 'decides', 'hopes', 'massachusetts', 'cookbook', 'residents', 'mixed', 'reactions', 'teens', 'community', 'uncle', 'vincent', 'morgan', 'spells', 'warlock', 'tomorrow', 'heads', 'edie', 'hardest', 'perfect', 'peek', 'disney', 'cruella', 'devil', 'glenn', 'prison', 'cured', 'obsession', 'fur', 'psychologist', 'ugh', 'cure', 'hears', 'toll', 'coat', 'hides', 'levels', 'starting', 'thanksgiving', 'schlock', 'designed', 'suck', 'dime', 'marketing', 'machine', 'endless', 'baked', 'cake', 'paycheck', 'speaking', 'factory', 'assembly', 'restaurant', 'located', 'building', 'dogs', 'culkin', 'gags', 'villains', 'crotch', 'luggage', 'icing', 'ad', 'nauseum', 'humans', 'wasted', 'rehashed', 'spaghetti', 'cuts', 'forth', 'tramp', 'charlie', 'sheen', 'shots', 'strand', 'pushing', 'annoying', 'parrot', 'idle', 'nominated', 'dreck', 'inexplicable', 'assembled', 'talent', 'tie', 'bring', 'somethings', 'costner', 'imitations', 'page', 'wide', 'meat', 'packing', 'plant', 'twenty', 'cutting', 'defines', 'rarely', 'rings', 'trainspotting', 'occurrence', 'louis', 'masses', 'sticks', 'unique', 'mix', 'mature', 'adults', 'alike', 'enthusiasm', 'overboard', 'cgi', 'image', 'holes', 'birds', 'breathes', 'transitions', 'steady', 'nonstop', 'finish', 'added', 'liners', 'smart', 'smile', 'cry', 'tug', 'heartstrings', 'fallen', 'punk', 'rocker', 'link', 'extra', 'jazz', 'centres', 'contains', 'chorus', 'favourite', 'instant', 'surfing', 'caught', 'logo', 'horribly', 'joy', 'atrocious', 'inane', 'epic', 'tossed', 'ski', 'retreat', 'ordinary', 'choose', 'x', 'news', 'bears', 'training', 'hotel', 'check', 'toilet', 'routine', 'smells', 'plague', 'edit', 'reviewers', 'disliked', 'crazy', 'content', 'mere', 'refreshing', 'tighter', 'catalogue', 'romeo', 'division', 'spring', 'viewings', 'masterful', 'singular', 'echo', 'splendid', 'palette', 'establish', 'canvas', 'traditional', 'format', 'accustomed', 'deeply', 'revenge', 'importance', 'core', 'tim', 'sheridan', 'precise', 'direct', 'reveals', 'chilling', 'endings', 'feat', 'scott', 'bruckheimer', 'witnessed', 'detail', 'combines', 'creative', 'arrives', 'desired', 'groundbreaking', 'importantly', 'creators', 'nuke', 'em', 'overshadowed', 'turkey', 'ages', 'spoiling', 'recall', 'aircraft', 'investigation', 'overplayed', 'card', 'extreme', 'shouting', 'implausible', 'memorial', 'requisite', 'rain', 'fictitious', 'crash', 'costs', 'revel', 'attracts', 'selection', 'upset', 'apart', 'considers', 'illogical', 'behave', 'behaves', 'represents', 'amount', 'scenario', 'destroy', 'selfish', 'unfortunate', 'hypocritical', 'toxic', 'decade', 'regrets', 'slavery', 'redhead', 'feeding', 'rice', 'slaves', 'west', 'capturing', 'ponder', 'miniseries', 'promptly', 'impaled', 'gotten', 'mundane', 'creating', 'fiasco', 'whenever', 'flat', 'deaths', 'download', 'hits', 'destroys', 'intelligent', 'forms', 'behalf', 'category', 'brand', 'brain', 'closest', 'suffering', 'drives', 'speechless', 'members', 'numb', 'strange', 'wishing', 'blind', 'deaf', 'word', 'finished', 'ordeal', 'outrage', 'lifetime', 'episodes', 'cancelled', 'abc', 'city', 'bridget', 'todd', 'jared', 'jay', 'carlito', 'erika', 'christensen', 'propel', 'wb', 'season', 'meantime', 'website', 'sci', 'fi', 'sober', 'paranoid', 'inclusion', 'insert', 'stock', 'venture', 'apocalypse', 'renegade', 'missile', 'angle', 'utilized', 'greater', 'aplomb', 'strangelove', 'fail', 'safe', 'unintentional', 'particularly', 'involving', 'imminent', 'clueless', 'juvenile', 'southwest', 'gloria', 'reuben', 'chewing', 'glover', 'nyc', 'fabulous', 'rehearsal', 'exhibits', 'rage', 'games', 'accomplished', 'replaced', 'crowds', 'eyed', 'deleted', 'vittorio', 'radically', 'mamet', 'mantegna', 'annoyed', 'lack', 'racial', 'meaning', 'identity', 'apparent', 'relatively', 'harm', 'performs', 'illegal', 'minor', 'subplot', 'advertised', 'stretch', 'reasonable', 'limits', 'thriller', 'critic', 'cinemax', 'snowman', 'scare', 'besides', 'ketchup', 'uk', 'edition', 'extravagant', 'kitchen', 'bedroom', 'grateful', 'improvements', 'afford', 'welfare', 'system', 'exists', 'beg', 'receive', 'vulgar', 'placement', 'deprived', 'spending', 'hundreds', 'thousands', 'dollars', 'build', 'tools', 'borrowed', 'returned', 'materials', 'enormous', 'resentment', 'houses', 'hello', 'lou', 'prom', 'hamilton', 'lisa', 'cheating', 'date', 'bud', 'cooper', 'lewis', 'devastated', 'announced', 'queen', 'hurting', 'practical', 'throws', 'lit', 'catches', 'dress', 'toast', 'annual', 'micheal', 'ironside', 'teenage', 'craig', 'justin', 'vicki', 'wendy', 'planning', 'haunt', 'schools', 'trunk', 'opens', 'vengeful', 'intent', 'claiming', 'crown', 'spare', 'avenge', 'untimely', 'jess', 'browning', 'beth', 'suicide', 'draws', 'fix', 'liven', 'party', 'bruce', 'ron', 'oliver', 'concentrates', 'depend', 'suppose', 'gel', 'mark', 'plods', 'picks', 'kills', 'defeated', 'ready', 'count', 'graphic', 'monica', 'shower', 'locker', 'crushed', 'resulting', 'oozing', 'side', 'hallucinations', 'controlling', 'objects', 'rocking', 'zombie', 'drag', 'homages', 'sharing', 'normally', 'dependable', 'uninterested', 'hanged', 'stabbing', 'neon', 'someones', 'bursts', 'rotting', 'values', 'uneventful', 'properly', 'emotionally', 'detached', 'host', 'anyways', 'striking', 'peace', 'neighbours', 'adventures', 'halloween', 'mood', 'renaissance', 'ai', 'cooking', 'complexity', 'expectation', 'cliche', 'locations', 'gritty', 'antidote', 'hbo', 'relationships', 'treats', 'notable', 'buscemi', 'rosario', 'dawson', 'forgot', 'bach', 'stumble', 'weeks', 'dudley', 'moore', 'portrays', 'liza', 'minelli', 'kick', 'fianc', 'conversation', 'butler', 'susan', 'spitting', 'library', 'reply', 'directs', 'intentioned', 'inferior', 'albert', 'einstein', 'matthau', 'hook', 'ryan', 'robbins', 'relax', 'scientist', 'cute', 'corny', 'situations', 'meg', 'terrific', 'afloat', 'rescue', 'lackluster', 'learned', 'rules', 'countless', 'ahead', 'shred', 'irony', 'described', 'kung', 'fu', 'proud', 'figured', 'nausea', 'howard', 'guarantee', 'choice', 'notice', 'cousin', 'rap', 'decline', 'killing', 'zombies', 'preferably', 'gruesome', 'asks', 'bare', 'helicopter', 'boom', 'magically', 'drop', 'romero', 'mortal', 'kombat', 'showtime', 'mid', 'channels', 'bizarre', 'fascinating', 'discovered', 'blown', 'wilder', 'girlfriend', 'impressed', 'affected', 'dynamic', 'fluid', 'complexities', 'cleverness', 'movements', 'immediate', 'strength', 'debra', 'winger', 'manic', 'glee', 'wedding', 'dennis', 'quaid', 'clown', 'displayed', 'delivery', 'slit', 'span', 'hiding', 'lying', 'unleash', 'mischievous', 'diabolical', 'weirdness', 'internal', 'gunslinger', 'square', 'offs', 'darkly', 'energy', 'hip', 'imagination', 'parties', 'funded', 'expensive', 'conventional', 'thank', 'slip', 'awhile', 'bright', 'carnival', 'colors', 'warped', 'enthralling', 'compliment', 'dreadful', 'initially', 'disguised', 'accents', 'fake', 'surely', 'team', 'attempts', 'surprised', 'lasted', 'willis', 'type', 'revolution', 'pun', 'continue', 'fanatic', 'step', 'talking', 'topic', 'exactly', 'hoped', 'choosing', 'primitive', 'provokes', 'discussion', 'criticism', 'suggested', 'summary', 'alibi', 'produce', 'arnold', 'schwarzenegger', 'policeman', 'cheering', 'predator', 'country', 'industry', 'sane', 'artist', 'austria', 'society', 'disturbed', 'hateful', 'tuned', 'cars', 'viewpoint', 'disgusted', 'cave', 'standing', 'corner', 'disco', 'countries', 'ugly', 'persons', 'riding', 'destroying', 'folk', 'built', 'pessimistic', 'talked', 'yuck', 'redeeming', 'altering', 'moon', 'novelist', 'obsessed', 'resembling', 'chloe', 'pitt', 'cape', 'terrifying', 'touches', 'lions', 'gate', 'al', 'global', 'warming', 'lie', 'fable', 'lies', 'tree', 'mislead', 'google', 'politician', 'sucking', 'survived', 'surviving', 'amazon', 'narrates', 'vividly', 'bugs', 'skin', 'copy', 'email', 'com', 'curious', 'thanks', 'advance', 'marine', 'modicum', 'whale', 'abortion', 'harris', 'accepted', 'cents', 'hitting', 'beatings', 'wanting', 'wondering', 'wake', 'spiritual', 'perry', 'prepared', 'confusing', 'merit', 'accusations', 'horrific', 'programmer', 'aspirations', 'attempted', 'ms', 'miracle', 'behold', 'carries', 'squarely', 'shoulders', 'collapses', 'weight', 'unexplained', 'subplots', 'created', 'travel', 'addressed', 'knows', 'beat', 'traveling', 'surprises', 'confused', 'neighborhood', 'books', 'naughty', 'heck', 'snaps', 'crowd', 'watches', 'terror', 'targets', 'unsuccessful', 'proceeds', 'fireplace', 'grabs', 'throat', 'stopped', 'unresolved', 'tune', 'explained', 'van', 'lets', 'praising', 'herein', 'possibility', 'thereof', 'craft', 'competent', 'ear', 'purse', 'target', 'bravery', 'courage', 'loyalty', 'sold', 'uncaring', 'appreciate', 'pearl', 'rainer', 'exotic', 'shows', 'act', 'erased', 'shy', 'timid', 'inner', 'convey', 'muni', 'likeable', 'sweet', 'dedicated', 'age', 'yea', 'maiden', 'partly', 'acted', 'dancing', 'topless', 'knife', 'tied', 'chest', 'requires', 'liberal', 'seat', 'began', 'exploit', 'seats', 'hacks', 'limited', 'comedies', 'approaching', 'infantile', 'cross', 'dressed', 'rapist', 'bobby', 'manson', 'arrested', 'murdering', 'wrapped', 'peoples', 'zombi', 'language', 'credited', 'lucio', 'fulci', 'blame', 'bruno', 'mattei', 'carry', 'staggering', 'ineptitude', 'thin', 'skill', 'pushes', 'boat', 'funnier', 'nightmare', 'gas', 'stolen', 'base', 'thief', 'steal', 'cannibalistic', 'answered', 'tracked', 'foolishly', 'dispose', 'corpse', 'burn', 'sending', 'cannibals', 'horny', 'pressed', 'flies', 'undead', 'damned', 'appalling', 'honored', 'engage', 'charge', 'gimmick', 'horrifying', 'gunshots', 'punch', 'emphasis', 'resemble', 'v', 'sap', 'fright', 'bushes', 'underneath', 'pregnant', 'stairs', 'push', 'limbs', 'hacked', 'wounds', 'flesh', 'faces', 'originals', 'eyeball', 'piercing', 'bag', 'flying', 'stand', 'ingenious', 'radio', 'dj', 'escaping', 'print', 'destroyed', 'richer', 'shorter', 'seven', 'pounds', 'morally', 'italy', 'research', 'refers', 'venice', 'pound', 'characterized', 'cold', 'rational', 'rooted', 'aimed', 'lacking', 'authentic', 'empathy', 'incapable', 'conveying', 'involvement', 'beloved', 'caused', 'guilt', 'improbable', 'positive', 'abandon', 'committing', 'thus', 'helping', 'saved', 'miraculously', 'constructive', 'initial', 'creation', 'bible', 'disease', 'prevents', 'organs', 'physically', 'condition', 'explore', 'clash', 'born', 'cultures', 'tokyo', 'inability', 'opposites', 'attract', 'differences', 'marries', 'united', 'states', 'temporary', 'legal', 'status', 'liking', 'urging', 'dumping', 'hearts', 'strict', 'upbringing', 'japan', 'thinks', 'techno', 'nintendo', 'picked', 'reminded', 'singer', 'joins', 'opinions', 'convinced', 'f', 'hi', 'tech', 'changed', 'bother', 'comments', 'listener', 'intriguing', 'ghost', 'complaint', 'pacing', 'awkward', 'deliberate', 'realm', 'flashy', 'shattering', 'revelations', 'showdown', 'heaven', 'reservations', 'williams', 'generic', 'everyman', 'toni', 'collette', 'win', 'percent', 'coming', 'reese', 'witherspoon', 'outing', 'fresh', 'slight', 'undeniably', 'gained', 'respect', 'portrayal', 'lived', 'red', 'hood', 'kiefer', 'sutherland', 'bat', 'bats', 'employed', 'effective', 'hanging', 'caves', 'swarm', 'forty', 'downright', 'eggs', 'fifty', 'consists', 'waving', 'arms', 'managed', 'bitten', 'vacation', 'getaway', 'bravely', 'raving', 'convince', 'covered', 'sweat', 'boggling', 'cheaper', 'muppets', 'scenic', 'morons', 'insist', 'brink', 'flips', 'secondary', 'forgets', 'psychological', 'study', 'chill', 'pill', 'fifteen', 'eighty', 'steam', 'sketches', 'carr', 'physician', 'dreadfully', 'missed', 'opportunity', 'forgettable', 'mutant', 'amok', 'cuban', 'sleeper', 'sailing', 'cuba', 'caribbean', 'details', 'spent', 'socialist', 'regime', 'property', 'arise', 'relate', 'tells', 'mistakes', 'triumphs', 'posters', 'jane', 'powell', 'deanna', 'durbin', 'sopranos', 'indication', 'polar', 'impulsive', 'reunite', 'divorced', 'semi', 'daughters', 'stepfather', 'jose', 'iturbi', 'disparate', 'qualities', 'shrill', 'readings', 'energetic', 'confident', 'subdued', 'tender', 'projects', 'prior', 'consisted', 'exclusively', 'vocal', 'impossibly', 'novice', 'ease', 'assurance', 'displays', 'developing', 'experienced', 'contemporaries', 'garland', 'rooney', 'connor', 'extraordinary', 'immensely', 'tempered', 'coy', 'arch', 'afflicted', 'lyric', 'soprano', 'remarkable', 'glorious', 'instrument', 'lily', 'influenced', 'winninger', 'ray', 'milland', 'grapes', 'wrath', 'triumph', 'charismatic', 'gifted', 'adolescent', 'trailer', 'sluggish', 'julia', 'stiles', 'giddy', 'carefree', 'conformity', 'testosterone', 'elegant', 'jim', 'bride', 'route', 'cleverly', 'layers', 'motif', 'scenarios', 'program', 'selma', 'blair', 'echoed', 'risky', 'jason', 'chef', 'squandered', 'everybody', 'bills', 'vietnam', 'discover', 'heading', 'pows', 'massacre', 'colombian', 'split', 'promising', 'cut', 'el', 'crush', 'folks', 'surrender', 'shown', 'telly', 'squad', 'invade', 'packed', 'fighter', 'pilot', 'window', 'scores', 'dealers', 'bothering', 'madness', 'chew', 'heroic', 'splitting', 'confrontation', 'speech', 'rebel', 'leader', 'brown', 'tear', 'grew', 'scooby', 'doo', 'cartoons', 'darkwing', 'duck', 'pan', 'pirates', 'casey', 'shaggy', 'tolerable', 'animation', 'scrappy', 'puppy', 'missing', 'unoriginal', 'baddies', 'bethany', 'cox', 'baby', 'boomer', 'inevitably', 'mccartney', 'certainly', 'reports', 'meeting', 'plausible', 'cbc', 'goodness', 'beatles', 'melodies', 'currently', 'airing', 'pm', 'monday', 'air', 'december', 'da', 'nope', 'counted', 'brewster', 'vomit', 'farmer', 'pigs', 'birth', 'drove', 'widow', 'keeper', 'hardship', 'accurate', 'statistics', 'researched', 'actions', 'speak', 'louder', 'political', 'sprinkled', 'jimmy', 'unlike', 'integrity', 'walks', 'warm', 'travels', 'jet', 'pollution', 'heat', 'swimming', 'electricity', 'smaller', 'losses', 'rates', 'veiled', 'saving', 'pity', 'abysmal', 'lindsay', 'paint', 'tedious', 'hopefully', 'color', 'adaptations', 'stands', 'versions', 'sykes', 'hes', 'reed', 'gladiator', 'fits', 'ethel', 'mental', 'institution', 'delivered', 'halfway', 'criminally', 'holy', 'pseudonym', 'phillips', 'tape', 'translate', 'padding', 'worn', 'weaker', 'audio', 'hooked', 'downs', 'attractive', 'excessive', 'debbie', 'casual', 'rolling', 'stones', 'hippy', 'purist', 'propaganda', 'active', 'galore', 'similar', 'sunday', 'paper', 'visual', 'master', 'ridley', 'hellish', 'navy', 'seals', 'instructor', 'neil', 'demi', 'statement', 'rights', 'sinks', 'zooms', 'desert', 'sooooo', 'irritating', 'technique', 'latest', 'hawk', 'brainless', 'significant', 'widescreen', 'classics', 'blade', 'runner', 'thelma', 'louise', 'alien', 'landmark', 'achievements', 'lawyers', 'association', 'legally', 'domestic', 'muslim', 'difficulty', 'imposing', 'secular', 'efforts', 'leaders', 'share', 'reform', 'vera', 'prosecutor', 'beatrice', 'senior', 'court', 'president', 'spontaneously', 'subsequent', 'cases', 'reviewed', 'repeated', 'concerns', 'wives', 'divorce', 'complaints', 'outcomes', 'trials', 'favorable', 'perpetrators', 'terms', 'granted', 'aggressive', 'prosecution', 'demonstrates', 'justice', 'officials', 'neutral', 'noteworthy', 'iranian', 'dealt', 'subtitles', 'unprofessional', 'causes', 'powerless', 'weakness', 'amazed', 'jury', 'prize', 'cannes', 'awarded', 'stereotype', 'chief', 'leno', 'karate', 'prototype', 'rush', 'partner', 'officer', 'solve', 'farmers', 'market', 'downtown', 'detroit', 'memories', 'lookout', 'listings', 'flipping', 'stores', 'internet', 'month', 'sleepy', 'caliber', 'mis', 'identifying', 'passengers', 'baggage', 'existed', 'placing', 'hollow', 'bullets', 'damage', 'landing', 'procedure', 'sr', 'planes', 'pressure', 'seal', 'hatch', 'outward', 'nuts', 'gotta', 'vision', 'enemy', 'height', 'marred', 'par', 'model', 'strongly', 'reminiscent', 'german', 'design', 'william', 'cameron', 'ruins', 'seductive', 'st', 'compelling', 'contrast', 'rushing', 'elevated', 'laughably', 'technology', 'redeemed', 'raymond', 'massey', 'magnificent', 'concludes', 'ideal', 'progress', 'expressed', 'relevant', 'severely', 'aided', 'sir', 'bliss', 'proudly', 'edited', 'futuristic', 'workers', 'machines', 'independent', 'gentleman', 'programs', 'nonetheless', 'hometown', 'serling', 'worked', 'media', 'dad', 'nostalgic', 'viewpoints', 'decades', 'depicts', 'elsewhere', 'locale', 'provide', 'implies', 'prompted', 'doomsday', 'buttons', 'worldly', 'stretched', 'considerable', 'jeremy', 'london', 'brides', 'dropping', 'altar', 'fiend', 'ignore', 'danger', 'aging', 'sickly', 'healthy', 'keystone', 'bodies', 'hearse', 'lois', 'lane', 'reporter', 'solving', 'haunted', 'stranded', 'guest', 'dwarf', 'igor', 'assistant', 'resolves', 'aim', 'anime', 'animated', 'sports', 'ace', 'mankind', 'encounter', 'insect', 'combat', 'confidence', 'chosen', 'coach', 'personal', 'survivor', 'freud', 'russian', 'assigned', 'squadron', 'belong', 'childhood', 'roughly', 'fifties', 'artwork', 'evolve', 'solely', 'upper', 'civil', 'servants', 'colonies', 'recruited', 'begun', 'aristocracy', 'sent', 'educated', 'tended', 'favour', 'became', 'parent', 'vast', 'pupils', 'lower', 'scale', 'earl', 'colonial', 'former', 'harold', 'wilson', 'mac', 'greeted', 'cathartic', 'mild', 'october', 'event', 'policemen', 'embassy', 'windows', 'reached', 'disgruntled', 'revolutionaries', 'malcolm', 'mcdowell', 'victory', 'ruthlessly', 'gunned', 'fate', 'undoubtedly', 'succeeded', 'homosexuality', 'bullying', 'showers', 'teachers', 'traditions', 'declared', 'allegory', 'comparing', 'britain', 'corrupt', 'crumbling', 'forgotten', 'completed', 'trilogy', 'buck', 'successfully', 'lent', 'quietly', 'literary', 'goth', 'rainbow', 'harvest', 'winona', 'ryder', 'wronged', 'mirror', 'karen', 'travesty', 'suspense', 'inexplicably', 'spawned', 'sequels', 'similarly', 'endeavor', 'advised', 'search', 'geeky', 'cursed', 'compact', 'scant', 'indifferent', 'reliable', 'labor', 'emerges', 'captured', 'pleasantly', 'graham', 'greene', 'translated', 'masterpieces', 'lesser', 'vehicles', 'confidential', 'bacall', 'boyer', 'depictions', 'respectively', 'spanish', 'favor', 'blossom', 'fascism', 'capitalism', 'arises', 'ridden', 'psychology', 'claustrophobic', 'marvelous', 'managing', 'mixture', 'yearning', 'slim', 'oppression', 'profit', 'answer', 'murders', 'drawn', 'bubble', 'bounce', 'wrote', 'tower', 'pitched', 'camaraderie', 'yrs', 'amitabh', 'bachchan', 'romances', 'yr', 'cracks', 'bitter', 'unconventional', 'pair', 'locales', 'rainy', 'captivating', 'opposition', 'extent', 'test', 'cancer', 'maureen', 'emily', 'sisters', 'heartbreaking', 'midst', 'gorilla', 'frightened', 'rene', 'russo', 'feminine', 'straw', 'adversary', 'territory', 'contemplate', 'similarity', 'eg', 'britney', 'bashing', 'focus', 'spears', 'realised', 'sang', 'recognise', 'worried', 'promotion', 'epidemic', 'esteem', 'texan', 'hannibal', 'commented', 'fr', 'pulp', 'unscrupulous', 'wwi', 'paths', 'vie', 'et', 'horses', 'riders', 'taped', 'ring', 'ole', 'chunk', 'italians', 'dough', 'rehash', 'government', 'experiments', 'foremost', 'godfather', 'spice', 'substance', 'terrorists', 'soulless', 'personality', 'guts', 'eagles', 'defies', 'jack', 'existent', 'gripe', 'unfinished', 'closer', 'z', 'philippines', 'islands', 'sucks', 'passes', 'impress', 'goo', 'pointlessly', 'coolness', 'occasions', 'nail', 'assed', 'organized', 'variety', 'dreams', 'romp', 'underworld', 'choices', 'norm', 'regardless', 'personalities', 'pattern', 'favourites', 'ingredients', 'outdated', 'balance', 'moods', 'hk', 'stinker', 'sparse', 'dragon', 'dynasty', 'releases', 'regarded', 'infernal', 'affairs', 'disjointed', 'spoken', 'continuity', 'monologue', 'ignoring', 'sammo', 'hung', 'stunt', 'kickboxer', 'reb', 'backyard', 'swear', 'cage', 'punches', 'inches', 'horrid', 'frank', 'stallone', 'leaves', 'christ', 'rapture', 'quote', 'boiled', 'changing', 'correct', 'truth', 'upcoming', 'miami', 'vice', 'charmingly', 'hugely', 'legend', 'creek', 'abound', 'fishing', 'vicious', 'bigfoot', 'bay', 'resides', 'bratty', 'brothers', 'sensible', 'tomboy', 'sweetly', 'feisty', 'strokes', 'sitcom', 'dana', 'treacherous', 'marsh', 'fierce', 'storm', 'furry', 'bear', 'gentle', 'benevolent', 'sasquatch', 'relates', 'leisurely', 'drawing', 'affection', 'thankfully', 'sentiment', 'organic', 'restrained', 'sticky', 'sappy', 'adorable', 'gilligan', 'plucky', 'offer', 'enjoyably', 'ol', 'sunny', 'achingly', 'fragile', 'untouched', 'civilization', 'splendor', 'deck', 'blends', 'crawling', 'synthesizer', 'sonic', 'warrants', 'kiddie', 'johnny', 'prestigious', 'palm', 'triad', 'democratic', 'machinations', 'tony', 'leung', 'ka', 'yu', 'train', 'ashes', 'lam', 'iii', 'mafia', 'ceremonies', 'gasp', 'veterans', 'coburn', 'chain', 'retired', 'lays', 'trap', 'kidnapping', 'hershey', 'lawman', 'accompanied', 'mitchum', 'pursuit', 'followers', 'broke', 'jail', 'handling', 'proceedings', 'customary', 'peckinpah', 'fully', 'repellent', 'generated', 'incidentally', 'appeared', 'troubled', 'dundee', 'scan', 'tcm', 'strives', 'garrett', 'maintains', 'dignity', 'ageing', 'attempting', 'anticipating', 'tackles', 'brutish', 'forcing', 'associates', 'rape', 'fool', 'villainous', 'obsolete', 'protagonists', 'demise', 'sacrifice', 'parks', 'ineffectual', 'sheriff', 'mexican', 'lieutenant', 'larry', 'chips', 'youngest', 'drooling', 'mates', 'goldsmith', 'contributes', 'interaction', 'mouse', 'manhattan', 'exploration', 'apple', 'j', 'indulgent', 'buys', 'busy', 'bollywood', 'outside', 'risk', 'billing', 'humiliation', 'cinematographer', 'cigarette', 'bulb', 'pole', 'flame', 'burning', 'forgiven', 'promote', 'dimension', 'sholay', 'willing', 'participants', 'eager', 'begs', 'abomination', 'demonstration', 'hence', 'satisfied', 'relevance', 'embarrassingly', 'rising', 'grave', 'steel', 'continuous', 'entry', 'silliness', 'occurring', 'darkness', 'leo', 'carrol', 'suspicious', 'reasonably', 'nigel', 'rathbone', 'sherlock', 'holmes', 'cargo', 'utilizing', 'produced', 'suitably', 'moody', 'fails', 'fantasy', 'upsets', 'metaphors', 'parallels', 'biblical', 'impossible', 'ian', 'hunter', 'smug', 'censors', 'boston', 'agreed', 'banned', 'moviegoers', 'complained', 'cities', 'gable', 'crawford', 'flopped', 'oddly', 'revival', 'flows', 'moralistic', 'destiny', 'whoever', 'foot', 'classical', 'admitted', 'violin', 'applying', 'teaching', 'theory', 'professor', 'necessity', 'angela', 'professors', 'holly', 'carmen', 'notes', 'lighter', 'shocking', 'ignorance', 'sings', 'mutilated', 'painfully', 'disgraceful', 'mozart', 'sounded', 'drums', 'electric', 'anyhow', 'suspend', 'elaborated', 'feminist', 'hypocrisy', 'beside', 'assault', 'uncomfortable', 'presenting', 'rapists', 'engaging', 'associated', 'caligula', 'cannibal', 'commended', 'financial', 'envelope', 'poorly', 'occurs', 'hum', 'notorious', 'ppv', 'wwe', 'hulk', 'hogan', 'warrior', 'flair', 'crop', 'pushed', 'lex', 'heavyweight', 'champion', 'express', 'bid', 'championship', 'anticipation', 'razor', 'ramon', 'defeating', 'ted', 'slave', 'shock', 'raw', 'july', 'teamed', 'inc', 'tag', 'irwin', 'matches', 'vs', 'steiner', 'putting', 'heavenly', 'interference', 'tennis', 'racket', 'shawn', 'michaels', 'wrestlemania', 'confronted', 'distracted', 'ally', 'bodyguard', 'diesel', 'proved', 'difference', 'throwing', 'bret', 'hart', 'injured', 'arranged', 'passable', 'jumped', 'ban', 'wrestle', 'refused', 'reversed', 'undertaker', 'rivalry', 'client', 'taker', 'rumble', 'bart', 'bam', 'board', 'slam', 'knocking', 'balloons', 'ceiling', 'congratulate', 'retained', 'unnecessarily', 'manipulative', 'issues', 'ie', 'nash', 'context', 'crowe', 'shuffle', 'hat', 'qualify', 'health', 'realise', 'considered', 'thrillers', 'dutch', 'verhoeven', 'basic', 'instinct', 'starship', 'troopers', 'disillusioned', 'author', 'seaside', 'recovering', 'mysterious', 'renee', 'husbands', 'circumstances', 'psycho', 'alfred', 'hitchcock', 'orson', 'gripping', 'dario', 'argento', 'mentally', 'fugitive', 'occasion', 'ink', 'skeletons', 'luckily', 'needle', 'wu', 'hysterical', 'swords', 'chanting', 'wolves', 'timing', 'notch', 'southern', 'unreal', 'scripts', 'guessed', 'washed', 'bland', 'platform', 'screams', 'heyday', 'dungeons', 'dragons', 'pen', 'rpg', 'millions', 'geeks', 'tho', 'controversy', 'satan', 'blah', 'legitimate', 'concern', 'dates', 'horrendously', 'college', 'aptly', 'allure', 'gaming', 'request', 'robbie', 'kate', 'daniel', 'entrance', 'cardboard', 'forbidden', 'payoff', 'atop', 'towers', 'unintentionally', 'hanks', 'awake', 'breakdown', 'listing', 'whilst', 'included', 'buddies', 'stable', 'consequences', 'someplace', 'impersonating', 'carrying', 'spoiled', 'brat', 'doris', 'prostitute', 'likewise', 'sole', 'weller', 'assassinate', 'arab', 'cocktail', 'waitress', 'national', 'reward', 'protocol', 'department', 'unknown', 'agenda', 'map', 'borders', 'arabia', 'barren', 'rub', 'quarter', 'virtually', 'strategic', 'immense', 'keen', 'ruler', 'transpires', 'harem', 'ruse', 'ensure', 'opportunities', 'satirical', 'toned', 'foreign', 'policy', 'ronald', 'nine', 'presidential', 'election', 'soviet', 'union', 'voters', 'iran', 'vehicle', 'goldie', 'hawn', 'cuteness', 'natured', 'naive', 'limit', 'automatically', 'blonde', 'recipe', 'inconsistent', 'wears', 'revealing', 'costume', 'imagining', 'rebecca', 'bunny', 'comedienne', 'unfunny', 'strained', 'blue', 'kinski', 'kidnaps', 'mini', 'identical', 'wisdom', 'uttering', 'democracy', 'constitution', 'citizen', 'liberty', 'eternal', 'parable', 'flower', 'penn', 'teller', 'briggs', 'nights', 'bloom', 'cynthia', 'rothrock', 'admittedly', 'patient', 'hospital', 'university', 'prof', 'batch', 'quotes', 'substandard', 'splatter', 'vcr', 'cleaner', 'brief', 'thousand', 'cheaply', 'documentaries', 'frame', 'artists', 'varied', 'concepts', 'shared', 'tragedies', 'abstract', 'censored', 'controversial', 'conservative', 'segments', 'tick', 'egypt', 'soldier', 'palestinian', 'spirits', 'recounts', 'backed', 'overthrow', 'resulted', 'atrocities', 'mexico', 'vivid', 'uneven', 'vary', 'liu', 'shines', 'comical', 'unorthodox', 'tying', 'stunts', 'choreography', 'mess', 'manchu', 'thugs', 'ruthless', 'tigers', 'financing', 'warriors', 'rocky', 'lo', 'wes', 'electrical', 'freddie', 'krueger', 'scream', 'owed', 'pic', 'lincoln', 'combined', 'placed', 'asleep', 'wheel', 'phrase', 'herbie', 'loaded', 'lindsey', 'confession', 'selling', 'respected', 'matt', 'dillon', 'climb', 'faster', 'racer', 'thirteen', 'martin', 'nolte', 'vic', 'morrow', 'tests', 'ford', 'generations', 'lynch', 'chronicle', 'alvin', 'strangers', 'isolation', 'reconciliation', 'farnsworth', 'caps', 'caring', 'sissy', 'spacek', 'rose', 'positively', 'brass', 'hustler', 'con', 'sidekick', 'dustin', 'friendship', 'survival', 'landscape', 'explored', 'symbolic', 'mat', 'ilk', 'befriended', 'leave', 'confines', 'sunshine', 'losers', 'finesse', 'salt', 'barry', 'haunting', 'midnight', 'desperation', 'tough', 'underbelly', 'aspects', 'lasting', 'republicans', 'remarks', 'confront', 'darkest', 'liberated', 'questioning', 'bravo', 'magnum', 'opus', 'shining', 'web', 'alas', 'education', 'guides', 'shade', 'vermont', 'finest', 'trees', 'posturing', 'merely', 'bass', 'held', 'keyboard', 'holds', 'shame', 'maturity', 'shocked', 'account', 'topics', 'prostitution', 'slang', 'abuse', 'noting', 'pg', 'briefly', 'voight', 'texas', 'roy', 'rogers', 'outfit', 'rejected', 'ratso', 'rizzo', 'convinces', 'kinds', 'conned', 'homeless', 'invited', 'dilapidated', 'apartment', 'gigolo', 'regain', 'cab', 'bangs', 'hurry', 'sends', 'recruit', 'excited', 'arguing', 'defense', 'wayne', 'gonna', 'nd', 'cleaned', 'prevalent', 'smashed', 'impresses', 'matured', 'influence', 'flashback', 'interpretation', 'shannon', 'kicking', 'spades', 'exhilarating', 'brandon', 'chip', 'innovative', 'unit', 'marking', 'offspring', 'pleasing', 'michel', 'wong', 'supreme', 'whistling', 'football', 'knightley', 'archie', 'jonathon', 'meyers', 'loves', 'cook', 'secretly', 'juliet', 'abroad', 'frenchman', 'descent', 'heritage', 'attitudes', 'announces', 'driving', 'agrees', 'obligation', 'discuss', 'rigid', 'stubborn', 'undercurrent', 'hostility', 'repression', 'phony', 'westerners', 'islam', 'juxtaposition', 'generation', 'clarity', 'annoy', 'arm', 'lesbians', 'hookers', 'fades', 'wipes', 'separate', 'bands', 'werewolves', 'rubber', 'attached', 'apply', 'wrists', 'hrs', 'useful', 'experiment', 'ads', 'recollection', 'bait', 'switch', 'campaign', 'millennium', 'hybrid', 'pond', 'prince', 'erratic', 'shifting', 'melodrama', 'pitch', 'focuses', 'lilly', 'san', 'francisco', 'idaho', 'grandmother', 'georgia', 'replete', 'shift', 'veers', 'alcoholism', 'dysfunctional', 'families', 'settles', 'varying', 'degrees', 'lohan', 'tactics', 'palpable', 'credible', 'alcoholic', 'recognize', 'seventy', 'weather', 'dimensions', 'stares', 'execrable', 'counterparts', 'surfer', 'na', 'devout', 'mormon', 'delay', 'stint', 'triple', 'wounded', 'widower', 'paula', 'regular', 'hector', 'cameos', 'trademark', 'variations', 'reel', 'featurette', 'banality', 'common', 'decency', 'bounces', 'ludicrous', 'conan', 'abundance', 'neck', 'swinging', 'gut', 'idiocy', 'sheer', 'storytelling', 'yep', 'celebrating', 'naval', 'knowledge', 'finer', 'hackman', 'submarine', 'argue', 'daniels', 'ruby', 'keeler', 'breaks', 'ankle', 'styles', 'dressing', 'swing', 'horn', 'gabriel', 'blowing', 'dancer', 'adding', 'info', 'blues', 'amanda', 'randolph', 'hazel', 'diaz', 'entertainer', 'harlem', 'guardian', 'lena', 'drunk', 'leg', 'tall', 'handsome', 'aspiring', 'seymour', 'highlights', 'jaw', 'tap', 'blacks', 'whites', 'frequently', 'integrated', 'bold', 'stormy', 'signs', 'glimpse', 'classy', 'spencer', 'nina', 'mae', 'waters', 'robeson', 'rex', 'nightclub', 'historic', 'paradise', 'punching', 'strings', 'sepia', 'cinderella', 'beers', 'enjoyment', 'introduction', 'executed', 'colour', 'safely', 'austen', 'fluffy', 'darker', 'edges', 'churchill', 'glossed', 'fleshed', 'beckinsale', 'quirks', 'casually', 'harriet', 'remorse', 'proposal', 'ruining', 'marital', 'happiness', 'mirrors', 'achieve', 'aims', 'suffered', 'governess', 'treating', 'crushing', 'awakening', 'childlike', 'transition', 'thoughtful', 'prefer', 'roman', 'gesture', 'troops', 'arriving', 'korean', 'jump', 'warner', 'bros', 'salute', 'patriotism', 'celebrities', 'appearances', 'develops', 'budding', 'starlet', 'skinny', 'delivering', 'newspapers', 'bicycle', 'airplane', 'carrier', 'childish', 'females', 'distinct', 'numbers', 'glamorous', 'cagney', 'pokes', 'wyman', 'reprise', 'causing', 'undemanding', 'adequate', 'render', 'strictly', 'shuttle', 'launched', 'gold', 'dimensional', 'exist', 'pieced', 'olds', 'incomprehensible', 'multiple', 'shockingly', 'equal', 'expression', 'charms', 'grasp', 'applied', 'nation', 'voodoo', 'snake', 'romanian', 'dean', 'cher', 'require', 'stewart', 'lend', 'experiencing', 'leslie', 'bondage', 'robbed', 'cockney', 'boyfriend', 'mildred', 'afi', 'joyce', 'heath', 'interviews', 'advertisements', 'wwii', 'hindsight', 'yo', 'carpet', 'rko', 'greatness', 'warners', 'astute', 'instrumental', 'bringing', 'statue', 'doubtless', 'exemplary', 'depth', 'characterization', 'sidewalk', 'stardom', 'peer', 'measure', 'anna', 'nicole', 'struck', 'verge', 'goal', 'arrived', 'led', 'dom', 'troubling', 'distract', 'dust', 'shelf', 'standouts', 'asylum', 'yesterday', 'bored', 'cards', 'indicating', 'progression', 'clothing', 'unclear', 'breast', 'forehead', 'poisoned', 'cheerleader', 'rear', 'photo', 'graduation', 'gown', 'menacing', 'dorm', 'views', 'information', 'process', 'unto', 'shipping', 'mass', 'amounts', 'marijuana', 'cocaine', 'shed', 'intervention', 'suburbia', 'evident', 'hints', 'outright', 'honesty', 'ridiculously', 'hammer', 'overview', 'burns', 'peaks', 'careless', 'biased', 'untrue', 'conditions', 'uniform', 'definite', 'magician', 'salvage', 'recognised', 'professionalism', 'whining', 'grates', 'nervous', 'disinterested', 'curly', 'porter', 'potter', 'disagree', 'devilish', 'wrecks', 'havoc', 'amy', 'adopts', 'asinine', 'cradle', 'filth', 'bandwagon', 'popped', 'camcorder', 'surroundings', 'evolved', 'noticed', 'shoes', 'skull', 'employs', 'joined', 'steals', 'beats', 'unmotivated', 'originated', 'stuffed', 'size', 'complicated', 'functional', 'marks', 'hardy', 'committed', 'blunder', 'responsible', 'marion', 'beau', 'andy', 'escort', 'polly', 'reluctant', 'understands', 'lionel', 'barrymore', 'conviction', 'glue', 'mickey', 'cecilia', 'parker', 'sara', 'hayden', 'margaret', 'marquis', 'featured', 'observe', 'painted', 'guard', 'cafe', 'arizona', 'bothered', 'loose', 'nancy', 'allen', 'hewitt', 'scoop', 'winds', 'tub', 'omen', 'didnt', 'wasnt', 'screening', 'risible', 'reject', 'lessons', 'timeless', 'injustice', 'changes', 'sought', 'oppressed', 'freedom', 'apartheid', 'biko', 'journalism', 'donald', 'woods', 'higher', 'shaking', 'rodney', 'dangerfield', 'athletic', 'stiller', 'nods', 'correctness', 'politically', 'pc', 'apologies', 'ins', 'racy', 'kidding', 'peculiar', 'disclaimer', 'suggesting', 'mormons', 'saints', 'religion', 'utah', 'turgid', 'staged', 'enduring', 'duke', 'vile', 'relieved', 'ali', 'rohmer', 'pointed', 'alienating', 'consciousness', 'elitist', 'akira', 'kurosawa', 'den', 'partnership', 'formed', 'knights', 'arguably', 'cheese', 'slum', 'contributed', 'dramas', 'strengths', 'adversity', 'backdrop', 'fault', 'challenge', 'cohesive', 'stopping', 'pray', 'branch', 'restaurants', 'descriptions', 'rapes', 'meek', 'constant', 'drunks', 'stumbling', 'clockwork', 'demands', 'spouses', 'salesman', 'bike', 'hole', 'erotic', 'streets', 'bergman', 'shattered', 'deathly', 'sits', 'cloth', 'silence', 'painter', 'silences', 'improvise', 'compositions', 'amid', 'designs', 'scheme', 'paintings', 'sprawling', 'spilling', 'seams', 'vibrant', 'edged', 'indelible', 'beard', 'truths', 'sentimentality', 'freddy', 'backstory', 'abusive', 'zane', 'yaphet', 'kotto', 'incidents', 'jock', 'roberto', 'spectrum', 'exaggerated', 'combination', 'pedophilia', 'worship', 'undercover', 'jesus', 'alright', 'gospel', 'gosh', 'premier', 'ranting', 'wooden', 'rupert', 'jennifer', 'mannerisms', 'stays', 'overlooked', 'concert', 'kissing', 'sum', 'vet', 'backwoods', 'rednecks', 'billed', 'josie', 'sheep', 'cam', 'jumps', 'devoid', 'bourne', 'chased', 'deeper', 'armed', 'battered', 'mm', 'exaggerating', 'astonishingly', 'winding', 'shook', 'editor', 'flashing', 'pages', 'boys', 'allowing', 'monstrosity', 'cia', 'misunderstood', 'traitor', 'operative', 'drops', 'floor', 'oppressive', 'threat', 'eh', 'assassin', 'undergoes', 'deputy', 'wonders', 'cease', 'hearing', 'courts', 'round', 'ultimatum', 'delirious', 'pryor', 'murphy', 'inspiration', 'comedians', 'lovingly', 'provocative', 'stargate', 'spin', 'expand', 'neill', 'companion', 'samantha', 'compassionate', 'parasites', 'inserted', 'deeds', 'deemed', 'planets', 'device', 'pressing', 'knit', 'understandable', 'instances', 'braveheart', 'darth', 'vader', 'stayed', 'astonished', 'luke', 'tortured', 'sith', 'mon', 'ewoks', 'fatally', 'obi', 'wan', 'yoda', 'anakin', 'skywalker', 'sebastian', 'leia', 'jabba', 'duel', 'bikini', 'channeling', 'woody', 'pause', 'edgy', 'sixties', 'seventies', 'cd', 'bin', 'dear', 'angles', 'raimi', 'raptor', 'raptors', 'rudolph', 'breakfast', 'champions', 'slides', 'theaters', 'kurt', 'vonnegut', 'slaughter', 'stilted', 'neglected', 'encourage', 'familiarity', 'affecting', 'polanski', 'masterfully', 'variation', 'repulsion', 'honest', 'goer', 'acknowledge', 'le', 'satisfactory', 'torture', 'deneuve', 'tangible', 'elaborate', 'tortures', 'opposed', 'fooling', 'fulfilling', 'rosemary', 'struggle', 'identify', 'lured', 'lure', 'dumber', 'noises', 'pamela', 'denise', 'chock', 'favorites', 'rightly', 'providing', 'commits', 'faux', 'pas', 'exam', 'mcgee', 'molly', 'senator', 'eugene', 'acquainted', 'stereotypical', 'refugee', 'henry', 'wallace', 'communist', 'newspaper', 'reporters', 'philip', 'drastically', 'reminder', 'tunes', 'armageddon', 'inferno', 'kane', 'wrestling', 'spots', 'opener', 'teddy', 'defend', 'regal', 'taylor', 'ladder', 'carnage', 'teams', 'chaos', 'fest', 'shortly', 'rope', 'nearby', 'joey', 'mercury', 'busted', 'grab', 'retain', 'announce', 'increase', 'replay', 'boogeyman', 'dud', 'benoit', 'kennedy', 'slug', 'exceptions', 'tomb', 'stoned', 'screwed', 'diva', 'ashley', 'cena', 'batista', 'booker', 'knee', 'chair', 'scored', 'savior', 'osama', 'september', 'tapes', 'journalists', 'afghanistan', 'unprepared', 'vendetta', 'laden', 'document', 'terrorist', 'convenient', 'idiotic', 'protagonist', 'speeches', 'mishaps', 'wear', 'whine', 'baffled', 'doom', 'rooting', 'deliverance', 'canoe', 'victimized', 'hillbillies', 'anal', 'bow', 'arrow', 'shootings', 'bones', 'immature', 'pile', 'masters', 'pro', 'suckers', 'describes', 'praises', 'notices', 'technically', 'attenborough', 'sensation', 'broadway', 'moron', 'irons', 'musicals', 'danced', 'projection', 'unforgettable', 'colorful', 'grainy', 'mtv', 'texture', 'sweeping', 'snatch', 'keira', 'lucy', 'coherent', 'domino', 'affluent', 'bounty', 'hunters', 'suspected', 'robbers', 'removed', 'crack', 'obese', 'afro', 'fakes', 'springer', 'struggles', 'granddaughter', 'collectors', 'fee', 'noses', 'dragged', 'sporadically', 'bent', 'fbi', 'surveillance', 'operation', 'veritable', 'pam', 'grier', 'nurse', 'seeks', 'blaxploitation', 'racist', 'demeaning', 'degrading', 'threads', 'chases', 'crazed', 'populated', 'pimps', 'mobsters', 'scum', 'heroines', 'nails', 'unwatchable', 'foxy', 'sleaze', 'bearable', 'inaccurate', 'misleading', 'eloquent', 'academic', 'disrespectful', 'region', 'invention', 'en', 'suspiciously', 'hitch', 'destination', 'tales', 'adulterous', 'campers', 'outlaw', 'chronicles', 'clancy', 'woefully', 'strangest', 'dreary', 'beggars', 'belief', 'gimmicky', 'tad', 'overused', 'castro', 'enthusiastic', 'eyeballs', 'messy', 'decapitation', 'positives', 'stroll', 'seasoned', 'sneaking', 'siege', 'argentina', 'gung', 'creates', 'hostage', 'collins', 'woodward', 'professionals', 'ditch', 'touted', 'roger', 'atlanta', 'morning', 'stale', 'robotic', 'exceedingly', 'online', 'godzilla', 'cried', 'creepiest', 'mixing', 'aztec', 'beliefs', 'jolly', 'suited', 'pedophile', 'heavens', 'whichever', 'harder', 'shops', 'african', 'peeping', 'pervert', 'listens', 'mrs', 'elves', 'mechanical', 'toys', 'floating', 'freak', 'cloud', 'nemesis', 'minions', 'prancing', 'purest', 'redundant', 'doll', 'praying', 'resists', 'temptation', 'rewarded', 'chucky', 'uh', 'huh', 'merlin', 'stake', 'hundred', 'drank', 'bars', 'california', 'correctly', 'inmates', 'rehearsed', 'performed', 'crimes', 'adapt', 'oz', 'robin', 'dramatization', 'per', 'se', 'sandra', 'rory', 'achieving', 'guide', 'amuse', 'saturday', 'showcase', 'dances', 'majestic', 'corn', 'singin', 'definately', 'greats', 'caron', 'filling', 'perfection', 'ballet', 'minnelli', 'nod', 'reynolds', 'recommendation', 'chuck', 'soil', 'explosions', 'superpowers', 'hay', 'milk', 'looney', 'toons', 'batman', 'traits', 'mario', 'greedy', 'calculated', 'dug', 'err', 'pirate', 'charged', 'studios', 'simpson', 'snoopy', 'freaking', 'charley', 'defeat', 'warlord', 'import', 'outfits', 'relief', 'kinda', 'spinal', 'nighy', 'kilter', 'recapture', 'rea', 'succeeding', 'regret', 'myra', 'studded', 'bizarrely', 'operations', 'gain', 'sarne', 'incoherent', 'hazzard', 'fox', 'intervals', 'judy', 'shirley', 'temple', 'laced', 'newly', 'loretta', 'sued', 'permission', 'emerge', 'goddess', 'welch', 'seduce', 'nubile', 'farrah', 'fawcett', 'raping', 'depending', 'symbol', 'nineteen', 'formidable', 'upscale', 'hunky', 'selleck', 'endured', 'closely', 'resembles', 'meaningful', 'handedly', 'description', 'adapting', 'mores', 'brainer', 'leather', 'disconcerting', 'morita', 'fluff', 'engine', 'dislike', 'suits', 'output', 'lawrence', 'zany', 'cos', 'upside', 'insanity', 'snow', 'fairy', 'coke', 'swiss', 'dope', 'pale', 'haired', 'switzerland', 'tagline', 'authenticity', 'spectator', 'remained', 'housewife', 'musician', 'fraction', 'spain', 'confesses', 'admiration', 'dealer', 'heartless', 'owner', 'playboy', 'photographer', 'exposes', 'pornographic', 'samir', 'akin', 'pseudo', 'typically', 'swallow', 'acceptance', 'homophobia', 'ram', 'conceived', 'woeful', 'homo', 'camp', 'creator', 'wreck', 'distribution', 'czech', 'highest', 'republic', 'uncompromising', 'beings', 'optimism', 'appearing', 'hallucination', 'redgrave', 'simplicity', 'skirts', 'admirable', 'slick', 'pairs', 'mothers', 'natasha', 'richardson', 'meryl', 'streep', 'mamie', 'youthful', 'incarnation', 'claire', 'danes', 'eileen', 'atkins', 'hugh', 'patrick', 'hungarian', 'continental', 'environment', 'connections', 'triangle', 'understandably', 'woven', 'symphony', 'shine', 'discovery', 'vaguely', 'admission', 'inviting', 'raises', 'thereafter', 'popcorn', 'artistically', 'justify', 'challenged', 'retard', 'summarize', 'unrelated', 'legends', 'depicting', 'nutshell', 'lung', 'contestant', 'prodigy', 'contestants', 'homosexual', 'bartender', 'oral', 'subsequently', 'womanizing', 'guru', 'rains', 'frogs', 'unbelievably', 'rambling', 'rhyme', 'crosses', 'classified', 'sentences', 'swayze', 'solomon', 'mines', 'indiana', 'dropped', 'chamberlain', 'stone', 'andrea', 'struggling', 'hooker', 'wielding', 'leak', 'unanswered', 'dreaming', 'crouching', 'groove', 'overacted', 'consuming', 'liquor', 'pathetically', 'hitler', 'janis', 'joplin', 'faint', 'spark', 'valley', 'dolls', 'equals', 'brow', 'pacino', 'warns', 'chopped', 'shotgun', 'table', 'hammy', 'screeching', 'halt', 'recovers', 'lingers', 'scholars', 'filmmakers', 'lastly', 'ethnic', 'slashing', 'clarence', 'necessary', 'fury', 'nada', 'finding', 'lucky', 'drift', 'prepare', 'gangster', 'racism', 'nicky', 'musicians', 'gangsters', 'horrendous', 'determination', 'kyle', 'yards', 'yard', 'royal', 'sufficient', 'slap', 'banal', 'tedium', 'required', 'rushed', 'cole', 'shaun', 'cassidy', 'enjoys', 'interested', 'contract', 'accordingly', 'comet', 'trial', 'seedy', 'vaudeville', 'logically', 'unaware', 'kidnapped', 'somber', 'hesitate', 'monkeys', 'voyage', 'denzel', 'almighty', 'carrey', 'freeman', 'messing', 'anchor', 'painting', 'elite', 'vague', 'subjective', 'ross', 'stated', 'tables', 'handicapped', 'expressing', 'definition', 'bullshit', 'chose', 'bull', 'oil', 'graffiti', 'giants', 'surf', 'breathing', 'waves', 'tara', 'options', 'dial', 'flawlessly', 'spread', 'users', 'flawless', 'spoke', 'lip', 'devised', 'gloss', 'der', 'downfall', 'marriages', 'usa', 'hannah', 'orthodox', 'jew', 'digging', 'nazi', 'jews', 'concentration', 'camps', 'relatives', 'situated', 'berlin', 'gunfights', 'di', 'lyrics', 'describing', 'grandson', 'revive', 'richards', 'filmography', 'slipped', 'customers', 'trek', 'frontier', 'improving', 'graphics', 'volunteer', 'league', 'volume', 'congratulations', 'complement', 'derek', 'bon', 'jovi', 'weapons', 'net', 'searching', 'enable', 'sunlight', 'diego', 'luna', 'catholic', 'darius', 'simplest', 'hal', 'hartley', 'wary', 'terrorism', 'kudos', 'ensues', 'crossing', 'tickets', 'grim', 'caine', 'bacon', 'visible', 'serum', 'celebrate', 'persuade', 'desperately', 'grip', 'realises', 'laboratory', 'marlowe', 'owes', 'petty', 'blend', 'subtlety', 'rat', 'sadistic', 'cup', 'climatic', 'layer', 'veins', 'reverse', 'eaten', 'spike', 'hose', 'streak', 'panic', 'kazan', 'orleans', 'fill', 'improvisation', 'urgency', 'dispute', 'dumped', 'dock', 'coroner', 'official', 'widmark', 'examination', 'confirms', 'insists', 'contacts', 'infectious', 'commissioner', 'potentially', 'obstacles', 'hampered', 'cooperation', 'immigrant', 'proprietor', 'immigrants', 'blackie', 'palance', 'mostel', 'vince', 'tommy', 'ongoing', 'assumes', 'efficiently', 'responsibilities', 'determined', 'convincingly', 'thug', 'distinctive', 'docu', 'realist', 'influences', 'precision', 'excels', 'warehouse', 'resume', 'housewives', 'credentials', 'unmarried', 'accompanying', 'squeeze', 'pine', 'lauren', 'hopkins', 'infant', 'ice', 'auto', 'diane', 'keaton', 'mutual', 'receives', 'overbearing', 'grief', 'uncovers', 'thirst', 'departed', 'thread', 'filler', 'privacy', 'altered', 'grady', 'harp', 'clerk', 'renting', 'mel', 'brooks', 'knockout', 'rob', 'stole', 'corpses', 'trite', 'amateurs', 'residence', 'attribute', 'ireland', 'superstitious', 'hokum', 'crossed', 'spends', 'dragging', 'aching', 'revered', 'emerging', 'kar', 'wai', 'dripping', 'accessible', 'wasting', 'nothingness', 'meditation', 'alienation', 'deer', 'auteur', 'applauded', 'mastered', 'drafted', 'corporations', 'identities', 'lazy', 'winded', 'trips', 'smash', 'drew', 'workplace', 'industrial', 'hunt', 'stevenson', 'rep', 'motor', 'collapse', 'trade', 'devoted', 'satisfaction', 'chat', 'misunderstandings', 'answering', 'delicate', 'balancing', 'buster', 'wendt', 'turturro', 'clint', 'candles', 'volunteers', 'nephew', 'ceo', 'dominating', 'string', 'beetle', 'juice', 'teaming', 'mimi', 'supplies', 'edwin', 'lowell', 'ganz', 'incidental', 'composed', 'newman', 'paramount', 'surround', 'dolby', 'digital', 'grain', 'helpful', 'complain', 'shelley', 'duvall', 'eve', 'arden', 'wicked', 'garden', 'matthew', 'broderick', 'jean', 'orchestra', 'quintessential', 'misplaced', 'wry', 'bumps', 'transformation', 'occurred', 'gray', 'conveys', 'complements', 'helplessness', 'hopelessness', 'addresses', 'startling', 'innocents', 'bone', 'bush', 'endowed', 'mentality', 'henchman', 'lair', 'domain', 'ra', 'princess', 'lion', 'hiking', 'flushed', 'excruciatingly', 'ramones', 'static', 'approaches', 'decrepit', 'attended', 'nurses', 'hall', 'monitors', 'announcing', 'solution', 'kicked', 'submit', 'skelton', 'brien', 'dynamite', 'exceptional', 'mildly', 'stride', 'preachy', 'possess', 'carefully', 'cramped', 'confinement', 'underground', 'lab', 'clearer', 'undermined', 'predictability', 'swearing', 'darn', 'swears', 'despised', 'fathers', 'slime', 'hindi', 'buff', 'educational', 'sympathize', 'bust', 'iconic', 'inter', 'ambient', 'noise', 'planted', 'caan', 'duval', 'intimate', 'ensuing', 'homage', 'depalma', 'alfredo', 'garcia', 'lecture', 'snl', 'skit', 'meadows', 'leon', 'consisting', 'largely', 'tiffany', 'amber', 'dee', 'mindless', 'eminently', 'quotable', 'ooh', 'youth', 'tricked', 'censorship', 'unbalanced', 'emptiness', 'gutter', 'rotten', 'cinematographic', 'succumb', 'ww', 'olivier', 'witnesses', 'eagerly', 'awaiting', 'europeans', 'dvds', 'circumstance', 'sharpe', 'sean', 'connery', 'hobby', 'outcast', 'solace', 'learns', 'antique', 'collect', 'foe', 'nuff', 'rival', 'tip', 'cusack', 'snappy', 'walker', 'sooo', 'nathan', 'thick', 'tips', 'duo', 'conquer', 'leonard', 'taut', 'consultant', 'scheider', 'stood', 'blackmail', 'porno', 'vanity', 'preston', 'exploitive', 'shtick', 'cutesy', 'stream', 'outs', 'buildings', 'alec', 'hilton', 'seuss', 'directorial', 'prowess', 'factual', 'parallel', 'stellar', 'entourage', 'hickok', 'buffalo', 'cody', 'calamity', 'custer', 'abraham', 'interact', 'floats', 'dangerously', 'spectacle', 'heap', 'manufactured', 'relic', 'moderately', 'artifacts', 'minimum', 'balanced', 'jodorowsky', 'peripheral', 'bewildered', 'horrified', 'surrounded', 'haunts', 'crispin', 'slide', 'devastating', 'dazed', 'prophetic', 'superhero', 'scantily', 'clad', 'wet', 'expects', 'negative', 'valid', 'feed', 'titanic', 'sleepless', 'seattle', 'shudder', 'additionally', 'outrageously', 'proof', 'mummy', 'monte', 'sell', 'phenomenon', 'nineties', 'piano', 'fewer', 'forrest', 'gump', 'aroused', 'suggestions', 'jodie', 'nell', 'preferred', 'autobiography', 'irish', 'christy', 'dublin', 'cerebral', 'wrongly', 'chalk', 'toes', 'published', 'poet', 'forties', 'grey', 'isle', 'believed', 'crippled', 'exterior', 'specially', 'cart', 'factors', 'christie', 'jerky', 'intellectually', 'brenda', 'warts', 'portrait', 'foul', 'prone', 'outbursts', 'disability', 'facets', 'misguided', 'dozens', 'grease', 'fortunately', 'michelle', 'pfeiffer', 'evidently', 'humiliating', 'maxwell', 'gamut', 'sassy', 'deadpan', 'linger', 'connie', 'sid', 'caesar', 'clunker', 'frenetic', 'exhausted', 'nostalgia', 'evoked', 'choreographer', 'birch', 'polite', 'inflicted', 'seek', 'blockbusters', 'recovered', 'plunges', 'avid', 'liberties', 'seasons', 'bonus', 'reasoning', 'atrocity', 'unsure', 'proceeded', 'joker', 'begging', 'penguin', 'knockoff', 'freeze', 'jewel', 'ivy', 'hippie', 'shameful', 'rethink', 'experiences', 'sucker', 'pyun', 'photographed', 'sigh', 'corman', 'offended', 'nerds', 'chooses', 'elected', 'republican', 'inventive', 'cruelty', 'protect', 'carol', 'bing', 'crosby', 'grating', 'continual', 'brave', 'visitor', 'fish', 'spaced', 'waltz', 'roosevelt', 'wig', 'bendix', 'moe', 'stooges', 'delve', 'trend', 'wholeheartedly', 'intentions', 'associate', 'palatable', 'function', 'robots', 'meaningless', 'underdog', 'dummies', 'mandatory', 'quasi', 'slapped', 'stirred', 'template', 'noticeable', 'goofs', 'wishes', 'eventual', 'emphasize', 'loop', 'miraculous', 'universe', 'exploded', 'evils', 'conversion', 'novels', 'theories', 'thinner', 'intends', 'terribly', 'penalty', 'ventures', 'unravel', 'climactic', 'sterile', 'warfare', 'composition', 'commander', 'deepest', 'treason', 'mister', 'regarding', 'dien', 'prisoner', 'cell', 'padded', 'interminable', 'boiler', 'spit', 'appallingly', 'sailors', 'towns', 'extremes', 'aid', 'medicine', 'arabic', 'trader', 'ustinov', 'hopeless', 'englishman', 'harrison', 'holden', 'malik', 'rides', 'miserably', 'camel', 'morality', 'plotting', 'forgivable', 'sells', 'omar', 'sharif', 'cleese', 'stinking', 'unscathed', 'exploding', 'minimal', 'gestures', 'boundaries', 'ostensibly', 'belonging', 'reinforce', 'explosive', 'sin', 'clone', 'muse', 'attorney', 'manipulated', 'stalked', 'unforgivable', 'sidney', 'lumet', 'lay', 'spongebob', 'butch', 'hartman', 'lol', 'underwear', 'coup', 'cosmo', 'battery', 'sentence', 'mistaken', 'nickelodeon', 'stations', 'everyday', 'raven', 'izzard', 'brits', 'blunt', 'knowledgeable', 'pioneers', 'medical', 'wrapping', 'peak', 'denouement', 'portions', 'estranged', 'fires', 'whiz', 'kooky', 'functions', 'perplexed', 'keitel', 'europe', 'realized', 'mega', 'cleaver', 'burned', 'nt', 'babies', 'accidental', 'tons', 'stan', 'ollie', 'spinning', 'graves', 'fundamental', 'laurel', 'bronson', 'foreigner', 'schtick', 'welsh', 'pakistani', 'overdone', 'stepping', 'dirt', 'innate', 'absent', 'gaps', 'summed', 'fraternity', 'nadir', 'leagues', 'harmon', 'copyright', 'fart', 'glass', 'mummies', 'bottles', 'spear', 'poker', 'holliday', 'cukor', 'hearted', 'lemmon', 'muster', 'recycled', 'enamored', 'soft', 'wimp', 'threesome', 'jan', 'alot', 'unfair', 'assessment', 'bygone', 'geek', 'perpetual', 'donna', 'laura', 'masterson', 'hyde', 'ashton', 'kutcher', 'exchange', 'promiscuous', 'jo', 'phenomenal', 'kitty', 'marie', 'tanya', 'chong', 'stoner', 'anachronistic', 'deplorable', 'ferrer', 'switched', 'dopey', 'boorish', 'attach', 'maid', 'elegance', 'portion', 'renoir', 'switches', 'estate', 'elena', 'appreciating', 'nuances', 'sixth', 'sleuth', 'terrifically', 'distinctly', 'palmer', 'hughes', 'precocious', 'orphan', 'cared', 'wits', 'yuppie', 'vocabulary', 'heartwarming', 'rendered', 'proverbial', 'carrot', 'enticing', 'babble', 'alternate', 'shane', 'les', 'attendant', 'shares', 'unhinged', 'milieu', 'concealed', 'trades', 'exquisitely', 'frames', 'grimy', 'cliches', 'ambitions', 'pidgeon', 'despair', 'steer', 'philosophy', 'tastes', 'ned', 'myth', 'exaggeration', 'ensures', 'odds', 'plates', 'sparks', 'victorian', 'australia', 'inhuman', 'superhuman', 'wore', 'establishes', 'reversal', 'corruption', 'convicted', 'nearest', 'versus', 'wildly', 'seamlessly', 'ledger', 'orlando', 'desolate', 'naomi', 'watts', 'bum', 'dried', 'established', 'rockets', 'closing', 'ditto', 'conclude', 'fixed', 'collage', 'linking', 'shootout', 'annoyingly', 'depict', 'shootouts', 'glance', 'noirish', 'otto', 'preminger', 'tierney', 'posh', 'sophisticated', 'weapon', 'hoods', 'routinely', 'confessions', 'crooks', 'det', 'dixon', 'brighter', 'accused', 'standout', 'quibble', 'unsavory', 'polished', 'trusting', 'penultimate', 'spock', 'mccoy', 'kirk', 'beam', 'librarian', 'periods', 'reprises', 'unhappy', 'witchcraft', 'jailed', 'doorway', 'beta', 'enterprise', 'shatner', 'behaving', 'executive', 'bray', 'donkey', 'hippies', 'eden', 'emotion', 'error', 'imagined', 'inhabitants', 'doomed', 'travelling', 'dove', 'problematic', 'belongs', 'ritchie', 'demanded', 'refund', 'walked', 'madonna', 'lina', 'lagoon', 'precious', 'masked', 'stalk', 'bentley', 'drowning', 'miscast', 'vanilla', 'churning', 'perplexing', 'resolved', 'ss', 'slice', 'throwaway', 'sustain', 'unrated', 'tame', 'patiently', 'clothed', 'pounding', 'lively', 'staple', 'firstly', 'stanley', 'allison', 'kimberly', 'kisses', 'riveting', 'theo', 'robertson', 'adequately', 'volumes', 'existing', 'germany', 'boats', 'allies', 'patton', 'clark', 'racing', 'monty', 'rome', 'bombing', 'auschwitz', 'wrap', 'cannibalism', 'experimentation', 'prisoners', 'dave', 'jarring', 'aliens', 'speedy', 'sock', 'puppet', 'cattle', 'spaceship', 'pompous', 'hillary', 'masterwork', 'similarities', 'promoting', 'harmony', 'silently', 'protest', 'mumbling', 'rochester', 'ny', 'inexperienced', 'suspenseful', 'guaranteed', 'slept', 'peril', 'springs', 'lloyd', 'reruns', 'underwater', 'narrating', 'voting', 'convoluted', 'connect', 'subversive', 'futility', 'unnoticed', 'tripe', 'lingering', 'hendrix', 'pee', 'guitar', 'cameras', 'fools', 'operate', 'wander', 'chicks', 'documenting', 'bleeding', 'wally', 'interspersed', 'tracks', 'berkeley', 'woodstock', 'phoned', 'myrna', 'loy', 'voyager', 'careful', 'casts', 'repugnant', 'packaged', 'gackt', 'sho', 'kei', 'grows', 'immortality', 'ripe', 'minds', 'authors', 'contact', 'terry', 'gilliam', 'conception', 'conclusions', 'regard', 'schizophrenic', 'wrenching', 'visited', 'manipulating', 'psychiatrist', 'madeleine', 'airport', 'path', 'external', 'boggles', 'dwell', 'send', 'drunken', 'debacle', 'accurately', 'observes', 'distracting', 'coincidence', 'hitchhiker', 'galaxy', 'chess', 'recreation', 'spoofs', 'lounge', 'superstars', 'bravado', 'nicolas', 'roeg', 'served', 'signature', 'appalled', 'affects', 'concerning', 'del', 'reyes', 'replaces', 'entering', 'illegally', 'crucial', 'flee', 'clock', 'uneasy', 'alliance', 'waterfront', 'employing', 'contrasting', 'ethical', 'outcome', 'warren', 'barbera', 'bel', 'tensions', 'impressively', 'mcdonald', 'slimy', 'reprehensible', 'walter', 'dominates', 'ample', 'allegorical', 'brando', 'lends', 'heightened', 'prophecy', 'studying', 'posts', 'facts', 'witnessing', 'tool', 'inducing', 'snail', 'committee', 'inspirational', 'twins', 'successes', 'spelling', 'hut', 'inch', 'flimsy', 'threw', 'exorcist', 'feared', 'kruger', 'stupidest', 'betty', 'grable', 'ravishing', 'irresistible', 'dashing', 'creaky', 'village', 'attributed', 'locals', 'frankenstein', 'atwill', 'advancement', 'arbitrary', 'herring', 'herman', 'dwight', 'frye', 'torch', 'rampage', 'fay', 'wray', 'collaborations', 'tendency', 'stray', 'derivative', 'homeland', 'governments', 'anglo', 'perception', 'ocean', 'aerial', 'orbit', 'viable', 'option', 'removal', 'substantially', 'papers', 'suspects', 'appeals', 'exile', 'astonishing', 'nevertheless', 'concluded', 'rightful', 'satisfy', 'autistic', 'motives', 'chow', 'mash', 'basketball', 'shaolin', 'monastery', 'manual', 'monk', 'teaches', 'assisted', 'monks', 'pretending', 'basket', 'sharply', 'defined', 'shadow', 'uma', 'thurman', 'underrated', 'nailed', 'lunatic', 'faris', 'ivan', 'virginia', 'niven', 'watered', 'goof', 'narrator', 'grodin', 'mcgavin', 'sweetness', 'neighbors', 'bully', 'jewels', 'resources', 'progressed', 'tends', 'espionage', 'pickup', 'directions', 'humane', 'toby', 'mill', 'forwards', 'magazines', 'scripting', 'antics', 'splendidly', 'bosses', 'megan', 'transformers', 'sophie', 'teresa', 'brit', 'contrasted', 'tabloid', 'lapses', 'collective', 'baddie', 'decaying', 'disappearance', 'larger', 'enigmatic', 'clues', 'resonates', 'watcher', 'interpret', 'subtleties', 'achilles', 'alexander', 'heel', 'mythology', 'neat', 'simplistic', 'sixty', 'westerns', 'dastardly', 'minimalist', 'truck', 'shop', 'tavern', 'alongside', 'corrupted', 'bares', 'woo', 'rises', 'knees', 'enemies', 'commandments', 'assumption', 'giovanni', 'medieval', 'peasant', 'diatribe', 'adventurous', 'assumptions', 'norwegian', 'norway', 'trusted', 'inject', 'freshness', 'listened', 'dared', 'newer', 'behaviour', 'trailers', 'sexes', 'mocks', 'lonely', 'sleek', 'sophistication', 'elevates', 'foreboding', 'bootleg', 'amc', 'curtain', 'rogue', 'loner', 'marc', 'promoted', 'karl', 'malden', 'robust', 'commanding', 'rats', 'spits', 'rolls', 'bureau', 'matters', 'relies', 'syndicate', 'sworn', 'bogart', 'fodder', 'passionate', 'melodramatic', 'angelic', 'psychosis', 'destruction', 'frighteningly', 'nit', 'sterling', 'dub', 'serving', 'ghetto', 'sonny', 'quarters', 'lifeless', 'shorts', 'risqu', 'strippers', 'preview', 'bigoted', 'canada', 'bursting', 'angie', 'rosanna', 'ubiquitous', 'bath', 'posing', 'midget', 'midgets', 'virgin', 'carell', 'crass', 'heartfelt', 'curiosity', 'ferrell', 'anchorman', 'daily', 'electronics', 'signals', 'paints', 'belonged', 'pals', 'conceal', 'rudd', 'cal', 'seth', 'tattooed', 'sack', 'optimistic', 'trish', 'catherine', 'chagrin', 'worrying', 'judd', 'renowned', 'glowing', 'reception', 'combine', 'naivety', 'unlikable', 'jerks', 'bittersweet', 'chord', 'innuendo', 'offend', 'entries', 'pie', 'offering', 'hinted', 'mexicans', 'shady', 'appreciates', 'sensibilities', 'boone', 'drivers', 'april', 'brennan', 'hint', 'burst', 'captures', 'stress', 'thereby', 'accomplishment', 'investment', 'ghastly', 'lone', 'tonight', 'warnings', 'chin', 'eli', 'wallach', 'lands', 'hooks', 'arty', 'remarkably', 'tennessee', 'fort', 'loudly', 'memoirs', 'determine', 'intention', 'unappealing', 'mumbles', 'noel', 'coward', 'fleeting', 'spelled', 'diluted', 'joanna', 'resourceful', 'dunn', 'kissed', 'wilderness', 'stab', 'camping', 'token', 'unexpectedly', 'arrive', 'disappearing', 'ralph', 'ghosts', 'papa', 'stir', 'grabbing', 'splits', 'blindly', 'starving', 'panther', 'stabbed', 'erupts', 'shelter', 'disappear', 'reunited', 'suspension', 'toad', 'ang', 'apology', 'bana', 'unlikeable', 'easiest', 'mimic', 'banner', 'fought', 'concede', 'tanks', 'helicopters', 'heroics', 'interacting', 'cartoonish', 'muscle', 'emotionless', 'relentlessly', 'unconvincing', 'liv', 'tyler', 'connelly', 'blake', 'overacts', 'erase', 'norton', 'roth', 'liam', 'neeson', 'jessica', 'lange', 'scotland', 'essence', 'infatuation', 'coastal', 'wiped', 'abigail', 'mitchell', 'testimony', 'irritates', 'embarrassing', 'executioner', 'realities', 'abby', 'squirm', 'wardrobe', 'unfold', 'finnish', 'blond', 'swedish', 'scarlet', 'hara', 'skirt', 'sporting', 'hairdo', 'finland', 'mansfield', 'ears', 'geisha', 'polish', 'samurai', 'crowning', 'gail', 'barton', 'abducted', 'burke', 'virtue', 'threatened', 'traffic', 'claimed', 'panning', 'tucker', 'ideals', 'luther', 'balls', 'invasion', 'splash', 'laughton', 'canon', 'flowing', 'comfort', 'lillian', 'christianity', 'represent', 'joys', 'revere', 'fetched', 'arguments', 'mentions', 'narrated', 'csi', 'flew', 'invalid', 'mckenzie', 'strip', 'interests', 'outings', 'tempting', 'wisely', 'sellers', 'notably', 'edna', 'dame', 'ernest', 'sydney', 'inherit', 'absorb', 'tow', 'customs', 'duties', 'suitcase', 'tubes', 'crafty', 'taxi', 'bernard', 'landlord', 'milligan', 'meter', 'escapades', 'curry', 'schoolboy', 'charity', 'vomiting', 'centre', 'hosted', 'cans', 'flames', 'daisy', 'percy', 'dick', 'premiere', 'blast', 'crocodile', 'aussie', 'unemployed', 'goofy', 'amused', 'cocky', 'wished', 'sullivan', 'admired', 'calm', 'heartily', 'paulie', 'bird', 'janitor', 'hop', 'mockumentary', 'overacting', 'subjected', 'momma', 'inherently', 'hysterically', 'angus', 'unofficial', 'colonel', 'northern', 'vincenzo', 'bombs', 'sands', 'seagal', 'unsuspecting', 'spared', 'collaboration', 'thunder', 'dudikoff', 'excitement', 'abruptly', 'consist', 'shoddy', 'romania', 'relentless', 'pets', 'murdoch', 'stalwart', 'histrionics', 'linden', 'herbert', 'rail', 'bargained', 'ghostly', 'trains', 'repartee', 'fifth', 'nowadays', 'harmless', 'norman', 'chances', 'pays', 'broad', 'salon', 'angst', 'brooklyn', 'moonlight', 'romanticized', 'greek', 'subtly', 'blending', 'amicus', 'disappoints', 'rd', 'method', 'dominic', 'cloak', 'bennett', 'vulnerable', 'rocked', 'stunningly', 'focused', 'ton', 'wolfe', 'morris', 'babysitter', 'heighten', 'doctors', 'heed', 'plea', 'dominant', 'pregnancy', 'sarcasm', 'recognizable', 'glenda', 'farrell', 'bottle', 'waits', 'macmahon', 'limitations', 'spout', 'scratch', 'fairness', 'katherine', 'purposefully', 'brilliance', 'id', 'attacks', 'vapid', 'earnest', 'recalls', 'colleagues', 'fragments', 'provoked', 'overwhelmingly', 'bitterly', 'compromised', 'alain', 'reader', 'construct', 'substitute', 'violated', 'illusion', 'poking', 'inconsistencies', 'sections', 'implications', 'irritation', 'deny', 'encountering', 'graceful', 'responses', 'exposing', 'morton', 'dramatized', 'amusement', 'brisk', 'melancholy', 'ought', 'icy', 'winter', 'dam', 'frozen', 'pub', 'precisely', 'refusal', 'poverty', 'widowed', 'sons', 'solutions', 'latino', 'origin', 'ira', 'hoodlum', 'paired', 'rookie', 'homicide', 'gruff', 'imo', 'insightful', 'disservice', 'logan', 'dense', 'guests', 'pretends', 'heights', 'uptight', 'fuller', 'harlow', 'eyebrows', 'birthday', 'restoration', 'flooding', 'majesty', 'elvis', 'gusto', 'heartbreak', 'roaring', 'admirer', 'informs', 'invested', 'assist', 'outer', 'debatable', 'conquers', 'martians', 'lithgow', 'clause', 'sized', 'weir', 'flirting', 'confronts', 'tightly', 'ordered', 'readily', 'framework', 'collide', 'awareness', 'picking', 'riddle', 'register', 'revelation', 'resonance', 'symbolism', 'barrels', 'terrain', 'interior', 'tribal', 'reservation', 'destructive', 'sport', 'virtual', 'surfers', 'greg', 'rode', 'maverick', 'centerpiece', 'messiah', 'adopted', 'stripped', 'syrupy', 'brutality', 'elisha', 'cuthbert', 'fourteen', 'communicate', 'elevator', 'hottest', 'gong', 'snapshot', 'prominent', 'murderers', 'peach', 'oldest', 'vin', 'blamed', 'danish', 'richter', 'surrounding', 'suicidal', 'wheelchair', 'muted', 'respond', 'whimsical', 'imposed', 'ponderous', 'businessman', 'promises', 'coffin', 'terrified', 'plastic', 'skulls', 'grader', 'composer', 'eighteen', 'tomatoes', 'enjoying', 'los', 'angeles', 'applause', 'checked', 'cg', 'cheezy', 'dolph', 'detention', 'armored', 'grindhouse', 'punks', 'glow', 'gods', 'wrought', 'overrated', 'merits', 'abbott', 'costello', 'claptrap', 'winners', 'anticlimactic', 'inventing', 'fabric', 'prospect', 'setup', 'tax', 'intertwined', 'reno', 'supporters', 'pedro', 'dentist', 'root', 'canal', 'sail', 'tentacles', 'centered', 'alex', 'hysterics', 'crashes', 'funeral', 'progressively', 'clara', 'controlled', 'nest', 'comprehensive', 'overwhelming', 'appreciation', 'counts', 'motivated', 'prequel', 'manipulation', 'mocking', 'communism', 'comparable', 'competitors', 'absurdly', 'charging', 'iraq', 'haha', 'lied', 'unleashed', 'exposed', 'tate', 'donovan', 'depiction', 'anguish', 'exhausting', 'madsen', 'dash', 'alley', 'buzz', 'sniper', 'bagdad', 'hardened', 'daredevil', 'iraqi', 'shaken', 'jacket', 'platoon', 'longing', 'diamonds', 'whisper', 'whip', 'cringed', 'smarmy', 'salacious', 'remote', 'click', 'readers', 'torment', 'sacred', 'throne', 'conflicts', 'parsons', 'chicago', 'proclaimed', 'boyfriends', 'spouse', 'lance', 'smiling', 'juan', 'cohorts', 'delight', 'lester', 'valentine', 'outlandish', 'rant', 'damon', 'patriotic', 'instruments', 'refuse', 'lunch', 'wisecracks', 'judgement', 'suburban', 'jersey', 'subtext', 'humdrum', 'criminals', 'weigh', 'screenplays', 'landscapes', 'victoria', 'bettany', 'economic', 'monarch', 'evokes', 'screenwriter', 'julian', 'federal', 'hoover', 'graduated', 'practice', 'twenties', 'harding', 'administration', 'appointed', 'enforcement', 'competence', 'arresting', 'prologue', 'airline', 'insurance', 'creeps', 'perpetrator', 'fondness', 'murray', 'equivalent', 'oates', 'valerie', 'consumption', 'finance', 'conscience', 'partners', 'restore', 'nihilistic', 'prominently', 'abandons', 'gunpoint', 'hopping', 'banks', 'rio', 'grande', 'disposed', 'clumsily', 'underwhelming', 'borderline', 'goldsworthy', 'fundamentally', 'outdoors', 'sand', 'mud', 'extend', 'weary', 'utmost', 'gratitude', 'whore', 'alexandre', 'pierre', 'fran', 'ing', 'refer', 'dread', 'stimulating', 'intellect', 'pretentiousness', 'covering', 'sunrise', 'sunset', 'talky', 'trivial', 'beforehand', 'scathing', 'faking', 'naturalistic', 'agony', 'jarmusch', 'lifted', 'parisian', 'tracking', 'lucid', 'dribble', 'aiming', 'nc', 'historically', 'fiennes', 'schindler', 'amazes', 'desk', 'slapping', 'hack', 'dig', 'nazis', 'genetic', 'cassel', 'lock', 'lips', 'bradford', 'brigitte', 'hues', 'macho', 'creatures', 'eliminate', 'sexist', 'albeit', 'voted', 'enthusiasts', 'melodramas', 'imaginable', 'wei', 'zhang', 'wealthy', 'li', 'intolerable', 'risks', 'purposely', 'glamor', 'europa', 'exercise', 'knox', 'thankless', 'cope', 'kindly', 'improve', 'sufficiently', 'midway', 'distraught', 'downhill', 'terminal', 'illness', 'needing', 'pit', 'rossellini', 'humphrey', 'suspended', 'dodge', 'errol', 'flynn', 'hale', 'mc', 'miriam', 'bogie', 'tougher', 'mighty', 'terminator', 'rambo', 'lethal', 'invincible', 'choreographed', 'marvel', 'blob', 'pa', 'mismatched', 'ultra', 'excrement', 'excellently', 'blanket', 'consumed', 'lamb', 'reilly', 'conversations', 'liz', 'debts', 'peaceful', 'dealings', 'sharks', 'firm', 'believer', 'knives', 'explosives', 'firearms', 'paco', 'pops', 'fond', 'masochistic', 'endearing', 'ariel', 'melody', 'morgana', 'gaping', 'backgrounds', 'bite', 'unbearably', 'lacked', 'scandal', 'ellen', 'banana', 'droll', 'whimsy', 'cesar', 'abel', 'menjou', 'adore', 'aiello', 'headstrong', 'letter', 'olympia', 'dukakis', 'delusion', 'quit', 'wisconsin', 'minnesota', 'engagement', 'colleague', 'jumping', 'arrival', 'settlers', 'bison', 'companies', 'tourist', 'rebuild', 'granger', 'violently', 'nolan', 'russ', 'tamblyn', 'constance', 'cinemascope', 'technicolor', 'distant', 'prairie', 'noble', 'outdoor', 'myths', 'scaring', 'mum', 'tearful', 'ramblings', 'eleven', 'immune', 'thrilled', 'unspoken', 'management', 'sites', 'touched', 'uttered', 'thaw', 'copies', 'successor', 'grips', 'bordering', 'factions', 'compete', 'affect', 'citizens', 'marisa', 'tomei', 'slumming', 'hilary', 'duff', 'wigs', 'shivers', 'pasolini', 'echoes', 'fassbinder', 'conventions', 'civilized', 'deserted', 'hotels', 'castles', 'defence', 'functioning', 'violation', 'repetitious', 'aggression', 'intimacy', 'repetition', 'werner', 'domination', 'ownership', 'tactic', 'responsibility', 'replied', 'immoral', 'gielgud', 'linda', 'parasite', 'verdict', 'bulk', 'magnolia', 'acclaimed', 'calibre', 'confessed', 'meandering', 'crying', 'empathise', 'demonstrating', 'intricate', 'yadda', 'nanny', 'goat', 'servant', 'motorcycle', 'emulate', 'shakti', 'kapoor', 'govinda', 'khan', 'steaming', 'crud', 'vent', 'gathering', 'saura', 'milestone', 'honor', 'riches', 'tango', 'flamenco', 'potent', 'pales', 'interpretations', 'isaac', 'suite', 'composers', 'imaginative', 'indy', 'traveled', 'regional', 'jewish', 'portugal', 'arrogance', 'panache', 'emphasized', 'pretense', 'screens', 'collaborators', 'beginnings', 'marked', 'bend', 'participant', 'indicate', 'pianist', 'contribution', 'stomping', 'bandits', 'miike', 'esquire', 'therein', 'ambiguous', 'metaphor', 'folly', 'yokai', 'lore', 'creatively', 'multi', 'rad', 'sketch', 'inconsequential', 'sofia', 'coppola', 'enlightened', 'paz', 'vega', 'freed', 'specialty', 'comparatively', 'grocery', 'carson', 'bargain', 'staff', 'fascination', 'embittered', 'relegated', 'unsung', 'efficiency', 'construction', 'penelope', 'cruz', 'redeemable', 'vulnerability', 'service', 'craftsmanship', 'payne', 'sideways', 'devito', 'perlman', 'knight', 'marathon', 'snippets', 'worldwide', 'crockett', 'craze', 'mgm', 'recap', 'officially', 'mcmahon', 'wwf', 'archive', 'headquarters', 'connecticut', 'hokey', 'knocks', 'bakshi', 'taught', 'animators', 'sorcery', 'insomniac', 'tess', 'budgets', 'pecker', 'emerged', 'lite', 'exhibited', 'furlong', 'histrionic', 'shepherd', 'neal', 'miranda', 'stuart', 'melts', 'dreamy', 'deja', 'vu', 'symbols', 'plainly', 'organization', 'nobility', 'individuals', 'macgregor', 'clan', 'borrow', 'cronies', 'penniless', 'effeminate', 'resolve', 'attributes', 'deviant', 'amoral', 'hound', 'cigarettes', 'wanna', 'analyzing', 'respectable', 'constraints', 'goers', 'habit', 'doses', 'bastard', 'mumbai', 'earn', 'caper', 'mile', 'loyal', 'gal', 'icon', 'outline', 'reeve', 'occur', 'dyan', 'cannon', 'irene', 'irritate', 'sleepaway', 'aka', 'hostess', 'nbc', 'musically', 'eclectic', 'sadness', 'intelligently', 'harmed', 'registered', 'monitor', 'leap', 'jesse', 'callous', 'hilariously', 'subway', 'forgive', 'forwarding', 'faulty', 'gathered', 'printed', 'updated', 'chic', 'illustrated', 'update', 'fleming', 'maintained', 'retaining', 'flavour', 'discarded', 'dahlia', 'straightforward', 'corky', 'activities', 'generate', 'lizzie', 'maguire', 'sp', 'indictment', 'talentless', 'debate', 'dodgy', 'devices', 'seinfeld', 'rang', 'gross', 'jackass', 'stupidity', 'approved', 'reeks', 'tasteless', 'preparation', 'chuckles', 'badass', 'cue', 'accomplish', 'sammy', 'lest', 'passenger', 'ingredient', 'yay', 'pesky', 'bites', 'increasingly', 'ft', 'shoots', 'ingenuity', 'bout', 'necrophilia', 'bonding', 'posted', 'samuel', 'bags', 'agreeable', 'slows', 'crawl', 'cub', 'installment', 'misadventures', 'offbeat', 'scratching', 'romy', 'schneider', 'austrian', 'balcony', 'inn', 'kentucky', 'adrian', 'deathtrap', 'orchestrated', 'doorstep', 'kidnap', 'understatement', 'blackmailed', 'fling', 'mercy', 'sweating', 'models', 'brooding', 'sociopath', 'realizing', 'creep', 'travolta', 'marrying', 'finger', 'pizza', 'button', 'winters', 'carey', 'contribute', 'lolita', 'oddball', 'weaver', 'agnes', 'yvette', 'welles', 'starr', 'greta', 'garbo', 'ernst', 'lubitsch', 'ideally', 'melvyn', 'borg', 'smitten', 'inadvertently', 'twin', 'fidelity', 'carole', 'lombard', 'mischief', 'shenanigans', 'wartime', 'bogus', 'teased', 'reportedly', 'detour', 'photographs', 'inbred', 'fend', 'captors', 'friendships', 'strife', 'katie', 'wed', 'addictive', 'imagery', 'relaxing', 'commentators', 'musings', 'attend', 'lectures', 'medium', 'expertly', 'transcends', 'roots', 'rapport', 'shrink', 'smuggling', 'conspiracy', 'psychiatric', 'separates', 'terence', 'damian', 'denominator', 'sa', 'hijack', 'boost', 'expertise', 'darryl', 'lightweight', 'colleen', 'deol', 'pakistan', 'palace', 'jonathan', 'hawaii', 'bangkok', 'thailand', 'ticket', 'economy', 'sentenced', 'sarah', 'marginal', 'launching', 'excel', 'challenging', 'dumbest', 'math', 'hats', 'reid', 'macmurray', 'lamp', 'genie', 'fantasies', 'marching', 'june', 'lace', 'spy', 'virtues', 'wine', 'yellow', 'goose', 'characterizations', 'columbus', 'isabella', 'queens', 'corps', 'smoke', 'abbey', 'rivers', 'dalton', 'sacrifices', 'auditioning', 'gandhi', 'audition', 'environments', 'imaginations', 'indifference', 'extends', 'twelve', 'smashing', 'adolescence', 'injury', 'pathos', 'fosse', 'prejudice', 'bates', 'meanings', 'requiem', 'walsh', 'hyper', 'saturated', 'decadent', 'tiresome', 'agents', 'romanticism', 'coincidences', 'jerker', 'distinguished', 'seldom', 'existential', 'habits', 'unimpressive', 'pioneering', 'marlene', 'dietrich', 'synonymous', 'biopic', 'scorsese', 'bettie', 'gretchen', 'mol', 'chops', 'pin', 'tastefully', 'harron', 'abrupt', 'nominations', 'deserving', 'moaning', 'overwrought', 'promisingly', 'youngster', 'compassion', 'needy', 'downtrodden', 'locks', 'troubles', 'hilt', 'arc', 'marxist', 'soaked', 'stepped', 'embraced', 'mystical', 'toronto', 'zu', 'tsui', 'hark', 'productions', 'holland', 'returns', 'picky', 'puppies', 'ominous', 'transvestite', 'frighten', 'beware', 'wicker', 'thinly', 'befuddled', 'hatred', 'complaining', 'groups', 'floors', 'glitter', 'werewolf', 'scandalous', 'temporarily', 'enhance', 'popularity', 'anastasia', 'abandoning', 'francois', 'lighthearted', 'colours', 'absorbed', 'principles', 'convictions', 'persuaded', 'knowingly', 'exploiting', 'delusions', 'henri', 'ignores', 'moderate', 'expose', 'ne', 'jacques', 'madcap', 'marx', 'relaxed', 'stink', 'kubrick', 'enormously', 'layered', 'salem', 'tobe', 'hooper', 'stature', 'accomplishments', 'notwithstanding', 'lamest', 'narratives', 'luzhin', 'charts', 'watson', 'wealth', 'learnt', 'encourages', 'enables', 'inspires', 'fulfillment', 'emotive', 'collected', 'www', 'evelyn', 'amiable', 'snobs', 'hebrew', 'persuasion', 'converted', 'scarlett', 'johansson', 'sondra', 'mcshane', 'aristocratic', 'jackman', 'cream', 'moreover', 'ambitious', 'protests', 'captivated', 'drown', 'jade', 'tricks', 'spewing', 'maintaining', 'desirable', 'artificial', 'tainted', 'homicidal', 'maniac', 'wolverine', 'aristocrat', 'diverting', 'meal', 'deliciously', 'escapist', 'bombastic', 'preceded', 'verbally', 'phoenix', 'regards', 'overblown', 'foolish', 'backdrops', 'rousing', 'bra', 'panties', 'savage', 'afore', 'transported', 'barbarian', 'owned', 'blended', 'grinning', 'coin', 'lau', 'ransom', 'shopping', 'ya', 'belushi', 'pinnacle', 'identifiable', 'fraud', 'mysteriously', 'diary', 'occupied', 'formulas', 'shadowy', 'lovecraft', 'employ', 'nefarious', 'avenue', 'soccer', 'yen', 'ping', 'assistants', 'revolves', 'assuming', 'ching', 'acquired', 'discovering', 'despicable', 'smack', 'arrogant', 'gibson', 'shrek', 'bug', 'iq', 'kells', 'exquisite', 'stylistically', 'richness', 'feast', 'senses', 'lavish', 'celtic', 'pencil', 'brush', 'nora', 'saloon', 'crews', 'recommending', 'spreading', 'accolades', 'annie', 'stahl', 'benson', 'buffy', 'someday', 'jungles', 'plantation', 'foreman', 'finch', 'elephant', 'contention', 'elephants', 'reclaim', 'blocked', 'audiard', 'emmanuelle', 'devos', 'manipulate', 'heist', 'steamy', 'uncut', 'kit', 'disc', 'containing', 'egan', 'devious', 'machinery', 'narrow', 'mi', 'faked', 'bail', 'spies', 'das', 'lads', 'cynic', 'sorrow', 'louie', 'lingo', 'scrooge', 'repetitive', 'slapstick', 'scarecrow', 'maggots', 'intestines', 'wont', 'anytime', 'gallery', 'goody', 'follower', 'philosopher', 'urges', 'claw', 'eliminated', 'seduction', 'cells', 'embracing', 'timon', 'pumbaa', 'simba', 'sore', 'ballad', 'ernie', 'perspectives', 'yahoo', 'eagle', 'gossett', 'wimpy', 'shirt', 'armand', 'jagger', 'fetching', 'clifford', 'grayson', 'furious', 'starters', 'hideously', 'cleveland', 'hearty', 'feeble', 'crummy', 'staring', 'numbing', 'chavez', 'lick', 'repressed', 'teenagers', 'fringe', 'interludes', 'attachment', 'investigations', 'characteristic', 'rebellion', 'izo', 'punishment', 'prime', 'bedtime', 'gwen', 'concentrate', 'haggard', 'ballroom', 'fountain', 'vernon', 'cancel', 'hotter', 'obscure', 'caller', 'noon', 'pete', 'versa', 'hoax', 'foundation', 'experimental', 'criteria', 'cosby', 'alleged', 'whodunit', 'circles', 'oblivion', 'eraserhead', 'leone', 'lara', 'boyle', 'fenn', 'beauties', 'prettier', 'medal', 'relied', 'fanatical', 'scrutiny', 'darling', 'http', 'revolutionary', 'appreciative', 'dichotomy', 'misogyny', 'exploited', 'refugees', 'riots', 'executions', 'adultery', 'incest', 'proportions', 'parting', 'soup', 'tyne', 'daly', 'kim', 'malone', 'cows', 'butchered', 'graphically', 'slaughterhouse', 'butcher', 'masochist', 'traumatic', 'nuns', 'empathize', 'automobile', 'mountains', 'pitfalls', 'solitary', 'introverted', 'holidays', 'cheats', 'survives', 'implied', 'passions', 'counterpoint', 'reconstruction', 'capacity', 'limp', 'incredulous', 'communicating', 'heels', 'rebels', 'marin', 'landau', 'masquerading', 'mayor', 'savalas', 'grieving', 'stella', 'invaded', 'townsfolk', 'rey', 'regretted', 'dreaded', 'whomever', 'handy', 'villa', 'listed', 'privileged', 'disposal', 'household', 'grounds', 'funds', 'injuries', 'irrational', 'hussey', 'depths', 'saddest', 'gorillas', 'amrita', 'objective', 'casualty', 'hindu', 'psyche', 'kidnappers', 'fields', 'partition', 'owners', 'documented', 'pains', 'supports', 'shoestring', 'lowe', 'sincere', 'dan', 'hallmark', 'mannered', 'unfolded', 'rooms', 'spoilt', 'societies', 'paragraph', 'pickford', 'germans', 'patriot', 'fated', 'luxury', 'sinking', 'depravity', 'firing', 'jurassic', 'gullible', 'punish', 'sided', 'advent', 'historians', 'hobgoblins', 'surpassed', 'teaser', 'sanity', 'cheer', 'insistence', 'rodriguez', 'manos', 'politics', 'barred', 'om', 'puri', 'inspector', 'meaty', 'confronting', 'masculinity', 'categories', 'von', 'copied', 'poke', 'untalented', 'niro', 'dallas', 'superstar', 'simone', 'warhol', 'sylvester', 'maintenance', 'access', 'mobile', 'thorn', 'legion', 'demolition', 'kerry', 'erich', 'champ', 'row', 'foreshadowing', 'singles', 'clinic', 'feud', 'dusty', 'longest', 'repeat', 'dominated', 'wrestler', 'tito', 'boris', 'lds', 'prophet', 'insignificant', 'owns', 'apologize', 'disdain', 'thankful', 'tier', 'culprit', 'thrills', 'sillier', 'levy', 'kansas', 'fido', 'immersed', 'deco', 'furniture', 'vastly', 'natives', 'consistent', 'understated', 'framing', 'transparent', 'sliced', 'bread', 'fundamentalist', 'pump', 'advertising', 'audacity', 'suckered', 'mindset', 'simultaneously', 'vanish', 'insisting', 'boiling', 'clouds', 'angels', 'descending', 'realization', 'inhabit', 'bribe', 'decently', 'covert', 'remade', 'mainland', 'investigated', 'pagan', 'landed', 'consequence', 'flooded', 'electronic', 'phenomena', 'occurrences', 'rushes', 'sox', 'lighthouse', 'elicit', 'gasoline', 'howling', 'campbell', 'invent', 'vacant', 'courtney', 'frying', 'alternately', 'improves', 'flavor', 'doc', 'trace', 'adrenaline', 'repeating', 'gage', 'package', 'benny', 'pov', 'typecast', 'broadcasting', 'pow', 'communists', 'brandy', 'distracts', 'drawer', 'boxes', 'mercilessly', 'plethora', 'tits', 'displeasure', 'destined', 'protector', 'pondering', 'tested', 'perceived', 'combining', 'scam', 'curve', 'sped', 'railway', 'columbia', 'programmes', 'zoo', 'owl', 'subconscious', 'entertains', 'cracking', 'gabby', 'hayes', 'scout', 'quinn', 'wipe', 'sneak', 'noticing', 'aimlessly', 'mock', 'commonplace', 'planned', 'cyborgs', 'cyborg', 'foray', 'threadbare', 'banter', 'swallowed', 'cliffhanger', 'kris', 'kristofferson', 'mugging', 'henriksen', 'sh', 'writes', 'refuge', 'grandfather', 'captivate', 'trevor', 'griffith', 'intolerance', 'turtle', 'wee', 'gee', 'wrist', 'helmet', 'tire', 'golf', 'clubs', 'carved', 'chuckling', 'shaving', 'equipment', 'plate', 'litter', 'kino', 'metro', 'flute', 'borrows', 'cavemen', 'caveman', 'sperm', 'lanza', 'caruso', 'kirsten', 'franz', 'fictionalized', 'blanche', 'lucia', 'license', 'repertoire', 'sheet', 'laundry', 'recorded', 'earthquake', 'martha', 'valentino', 'indicated', 'othello', 'griffin', 'dunne', 'mobster', 'mouthed', 'organ', 'crooked', 'burr', 'vito', 'gems', 'dukes', 'roscoe', 'barney', 'slowing', 'dickens', 'toole', 'overact', 'items', 'lukas', 'boxing', 'arena', 'contest', 'chatter', 'happenings', 'mchugh', 'menu', 'bronte', 'possesses', 'masculine', 'poignantly', 'hinds', 'beast', 'zelah', 'clarke', 'unemotional', 'temper', 'endures', 'gypsy', 'teasing', 'eyre', 'independently', 'lately', 'dominick', 'liotta', 'expresses', 'openly', 'strangely', 'pittsburgh', 'thrust', 'dazzling', 'array', 'ratio', 'isolated', 'inhabited', 'marianne', 'hosts', 'frenzied', 'cycle', 'rollin', 'shocker', 'tolerate', 'pretext', 'bloodshed', 'impulses', 'picturesque', 'autumn', 'whirlwind', 'impending', 'symptoms', 'pretensions', 'divide', 'outset', 'stud', 'item', 'canadians', 'boo', 'sheets', 'rites', 'codes', 'conduct', 'python', 'adrienne', 'marvelously', 'sheedy', 'rodgers', 'penis', 'sugary', 'revolving', 'sibling', 'protective', 'tackle', 'avoided', 'sensitively', 'remembers', 'cate', 'vinci', 'puerile', 'descendants', 'ripper', 'treasure', 'comeback', 'focusing', 'randy', 'screwing', 'arkin', 'achieves', 'herzog', 'eternity', 'bio', 'adept', 'alicia', 'silverstone', 'handles', 'shakespearean', 'aloud', 'witless', 'delinquent', 'avenger', 'troma', 'carlo', 'thou', 'il', 'summarized', 'snob', 'rebellious', 'completion', 'sweeps', 'roof', 'attic', 'extension', 'bricks', 'ash', 'replies', 'bashed', 'finishes', 'egg', 'proposes', 'ape', 'faults', 'frankie', 'annette', 'coaching', 'baseball', 'israel', 'fluent', 'taboos', 'israeli', 'realms', 'climaxes', 'ambiguity', 'dandy', 'wendigo', 'shooter', 'unsatisfied', 'rituals', 'johnnie', 'meticulously', 'contrasts', 'margo', 'denver', 'du', 'ana', 'latin', 'gena', 'rowlands', 'sloppily', 'rumors', 'technological', 'foxx', 'epps', 'wednesday', 'nightmares', 'detailed', 'chore', 'diving', 'consummate', 'shu', 'qi', 'chi', 'cheung', 'orphanage', 'coupled', 'lin', 'unnatural', 'elementary', 'cooks', 'babes', 'bank', 'cloying', 'celebration', 'gangsta', 'default', 'strapped', 'discrimination', 'prop', 'lapd', 'liberals', 'indulgence', 'pandering', 'shaft', 'races', 'carl', 'brashear', 'overtly', 'wasps', 'deniro', 'gooding', 'offerings', 'witches', 'charmed', 'plotted', 'vivian', 'flaming', 'mick', 'haters', 'ck', 'mayhem', 'virginal', 'sights', 'charmer', 'ripped', 'lures', 'virgins', 'hungry', 'mama', 'retrieve', 'displaying', 'ulterior', 'welcomed', 'stabs', 'unconscious', 'tosses', 'impromptu', 'invisibility', 'clive', 'barker', 'dante', 'landis', 'photograph', 'experts', 'deranged', 'incestuous', 'demented', 'cousins', 'preferring', 'rabbit', 'delightfully', 'crow', 'firmly', 'confirmed', 'vitality', 'pickpocket', 'wallet', 'peters', 'organisation', 'theft', 'tail', 'charges', 'denies', 'orders', 'address', 'questioned', 'payment', 'recover', 'attracted', 'evolves', 'attentions', 'dependent', 'cunning', 'exclusive', 'whereabouts', 'swings', 'comatose', 'pia', 'argument', 'peers', 'fortunate', 'obligated', 'lipstick', 'showgirls', 'dearest', 'discussed', 'disgust', 'rangers', 'costumed', 'famously', 'tearjerker', 'institute', 'titled', 'inconvenient', 'org', 'ufo', 'gerald', 'jfk', 'jules', 'verne', 'tacked', 'overseas', 'rusty', 'mason', 'fellows', 'bryan', 'nicola', 'ferry', 'motel', 'jeep', 'canine', 'premises', 'atlantis', 'dictator', 'janet', 'raid', 'clones', 'wanda', 'predictably', 'superficial', 'shambles', 'homer', 'enhanced', 'climber', 'nerve', 'massively', 'income', 'corbett', 'beaver', 'session', 'trent', 'cameraman', 'makings', 'spotlight', 'avery', 'vacuum', 'awakened', 'longoria', 'festivals', 'nap', 'boxer', 'raoul', 'alexis', 'egotistical', 'sponsored', 'olympic', 'olive', 'innovation', 'fleet', 'avoids', 'opponents', 'assassins', 'geniuses', 'unnecessary', 'tooth', 'wizard', 'melting', 'kiddies', 'conveniently', 'aura', 'alligator', 'sergio', 'martino', 'jaws', 'giggling', 'sour', 'patronizing', 'reliance', 'rapidly', 'stunned', 'dreyfuss', 'cabinet', 'researching', 'leadership', 'inform', 'namely', 'bumped', 'fencing', 'sofa', 'skits', 'skeptical', 'omega', 'hostile', 'darren', 'bauer', 'pixar', 'toy', 'sewer', 'frog', 'ninety', 'demonic', 'exorcism', 'naschy', 'giallo', 'gloves', 'fills', 'ingmar', 'marilyn', 'pistols', 'ennio', 'morricone', 'mishmash', 'wtf', 'quentin', 'tarantino', 'sob', 'aftermath', 'dane', 'fuel', 'erik', 'knack', 'slob', 'redeems', 'chicken', 'motivation', 'resorts', 'ren', 'oneself', 'singh', 'targeted', 'joanne', 'politicians', 'awfulness', 'nigh', 'mesmerized', 'gundam', 'satiric', 'wrongs', 'continuing', 'belly', 'counselor', 'seed', 'cobbled', 'farting', 'services', 'zoe', 'hires', 'eater', 'radar', 'contender', 'whitaker', 'aviation', 'mph', 'chopper', 'compound', 'pusher', 'airwolf', 'maudlin', 'stupidly', 'pleasures', 'hasselhoff', 'rider', 'demographic', 'kingdom', 'discount', 'sfx', 'accuracy', 'psychic', 'serviceable', 'glaring', 'detract', 'wholly', 'captive', 'isabel', 'lyrical', 'lumbering', 'scandinavian', 'resigned', 'permitted', 'products', 'circa', 'fried', 'dictatorship', 'torturing', 'hammered', 'dubious', 'marina', 'lobby', 'coast', 'chinatown', 'framed', 'intro', 'groovy', 'jerk', 'ps', 'quoting', 'sinatra', 'puppets', 'doug', 'warrant', 'rendition', 'mos', 'def', 'snap', 'wire', 'undeniable', 'wilde', 'manners', 'wrecked', 'sanders', 'reduce', 'hays', 'insisted', 'gear', 'prejudices', 'whiskey', 'vinnie', 'ferrari', 'joking', 'premature', 'glossy', 'veneer', 'inherent', 'angelina', 'jolie', 'macy', 'hank', 'azaria', 'tossing', 'dreamed', 'corporate', 'kinnear', 'warp', 'reflection', 'recruiting', 'janeane', 'mystic', 'bowling', 'underused', 'spouting', 'pigeon', 'endlessly', 'decorated', 'reflective', 'superheroes', 'idiots', 'eternally', 'mixes', 'justified', 'disguise', 'label', 'pivotal', 'inventor', 'nursing', 'toting', 'choppy', 'comics', 'blossoms', 'prank', 'warranted', 'depp', 'ninth', 'quits', 'perky', 'bonanza', 'digger', 'sheffer', 'ga', 'longtime', 'muscular', 'collecting', 'sweeney', 'dudes', 'duplicate', 'revolt', 'loathe', 'dipping', 'scorpion', 'satanic', 'luigi', 'anita', 'fenech', 'finely', 'investigator', 'smarter', 'grisly', 'inheritance', 'nifty', 'shells', 'debuted', 'elevate', 'avoiding', 'educate', 'discernible', 'hammett', 'hellman', 'surrealistic', 'chauffeur', 'ringo', 'paste', 'boogie', 'select', 'stanwyck', 'philosophies', 'explicitly', 'perfected', 'interlude', 'booze', 'ella', 'withdrawn', 'closure', 'behaved', 'interactions', 'informative', 'tent', 'sleeping', 'piles', 'rack', 'seventh', 'scattered', 'religions', 'imho', 'doe', 'horns', 'psychopath', 'righteous', 'mysticism', 'topical', 'seller', 'catching', 'writings', 'evans', 'patron', 'billionaire', 'docudrama', 'bernie', 'mitch', 'draft', 'heroin', 'ardent', 'potion', 'morse', 'lola', 'underdeveloped', 'brash', 'tourneur', 'wayward', 'seated', 'spreads', 'wherein', 'tarzan', 'jungle', 'trance', 'harlin', 'commendable', 'versatile', 'introduces', 'intrigue', 'outlaws', 'deceit', 'antagonist', 'shiver', 'drifting', 'atlantic', 'conrad', 'veidt', 'drifts', 'tobacco', 'amsterdam', 'embarks', 'christine', 'recognizes', 'seducing', 'drinks', 'phase', 'editors', 'ethics', 'reckon', 'counter', 'venus', 'ricky', 'bang', 'confederate', 'reincarnation', 'purists', 'taboo', 'deciding', 'cheapest', 'exploitative', 'crashing', 'commission', 'accuses', 'lurking', 'contradict', 'puzzled', 'crawls', 'liar', 'bloodbath', 'preach', 'reiser', 'scarecrows', 'pendleton', 'flown', 'robber', 'phil', 'mo', 'explanations', 'gutted', 'diver', 'hurricane', 'substantial', 'flavia', 'convent', 'stallion', 'nun', 'sect', 'whipping', 'poured', 'nipples', 'hostel', 'digest', 'monkey', 'puzzles', 'lucas', 'colin', 'sumptuous', 'enchanted', 'cherish', 'misery', 'rediscovered', 'articles', 'vets', 'protection', 'squeaky', 'gunshot', 'gangs', 'hmm', 'tease', 'beef', 'corporation', 'headache', 'subliminal', 'noisy', 'cryptic', 'cypher', 'improvised', 'babylon', 'broader', 'po', 'disappointingly', 'grandpa', 'battlefield', 'shin', 'ae', 'admirably', 'korea', 'goings', 'explosion', 'branches', 'gotham', 'prestige', 'ensue', 'possession', 'explicit', 'unpleasant', 'rick', 'uniformly', 'saxon', 'beowulf', 'grendel', 'delighted', 'joel', 'ethan', 'coen', 'portman', 'yorkers', 'shia', 'christina', 'ricci', 'cloris', 'leachman', 'shanghai', 'greece', 'mpaa', 'manifest', 'engaged', 'emote', 'languages', 'observations', 'chimps', 'facilities', 'crowded', 'concrete', 'separated', 'chimp', 'leaning', 'data', 'species', 'dome', 'edison', 'chen', 'bred', 'dumps', 'thai', 'grit', 'defending', 'awry', 'sins', 'shades', 'studies', 'tenderness', 'transforming', 'dish', 'adopting', 'chaplin', 'orange', 'collar', 'dresses', 'garage', 'adapted', 'modeled', 'jumbled', 'hodge', 'imitated', 'predecessors', 'forgetting', 'extravaganza', 'vistas', 'wildlife', 'fluke', 'plutonium', 'norris', 'prot', 'mills', 'assistance', 'eerily', 'resembled', 'amityville', 'parodies', 'hanson', 'cindy', 'timed', 'tori', 'marlon', 'wayans', 'profits', 'struggled', 'haines', 'polo', 'exhibit', 'peggy', 'pepper', 'vidor', 'meals', 'campus', 'dye', 'unintelligible', 'sensational', 'glitches', 'repeats', 'vol', 'engages', 'labyrinth', 'sly', 'poses', 'photos', 'partially', 'faceless', 'greenaway', 'enthralled', 'gwyneth', 'bikes', 'biker', 'bloated', 'masala', 'pertinent', 'astaire', 'busby', 'ginger', 'dynamics', 'tomas', 'qualified', 'communication', 'serbian', 'kusturica', 'mantle', 'stinkers', 'fiddle', 'ringu', 'filipino', 'plagiarism', 'truman', 'elmer', 'tin', 'somerset', 'maugham', 'coal', 'miner', 'enlightenment', 'salvation', 'climbing', 'baxter', 'snobbish', 'impeccably', 'webb', 'elliot', 'twentieth', 'waited', 'tyrone', 'conscious', 'parlor', 'quartet', 'roast', 'convenience', 'epitome', 'gregory', 'peck', 'hayward', 'evoke', 'hussein', 'secure', 'fascist', 'interviewed', 'cnn', 'battleship', 'lean', 'studied', 'bombed', 'episodic', 'overwhelm', 'insights', 'penetrating', 'specials', 'barbra', 'streisand', 'november', 'separately', 'fork', 'brilliantly', 'component', 'signed', 'cbs', 'extinct', 'notoriety', 'albums', 'wonderland', 'goodman', 'elegantly', 'depression', 'basics', 'melancholic', 'metropolis', 'sherry', 'skilled', 'luster', 'marines', 'enlist', 'garfield', 'equation', 'unattractive', 'blanks', 'specialist', 'phillip', 'henderson', 'carla', 'allusions', 'indirectly', 'decidedly', 'duchovny', 'companions', 'yuzna', 'animator', 'surrealist', 'thrilling', 'feinstone', 'patients', 'squeamish', 'corbin', 'bernsen', 'vigilante', 'locke', 'shes', 'dorky', 'belt', 'preceding', 'luscious', 'unexciting', 'pretend', 'actioner', 'sleepwalking', 'occupation', 'owe', 'failings', 'unite', 'await', 'wakes', 'irrelevant', 'whew', 'acclaim', 'drummer', 'tails', 'prints', 'unwittingly', 'crystal', 'euro', 'franco', 'flashes', 'gently', 'boil', 'runaway', 'alma', 'testing', 'banging', 'nixon', 'eras', 'chapter', 'pal', 'kaufman', 'explorer', 'sidekicks', 'archaeologist', 'gleason', 'geography', 'seas', 'nationality', 'monroe', 'moll', 'stakes', 'drawbacks', 'tribes', 'matin', 'captions', 'er', 'yacht', 'demonstrated', 'curtains', 'illustration', 'sophomoric', 'proven', 'downside', 'tenth', 'hiv', 'dedication', 'analyze', 'criticized', 'rubble', 'pokemon', 'nemo', 'milo', 'voiced', 'footsteps', 'expedition', 'darkened', 'sources', 'upbeat', 'dwarfs', 'gandalf', 'youtube', 'weed', 'coping', 'creepshow', 'idol', 'purple', 'butterfly', 'distinguish', 'poets', 'dramatically', 'impeccable', 'che', 'stance', 'murky', 'gambling', 'refusing', 'cowardly', 'plains', 'inaccuracies', 'deceived', 'hinges', 'philippe', 'gina', 'clair', 'fore', 'casualties', 'complains', 'historian', 'tempo', 'perez', 'lawless', 'kingpin', 'gunplay', 'nikita', 'goodnight', 'advances', 'sloane', 'fusion', 'rescuing', 'shrews', 'sales', 'referring', 'madeline', 'kahn', 'houseman', 'bless', 'slack', 'shout', 'choir', 'motley', 'pantheon', 'mastroianni', 'bain', 'hoot', 'usage', 'flirt', 'snore', 'yelling', 'hacking', 'embedded', 'idyllic', 'diversion', 'heiress', 'reggie', 'domineering', 'dignified', 'damsel', 'solo', 'gracie', 'bubbly', 'conniving', 'gershwin', 'erin', 'morals', 'customer', 'avengers', 'fitzgerald', 'retains', 'ifans', 'examine', 'esp', 'wage', 'cheerful', 'indistinguishable', 'hypnotic', 'charlotte', 'devils', 'advocate', 'mysteries', 'puzzle', 'solved', 'infused', 'linklater', 'visionary', 'unquestionably', 'individuality', 'aesthetic', 'stoic', 'frantic', 'holm', 'qualms', 'reluctantly', 'cabaret', 'garnered', 'boob', 'suffice', 'collections', 'karloff', 'chapters', 'rukh', 'drawings', 'rays', 'invite', 'gimmicks', 'statues', 'funky', 'hamill', 'classmates', 'ugliest', 'bonnie', 'clyde', 'timely', 'capital', 'poorest', 'unity', 'savvy', 'deception', 'generals', 'ably', 'bucket', 'tissue', 'forsythe', 'jeffrey', 'combs', 'kathryn', 'replacing', 'wound', 'forests', 'sensibility', 'missouri', 'visceral', 'seventeen', 'lifelong', 'holt', 'wright', 'introspection', 'intensely', 'candid', 'courageous', 'blooded', 'suave', 'growth', 'wider', 'regularly', 'shocks', 'needlessly', 'examines', 'rewarding', 'cassie', 'tepid', 'afterlife', 'projected', 'aide', 'puns', 'tide', 'graveyard', 'marvin', 'selected', 'nations', 'capt', 'gen', 'amos', 'courtroom', 'winkler', 'jazzy', 'glen', 'flowed', 'compulsive', 'gambler', 'bouncing', 'stagy', 'foley', 'hackneyed', 'arcs', 'unexplored', 'regrettably', 'kristin', 'anchors', 'tchaikovsky', 'bowl', 'randomness', 'attending', 'olsen', 'cutest', 'zach', 'ronnie', 'eliminating', 'pillow', 'concocted', 'explores', 'fragmented', 'unthinkable', 'gradual', 'hawke', 'jewelry', 'finney', 'agreement', 'respective', 'bravura', 'timer', 'nodding', 'mute', 'improv', 'implausibility', 'inadequate', 'spun', 'temperature', 'ranch', 'smell', 'ahem', 'freshly', 'tidy', 'retribution', 'laying', 'syrup', 'rhetoric', 'terrorizing', 'kin', 'shortened', 'unspeakable', 'justifies', 'wesley', 'cranked', 'photographic', 'snicker', 'infidelity', 'thumb', 'damaging', 'fantastically', 'disregard', 'dyke', 'deliberately', 'schoolgirl', 'preserved', 'rendering', 'tch', 'reverend', 'flip', 'homework', 'ninjas', 'introducing', 'tilt', 'reservoir', 'haircut', 'strathairn', 'parked', 'protected', 'prep', 'blasting', 'davidson', 'guidance', 'patriarch', 'garner', 'suzanne', 'spade', 'sitcoms', 'mushrooms', 'im', 'lsd', 'superficially', 'proposed', 'sample', 'depends', 'effortlessly', 'prague', 'envy', 'insecurities', 'russians', 'desi', 'commandos', 'trail', 'akshay', 'tashan', 'loveable', 'felix', 'madison', 'roommates', 'sensitivity', 'annoyance', 'roommate', 'monotone', 'enhances', 'embraces', 'crashed', 'grizzly', 'coarse', 'uncensored', 'pr', 'edith', 'pimp', 'est', 'funding', 'scrap', 'fund', 'neatly', 'delayed', 'foreground', 'videotape', 'trier', 'plight', 'amidst', 'unforgiving', 'audacious', 'grail', 'yeti', 'thematic', 'blandings', 'progressive', 'housing', 'robards', 'slipping', 'criticise', 'personified', 'franklin', 'flora', 'ineptly', 'numbingly', 'rolled', 'unrelenting', 'disappointments', 'transformed', 'discipline', 'rundown', 'sexism', 'pauses', 'quebec', 'runtime', 'tread', 'unintended', 'cube', 'transform', 'object', 'methods', 'requirements', 'majors', 'theatres', 'headlines', 'mans', 'fortunes', 'curtiz', 'rapid', 'fantastical', 'swordplay', 'marvellous', 'swell', 'supply', 'copious', 'villagers', 'derived', 'buddhist', 'calendar', 'skillful', 'dismal', 'forster', 'andromeda', 'occupy', 'razzie', 'forum', 'lighten', 'pierce', 'brosnan', 'tolerant', 'foil', 'leaf', 'stunk', 'sandy', 'earns', 'generating', 'serials', 'tacky', 'rescues', 'droning', 'stuntman', 'adjust', 'oxygen', 'tube', 'duncan', 'businessmen', 'motions', 'hoodlums', 'regulars', 'superfluous', 'discern', 'perils', 'saddled', 'manor', 'interiors', 'invest', 'shiny', 'slashed', 'forgiving', 'jaded', 'define', 'offends', 'gays', 'forsaken', 'presley', 'mangled', 'quoted', 'pyramid', 'rampant', 'badge', 'gap', 'rests', 'addict', 'watchers', 'adaption', 'entertainers', 'benjamin', 'globe', 'improvement', 'potato', 'county', 'yell', 'responds', 'duh', 'morale', 'benefits', 'troublesome', 'clinging', 'townsend', 'mack', 'bert', 'assignment', 'beans', 'wards', 'phones', 'pbs', 'ranger', 'cookie', 'messed', 'crushes', 'heated', 'file', 'fave', 'journeys', 'hypocrite', 'scarred', 'confirm', 'suspicions', 'obtain', 'rivals', 'miyazaki', 'laputa', 'trench', 'paquin', 'engineering', 'invented', 'blatantly', 'escaped', 'convicts', 'degradation', 'tremendously', 'pairing', 'nastiness', 'thirdly', 'fighters', 'abu', 'supremacy', 'diminished', 'unavoidable', 'excesses', 'rhythm', 'stack', 'policies', 'physics', 'leaping', 'interfere', 'dishes', 'pauly', 'shore', 'becker', 'favors', 'farewell', 'preserve', 'cherry', 'gist', 'nam', 'irresponsible', 'marsha', 'lawn', 'meanders', 'jefferson', 'inappropriate', 'offense', 'hopper', 'viggo', 'zen', 'messenger', 'ala', 'sheesh', 'dogma', 'gaining', 'insatiable', 'fetish', 'increases', 'scarcely', 'district', 'periodically', 'forceful', 'lift', 'pinned', 'fry', 'eroticism', 'avant', 'garde', 'apollo', 'patterns', 'undermine', 'spacecraft', 'missions', 'agencies', 'undermines', 'remaining', 'slant', 'swim', 'blinded', 'reign', 'ada', 'summon', 'keys', 'gladly', 'challenger', 'helpless', 'clunky', 'bearing', 'prematurely', 'uncommon', 'conflicted', 'prohibition', 'interestingly', 'jelly', 'talkie', 'dun', 'extraordinarily', 'insanely', 'manuscript', 'trump', 'agatha', 'contempt', 'hilarity', 'bog', 'youths', 'elders', 'voorhees', 'vii', 'slashers', 'tomato', 'incomparable', 'houston', 'chemical', 'troll', 'barking', 'secluded', 'kicker', 'caretaker', 'tasty', 'lows', 'egos', 'patty', 'unheard', 'dern', 'overcomes', 'therapy', 'fading', 'album', 'painters', 'georges', 'topped', 'bsg', 'caprica', 'lineup', 'battlestar', 'nevada', 'embark', 'useless', 'breathless', 'disturbingly', 'delusional', 'mendoza', 'battling', 'equality', 'hideout', 'reflections', 'pockets', 'repulsive', 'ahh', 'tibetan', 'guiding', 'goals', 'sympathise', 'vocals', 'microphone', 'stereotyping', 'soooo', 'anil', 'kareena', 'dil', 'void', 'divine', 'embarrass', 'devon', 'schwartzman', 'flaherty', 'jaime', 'freshman', 'tours', 'generates', 'excuses', 'payed', 'soda', 'disgrace', 'chandler', 'phoebe', 'deed', 'clooney', 'whipped', 'beatty', 'fixing', 'coz', 'novelty', 'benefited', 'semblance', 'infinitely', 'insomnia', 'connecting', 'deborah', 'fairytale', 'happier', 'indulging', 'supermarket', 'blvd', 'btw', 'leonardo', 'dicaprio', 'cheered', 'ants', 'insects', 'turd', 'varies', 'arse', 'flea', 'acid', 'catalyst', 'bonds', 'rounded', 'characterisation', 'brendan', 'abbot', 'expanded', 'reflecting', 'attire', 'restless', 'pervasive', 'daisies', 'upsetting', 'twisting', 'ju', 'takashi', 'pipes', 'gum', 'compensate', 'salman', 'rani', 'preity', 'chopra', 'zinta', 'hai', 'mann', 'colourful', 'inexcusable', 'ealing', 'guinness', 'passport', 'luminous', 'sorely', 'frail', 'businesses', 'fearing', 'compensation', 'inimitable', 'til', 'cain', 'booth', 'surrounds', 'confined', 'observed', 'unsubtle', 'calculating', 'atypical', 'interrogation', 'overhead', 'personable', 'moulin', 'rouge', 'poitier', 'softcore', 'bores', 'simulated', 'abused', 'misogynistic', 'lifting', 'belgium', 'helmed', 'resistance', 'shakes', 'confuses', 'drugged', 'exhaustion', 'motive', 'dismissed', 'arnie', 'poorer', 'commando', 'scarce', 'rabid', 'hunted', 'labour', 'conchita', 'alonso', 'mode', 'wasteland', 'revolve', 'cursing', 'exec', 'tribe', 'disturb', 'avalanche', 'collapsing', 'metropolitan', 'indoor', 'relating', 'fabricated', 'mar', 'invitation', 'crook', 'convention', 'coma', 'metaphysical', 'poisoning', 'crammed', 'stretching', 'shaped', 'dolly', 'casablanca', 'pink', 'delilah', 'carlson', 'krishna', 'saif', 'sanjay', 'sharma', 'slower', 'january', 'alaska', 'giggles', 'socially', 'sandman', 'patchy', 'chaotic', 'sheds', 'casino', 'masturbation', 'dilemmas', 'grizzled', 'coleman', 'blondes', 'drab', 'sleeps', 'duration', 'fleeing', 'cylon', 'continuation', 'starbuck', 'apprentice', 'lansbury', 'tomlinson', 'poppins', 'boast', 'nana', 'shahrukh', 'soo', 'claude', 'tng', 'unease', 'wily', 'rounding', 'wills', 'elam', 'uncertainty', 'lords', 'harshly', 'removing', 'parole', 'looses', 'angered', 'homely', 'interwoven', 'unconnected', 'rowan', 'dreamer', 'coop', 'carroll', 'maids', 'increasing', 'germs', 'alexandra', 'johnston', 'fired', 'comforting', 'erica', 'geared', 'tex', 'gigantic', 'intact', 'daryl', 'strode', 'madman', 'rightfully', 'whatnot', 'mechanic', 'underestimated', 'comprehension', 'cheeky', 'lennon', 'prolific', 'repulsed', 'contributions', 'yoko', 'respects', 'brigade', 'engines', 'sleeve', 'haphazard', 'washing', 'boots', 'wikipedia', 'posting', 'priests', 'flag', 'viking', 'vikings', 'cleared', 'boils', 'characteristics', 'elmo', 'irreverent', 'announcement', 'candidate', 'partial', 'candidates', 'discussions', 'founded', 'amazement', 'snuff', 'searches', 'provoke', 'villainess', 'denmark', 'exits', 'tyrant', 'stereotyped', 'standpoint', 'establishment', 'alienated', 'weirdos', 'amelie', 'predominantly', 'iv', 'parliament', 'laws', 'authorities', 'renamed', 'sticking', 'icons', 'modeling', 'pornography', 'flop', 'dialogues', 'comfortably', 'transcend', 'paresh', 'rawal', 'wenders', 'filmic', 'oddities', 'trauma', 'arabian', 'sabu', 'roach', 'parking', 'neglects', 'wash', 'classroom', 'sting', 'miscasting', 'crust', 'imprisoned', 'detachment', 'instructions', 'excruciating', 'obsessive', 'stadium', 'encouraging', 'jafar', 'panahi', 'monstrous', 'drain', 'cruelly', 'induce', 'ticking', 'bishop', 'valjean', 'butchering', 'marius', 'handing', 'tearing', 'skipping', 'messes', 'comeuppance', 'lars', 'foggy', 'hapless', 'spontaneous', 'bodily', 'heinous', 'cater', 'culminates', 'sexiest', 'mocked', 'craziness', 'slew', 'auntie', 'integral', 'tilda', 'swinton', 'satellite', 'financially', 'arquette', 'northwest', 'geez', 'bloodless', 'swashbuckling', 'stanton', 'communications', 'mutiny', 'budapest', 'anonymous', 'admirers', 'schildkraut', 'worm', 'stretches', 'prefers', 'cautious', 'innocently', 'slips', 'silhouette', 'guided', 'gentlemen', 'accompanies', 'rifles', 'blocking', 'rita', 'hayworth', 'adoption', 'socio', 'prompts', 'callahan', 'nerd', 'caroline', 'munro', 'humiliated', 'workout', 'reacts', 'merry', 'jester', 'loony', 'frailty', 'fenton', 'demons', 'venue', 'meager', 'adrift', 'lizards', 'teeny', 'switching', 'ifc', 'grandparents', 'cane', 'undeveloped', 'aunts', 'toshiro', 'mifune', 'saddened', 'railroad', 'rosalind', 'brothel', 'fangs', 'keller', 'orwell', 'winston', 'brainwashed', 'dis', 'literal', 'hailed', 'denying', 'predicted', 'releasing', 'unstable', 'honorable', 'compensated', 'brute', 'antagonists', 'looming', 'barrier', 'guarded', 'shapes', 'wondrous', 'archetypal', 'psychologically', 'probable', 'tarkovsky', 'nacho', 'cherished', 'ebert', 'moronic', 'mccarthy', 'asset', 'uneducated', 'royalty', 'dictionary', 'lap', 'strays', 'portuguese', 'snoop', 'dogg', 'finishing', 'backstage', 'rappers', 'peanuts', 'pointing', 'fates', 'simplified', 'demonstrate', 'diplomat', 'mcclure', 'innocuous', 'waster', 'boulevard', 'indemnity', 'maltese', 'falcon', 'daylight', 'littered', 'speeding', 'vincente', 'sirk', 'weirdo', 'evaluate', 'wiser', 'hazy', 'societal', 'mutilation', 'irani', 'privilege', 'artful', 'gracefully', 'developments', 'startled', 'brotherhood', 'approached', 'apathy', 'continuously', 'pans', 'circle', 'draining', 'baffling', 'matching', 'reaper', 'travelogue', 'requests', 'turkish', 'guards', 'custom', 'mount', 'significance', 'defiance', 'digress', 'sanchez', 'marginally', 'celine', 'shrewd', 'smartly', 'feather', 'mins', 'damien', 'showcased', 'landmarks', 'liberation', 'transport', 'affectionate', 'crenna', 'avail', 'artfully', 'diversity', 'examined', 'transformations', 'sunglasses', 'rags', 'midler', 'strains', 'centuries', 'moustache', 'fulfilled', 'cracker', 'overweight', 'coltrane', 'mcgovern', 'queue', 'judith', 'cheat', 'mistakenly', 'choke', 'lili', 'excerpts', 'fledged', 'quantity', 'sobbing', 'rachael', 'levitt', 'mcconaughey', 'adrien', 'brody', 'dumbing', 'bothers', 'hypnotized', 'mediocrity', 'apartments', 'fullest', 'hustle', 'sporadic', 'recite', 'ruffalo', 'presume', 'dental', 'paxton', 'eldest', 'traces', 'lundgren', 'extensively', 'viii', 'adopt', 'disasters', 'enacted', 'artemisia', 'foch', 'accepts', 'awakens', 'marian', 'townspeople', 'screamed', 'stressed', 'beckham', 'hush', 'recorder', 'programme', 'closet', 'designers', 'netflix', 'surrogate', 'levi', 'hans', 'dual', 'pad', 'travelers', 'wolfgang', 'lasts', 'widely', 'yvonne', 'reiner', 'incomplete', 'earliest', 'resurrected', 'liberally', 'accounts', 'bathtub', 'analogy', 'mp', 'unrequited', 'eponymous', 'decoration', 'extensive', 'fuss', 'ineffective', 'gunfighter', 'duds', 'grandeur', 'commercially', 'weeping', 'slugs', 'actively', 'glove', 'reacted', 'spills', 'volatile', 'hick', 'yells', 'declare', 'parade', 'pod', 'salad', 'hadley', 'grumpy', 'puerto', 'rico', 'devotion', 'heroism', 'orphans', 'trough', 'masturbating', 'rewards', 'skillfully', 'identification', 'pristine', 'leftist', 'ineptness', 'minorities', 'futile', 'wannabes', 'witted', 'sundance', 'ds', 'admiral', 'lombardi', 'absurdist', 'mice', 'epics', 'vargas', 'gilbert', 'antwone', 'enlisted', 'neglect', 'sanitized', 'brunette', 'corridors', 'entered', 'tasteful', 'decor', 'sybil', 'danning', 'ecstatic', 'obscurity', 'palma', 'disorder', 'phyllis', 'hockey', 'kent', 'punched', 'toughest', 'wrestlers', 'anton', 'altman', 'madrid', 'roads', 'adviser', 'searched', 'banderas', 'carlos', 'tudor', 'kiki', 'patently', 'badness', 'harvard', 'clerks', 'sunk', 'maximum', 'ranging', 'breathe', 'feats', 'gifts', 'melt', 'slash', 'tires', 'uncomfortably', 'hijinks', 'dislikes', 'aggravating', 'travis', 'jacqueline', 'prude', 'fyi', 'bogged', 'rockwell', 'northam', 'crane', 'renewed', 'homes', 'geraldine', 'muller', 'foxes', 'reprising', 'glamour', 'jeanne', 'institutions', 'seize', 'purity', 'illiterate', 'invading', 'scheming', 'sardonic', 'burnt', 'effectiveness', 'mise', 'unwilling', 'province', 'lad', 'ruling', 'embodied', 'viva', 'goliath', 'dench', 'practicing', 'judi', 'mourning', 'tattoo', 'documents', 'resorting', 'adulthood', 'nighttime', 'slaughtering', 'sanitarium', 'blur', 'ant', 'scars', 'longs', 'javier', 'jeans', 'connors', 'penguins', 'yawning', 'dwellers', 'ranges', 'storage', 'melvin', 'panama', 'muriel', 'architect', 'beavers', 'howe', 'dominance', 'betray', 'lever', 'criticisms', 'grants', 'digs', 'mania', 'refined', 'slot', 'produces', 'hijacked', 'compose', 'lifeboat', 'darwin', 'apt', 'inconsistency', 'andreas', 'guidelines', 'summation', 'bluntly', 'uwe', 'boll', 'churn', 'slater', 'competing', 'evolution', 'cr', 'disgraced', 'aids', 'mcdermott', 'spacey', 'timberlake', 'uncover', 'hobo', 'illicit', 'culminating', 'melinda', 'participation', 'limelight', 'distorted', 'declined', 'ticks', 'prolonged', 'millionaire', 'prelude', 'derive', 'architecture', 'reserved', 'exit', 'arrangement', 'requirement', 'freudian', 'unfairly', 'facility', 'subtitled', 'mole', 'tailored', 'dangers', 'believers', 'luciano', 'strain', 'independence', 'ambulance', 'deceased', 'curb', 'xxx', 'thru', 'forming', 'constitutes', 'gino', 'costa', 'drifter', 'giovanna', 'visconti', 'postman', 'lana', 'pronounce', 'armor', 'differently', 'wheeler', 'niche', 'confuse', 'gellar', 'greetings', 'anticipated', 'shepard', 'bean', 'suburb', 'xavier', 'sweden', 'demme', 'combo', 'bradley', 'bronx', 'brett', 'anniversary', 'braindead', 'verbal', 'bullock', 'intrigues', 'forwarded', 'yimou', 'antithesis', 'seduced', 'introspective', 'trimmed', 'specifics', 'pacific', 'seamless', 'strive', 'bickering', 'drilling', 'volcano', 'strangeness', 'cassavetes', 'loach', 'flipped', 'heflin', 'musketeers', 'yugoslavia', 'serbia', 'bosnia', 'strung', 'pretension', 'pained', 'miracles', 'vaughn', 'expansion', 'neighbourhood', 'ming', 'dahl', 'sultry', 'radical', 'anthem', 'nikki', 'corey', 'mayer', 'grabbed', 'mortality', 'shunned', 'ideology', 'smashes', 'rubin', 'intending', 'thorough', 'judged', 'bu', 'uel', 'andie', 'macdowell', 'uninspiring', 'lotr', 'aragorn', 'mortensen', 'squire', 'bolts', 'fraser', 'kerr', 'frodo', 'humanoid', 'tolkien', 'secretive', 'sentinel', 'garrison', 'hunts', 'anxiety', 'sullen', 'belgian', 'mining', 'perpetually', 'neighbour', 'lowly', 'bots', 'aboard', 'pumpkin', 'wires', 'rancid', 'bells', 'sadie', 'frost', 'florence', 'seduces', 'puzzling', 'bewilderment', 'drawback', 'investigates', 'tong', 'daft', 'shoulder', 'leopard', 'skinned', 'recreating', 'projector', 'undertones', 'crossword', 'bookstore', 'juliette', 'binoche', 'turmoil', 'brick', 'spying', 'employees', 'blondell', 'groin', 'suburbs', 'reginald', 'crusty', 'mercedes', 'piper', 'coyote', 'backseat', 'pastor', 'degenerate', 'bleed', 'ailing', 'blocks', 'blasts', 'automatic', 'pistol', 'testament', 'retrospect', 'observer', 'lyle', 'assortment', 'graces', 'endurance', 'usher', 'lens', 'comically', 'maude', 'jerusalem', 'settling', 'recalled', 'cellar', 'yup', 'toilets', 'dummy', 'thieves', 'port', 'revolver', 'wrecking', 'transferred', 'manga', 'blurred', 'omitted', 'bugged', 'compliments', 'opposing', 'cautionary', 'moranis', 'log', 'profitable', 'jekyll', 'fruit', 'gremlins', 'betraying', 'additional', 'alba', 'unjustly', 'singleton', 'hid', 'casted', 'gabrielle', 'nagging', 'scholarship', 'judas', 'willingness', 'shifted', 'hercules', 'rand', 'civilian', 'mcqueen', 'cowboys', 'throwback', 'disguises', 'facade', 'sneering', 'glib', 'infested', 'tang', 'biographies', 'biographical', 'liquid', 'chelsea', 'injects', 'feldman', 'throughly', 'severed', 'nicer', 'provincial', 'prayer', 'meetings', 'persistent', 'stupendous', 'unimaginative', 'wolfman', 'waldemar', 'tibet', 'ilona', 'hypnosis', 'chained', 'controls', 'baldwin', 'heather', 'gowns', 'colored', 'objection', 'cummings', 'grandma', 'hangs', 'beaches', 'outbreak', 'bandit', 'sigourney', 'warden', 'narrowly', 'basil', 'doyle', 'strands', 'checks', 'hicks', 'hamming', 'jerking', 'boasting', 'janssen', 'berenger', 'coloured', 'lifestyles', 'churned', 'collapsed', 'blames', 'earning', 'breakout', 'mic', 'ventura', 'rips', 'alonzo', 'blasphemy', 'obstacle', 'disposable', 'surgical', 'moreau', 'genesis', 'cohen', 'retire', 'trophy', 'tolerated', 'forbid', 'spader', 'mockery', 'flamboyant', 'spouts', 'harassment', 'blessing', 'idealistic', 'bankrupt', 'critters', 'korman', 'exemplifies', 'laser', 'cuddly', 'links', 'oklahoma', 'lookalike', 'wales', 'spotted', 'declining', 'harshness', 'caucasian', 'uber', 'donner', 'spiderman', 'cleaning', 'campfire', 'spectators', 'ahmed', 'deftly', 'underlying', 'distortion', 'impotent', 'wanders', 'incorporates', 'rehearsals', 'glimpses', 'rooftop', 'selves', 'entrepreneur', 'reported', 'employment', 'dot', 'lighted', 'counting', 'feedback', 'truer', 'tempted', 'platinum', 'courtesy', 'differ', 'dinosaur', 'professionally', 'roaming', 'lassie', 'connolly', 'misty', 'jigsaw', 'forgives', 'crusade', 'tucci', 'burnett', 'gameplay', 'scriptwriter', 'outlet', 'outraged', 'recruits', 'paradox', 'commenting', 'mcgraw', 'byron', 'critically', 'adored', 'disconnected', 'fridge', 'unfamiliar', 'roses', 'oriental', 'marshal', 'gunfight', 'gus', 'sant', 'tones', 'gamera', 'benign', 'oddity', 'rapper', 'recordings', 'biz', 'agreeing', 'financed', 'corners', 'vienna', 'famed', 'antonioni', 'weirder', 'orgy', 'pig', 'explode', 'letterman', 'participating', 'miki', 'spirituality', 'lusting', 'hairstyle', 'bee', 'maurice', 'chevalier', 'caf', 'des', 'hordes', 'tackling', 'perkins', 'tiring', 'ling', 'bai', 'unnerving', 'communion', 'classify', 'tracy', 'torso', 'atomic', 'penthouse', 'rourke', 'depraved', 'trejo', 'reconsider', 'petition', 'outlook', 'stardust', 'lori', 'taller', 'annoys', 'chores', 'croc', 'heros', 'skimpy', 'geographic', 'placid', 'departure', 'systematically', 'tyson', 'enforcer', 'highlighted', 'defended', 'dumpster', 'borgnine', 'persecution', 'baltimore', 'publisher', 'rejection', 'threaten', 'thwart', 'moran', 'mutants', 'reinforced', 'lump', 'breeding', 'bubbles', 'exceeds', 'debating', 'junkie', 'jolt', 'marketed', 'footnote', 'soaps', 'anatomy', 'counterpart', 'baywatch', 'ewan', 'mcgregor', 'interviewing', 'entice', 'mesmerizing', 'portal', 'paranormal', 'researcher', 'intrepid', 'emoting', 'bender', 'dorff', 'cooler', 'downward', 'electrifying', 'tailor', 'assets', 'ricardo', 'cortez', 'powerhouse', 'prehistoric', 'supplied', 'dunaway', 'pronounced', 'scariest', 'yearn', 'emphasizes', 'rumor', 'miniature', 'dickinson', 'spawn', 'cartoony', 'acrobatic', 'wings', 'induced', 'unreasonable', 'sabrina', 'unused', 'horde', 'dour', 'loosing', 'fearful', 'whim', 'beams', 'newhart', 'morley', 'delia', 'olen', 'wandered', 'interpreted', 'denial', 'catalog', 'chang', 'apes', 'parachute', 'robson', 'budgeted', 'mal', 'inmate', 'journal', 'specialized', 'occult', 'pics', 'kidman', 'immigration', 'multitude', 'singularly', 'wizards', 'henson', 'doesnt', 'drake', 'andre', 'stripper', 'justine', 'overworked', 'embodiment', 'sandwich', 'plants', 'biological', 'posse', 'unsophisticated', 'daria', 'imagines', 'kings', 'ritz', 'groucho', 'goodfellas', 'shouts', 'devastation', 'binder', 'proportion', 'discusses', 'tasks', 'measured', 'horizon', 'eaters', 'meteor', 'aborted', 'communities', 'exchanges', 'spider', 'dc', 'salary', 'blasted', 'formerly', 'oft', 'gardens', 'sordid', 'aniston', 'zap', 'powerfully', 'cynicism', 'clay', 'boorman', 'approve', 'workings', 'whips', 'loot', 'joining', 'adoring', 'tormented', 'unimportant', 'slayer', 'tumble', 'alberto', 'mastery', 'reborn', 'infinite', 'panel', 'traveler', 'harbour', 'calmly', 'flops', 'listless', 'hams', 'textbook', 'barriers', 'potboiler', 'everytime', 'copycat', 'chopping', 'monogram', 'investigative', 'maniacs', 'pose', 'duet', 'vicky', 'skewed', 'burden', 'awkwardly', 'hysteria', 'conceivable', 'boards', 'philadelphia', 'cent', 'organizations', 'elton', 'cheech', 'distasteful', 'psychos', 'colossal', 'clarify', 'goddard', 'fellini', 'yun', 'judges', 'undeserved', 'sooner', 'wal', 'mart', 'settled', 'quantum', 'arrows', 'virginity', 'eyebrow', 'jenny', 'gr', 'dune', 'tina', 'hamburg', 'preferable', 'yada', 'eighth', 'dumbfounded', 'paraphrase', 'weissmuller', 'physique', 'octopus', 'mara', 'misfit', 'medication', 'billie', 'pasted', 'hulking', 'malevolent', 'wraith', 'goodies', 'itv', 'roar', 'gym', 'strips', 'safety', 'showy', 'wallop', 'harbor', 'stalin', 'cola', 'whopping', 'fallon', 'yankees', 'endeavors', 'unlimited', 'pier', 'slammed', 'speeds', 'establishing', 'judgmental', 'intimidating', 'teachings', 'smirk', 'trendy', 'unsympathetic', 'consistency', 'barbie', 'whiny', 'burlesque', 'friggin', 'coherence', 'clap', 'spoofing', 'cosmic', 'wreak', 'vagina', 'equipped', 'muddy', 'bury', 'ceremony', 'garth', 'forewarned', 'troy', 'consumer', 'awkwardness', 'stall', 'neve', 'contaminated', 'relish', 'napoleon', 'weirdly', 'supremely', 'flu', 'tornado', 'twister', 'pipe', 'sacrificed', 'delta', 'undone', 'insecure', 'dominique', 'vanished', 'artifact', 'anthropologist', 'cristina', 'raines', 'alison', 'evidenced', 'toss', 'sarandon', 'ava', 'gardner', 'sylvia', 'angelo', 'plagued', 'nightly', 'upstairs', 'riddled', 'nary', 'unknowingly', 'anarchy', 'aaron', 'wickedly', 'dexter', 'affable', 'diner', 'hillbilly', 'abundant', 'commenter', 'lethargic', 'mannequin', 'expressive', 'thirsty', 'brawl', 'si', 'plastered', 'hugging', 'therapist', 'bewitched', 'convert', 'ohio', 'differs', 'inclined', 'shoving', 'schumacher', 'unrecognizable', 'detractors', 'fashionable', 'curses', 'illinois', 'overtones', 'churches', 'acknowledged', 'animations', 'evolving', 'prepares', 'regina', 'gomez', 'tinted', 'separation', 'distribute', 'bolivia', 'units', 'bumping', 'compilation', 'stooge', 'mystique', 'colman', 'bulldog', 'burglar', 'conway', 'rudolf', 'staircase', 'iago', 'brighton', 'strangler', 'cheers', 'chambers', 'convict', 'folklore', 'stricken', 'mythological', 'bemused', 'glimmer', 'areas', 'jedi', 'enraged', 'barf', 'cram', 'muppet', 'nauseating', 'perverse', 'crank', 'putrid', 'brats', 'poland', 'betrayed', 'guerrilla', 'tuesday', 'jenkins', 'deluise', 'dialect', 'lemon', 'delights', 'aubrey', 'rewrite', 'sliding', 'fireworks', 'garish', 'shifts', 'insulted', 'heavies', 'katharine', 'franchot', 'reckless', 'imitate', 'lon', 'chaney', 'alluded', 'dungeon', 'partying', 'creeping', 'tequila', 'ambiance', 'agonizing', 'digitally', 'remastered', 'isabelle', 'shelly', 'developer', 'acquaintances', 'gears', 'surly', 'labels', 'defy', 'irritated', 'vertigo', 'motifs', 'influential', 'sheltered', 'damme', 'luc', 'ahmad', 'sultan', 'collects', 'instalment', 'soderbergh', 'drowned', 'unwelcome', 'toro', 'calvin', 'esque', 'basinger', 'sadism', 'toolbox', 'lizard', 'frustrating', 'cement', 'highlighting', 'defining', 'condescending', 'poop', 'detailing', 'turbulent', 'jj', 'tamil', 'transplant', 'trait', 'positions', 'smut', 'propelled', 'impersonation', 'entity', 'lambs', 'zatoichi', 'swordsman', 'panned', 'hounds', 'sexploitation', 'angelopoulos', 'joyful', 'aspire', 'sadder', 'takeshi', 'ichi', 'gandolfini', 'applegate', 'lowbrow', 'cheerfully', 'noticeably', 'girlfriends', 'refreshingly', 'compromise', 'rewritten', 'simpler', 'barn', 'hudson', 'smallville', 'dp', 'likability', 'es', 'showings', 'autobiographical', 'dolores', 'pratfalls', 'gi', 'walt', 'stepmother', 'lucifer', 'moralizing', 'drowns', 'guinea', 'bava', 'fold', 'freaky', 'iwo', 'jima', 'flags', 'noah', 'increased', 'incorporated', 'lopez', 'terrorized', 'sneaks', 'closeup', 'cleavage', 'bullied', 'council', 'feces', 'portraits', 'clocks', 'thwarted', 'feeds', 'declares', 'bunker', 'personnel', 'willy', 'bench', 'fanciful', 'pang', 'resort', 'brolin', 'schmaltzy', 'radiant', 'apples', 'ving', 'rhames', 'forbes', 'unacceptable', 'diagnosed', 'lenses', 'anamorphic', 'dive', 'lucille', 'ensuring', 'candyman', 'evoking', 'archer', 'vessel', 'fisherman', 'grammar', 'restrictions', 'bawdy', 'winchester', 'saucy', 'duryea', 'mcintire', 'consciously', 'traditionally', 'conflicting', 'enlightening', 'civilisation', 'dominate', 'wink', 'spectacularly', 'shamefully', 'february', 'toe', 'chairs', 'groaning', 'cruising', 'emergency', 'downer', 'honors', 'fondly', 'publish', 'natali', 'cronenberg', 'drone', 'wiping', 'pawn', 'infiltrate', 'paces', 'negatively', 'poles', 'gadget', 'wildest', 'wendell', 'mackenzie', 'sustained', 'cardinal', 'muck', 'telephone', 'congress', 'theodore', 'scorcese', 'yuki', 'kitten', 'alarm', 'waist', 'idealized', 'housekeeper', 'televised', 'voluptuous', 'immerse', 'reconcile', 'forefront', 'injecting', 'boyish', 'lesbianism', 'unnamed', 'zealand', 'danielle', 'jen', 'te', 'float', 'appetite', 'barman', 'dirk', 'outtakes', 'worries', 'rufus', 'restraint', 'gravitas', 'bump', 'firth', 'darcy', 'chronic', 'afterward', 'marco', 'inland', 'safer', 'ploy', 'scotty', 'morgue', 'chews', 'val', 'lewton', 'cheapness', 'lending', 'exchanged', 'eduardo', 'telegraphed', 'undertone', 'shemp', 'groom', 'blink', 'su', 'thunderbirds', 'mattered', 'traps', 'gerry', 'programming', 'ripoff', 'abe', 'encompasses', 'pioneer', 'cromwell', 'pauline', 'marjorie', 'tombstone', 'tripping', 'newest', 'butter', 'refrain', 'triumphant', 'rutger', 'hauer', 'vacuous', 'outweigh', 'dinosaurs', 'droppingly', 'riley', 'toto', 'marley', 'sic', 'vows', 'walters', 'exploring', 'alejandro', 'scarface', 'ferocious', 'cheesiness', 'excess', 'corleone', 'screenings', 'pursue', 'dahmer', 'stash', 'lowered', 'declaration', 'crimson', 'boobies', 'constitute', 'pumped', 'kenny', 'launch', 'incongruous', 'melbourne', 'fueled', 'earthy', 'vinny', 'richie', 'offset', 'faded', 'edmund', 'spiritually', 'socialite', 'elsa', 'ideological', 'crux', 'sen', 'boman', 'focal', 'kasdan', 'satanist', 'recurring', 'deft', 'files', 'reefer', 'emil', 'willingly', 'collectively', 'contributing', 'necklace', 'bias', 'screened', 'onwards', 'dork', 'ceases', 'vanishing', 'pilots', 'purports', 'jive', 'descends', 'sewell', 'hoskins', 'fanny', 'gyllenhaal', 'junkies', 'colorado', 'accented', 'je', 'profoundly', 'sasha', 'stained', 'caged', 'plump', 'opted', 'percentage', 'brodie', 'wyatt', 'earp', 'closeups', 'trading', 'eliot', 'sheila', 'bambi', 'melanie', 'stacey', 'olin', 'athletes', 'mil', 'brightest', 'gloomy', 'gloom', 'pok', 'figuring', 'epilogue', 'quaint', 'saget', 'admiring', 'wool', 'unsatisfying', 'velvet', 'concerts', 'glorify', 'excursion', 'buckets', 'terrorize', 'brittany', 'measures', 'quincy', 'fixation', 'kilmer', 'seminal', 'mounted', 'martian', 'consume', 'obliged', 'insufferable', 'defects', 'deus', 'machina', 'montreal', 'irs', 'frustrations', 'harrelson', 'defiant', 'sentiments', 'goodbye', 'suggestive', 'excite', 'swamp', 'upright', 'bailey', 'lightning', 'risking', 'hd', 'discs', 'grandiose', 'unlucky', 'falsely', 'quicker', 'poisonous', 'dares', 'condemned', 'mushy', 'plotline', 'boarding', 'paige', 'indicates', 'capitalize', 'commend', 'frances', 'filter', 'halls', 'automobiles', 'rom', 'alias', 'healed', 'cartwright', 'pinch', 'sanctimonious', 'matheson', 'vogel', 'tenant', 'lila', 'overcoming', 'boxed', 'weaponry', 'dice', 'carlin', 'surpass', 'freakin', 'gates', 'attends', 'whoa', 'clutter', 'hari', 'overload', 'grounded', 'crock', 'pi', 'locking', 'unintelligent', 'chatting', 'inherited', 'oozes', 'grudge', 'hispanic', 'gaze', 'undress', 'amnesia', 'platt', 'webber', 'metaphorical', 'banker', 'ca', 'gadgets', 'pumping', 'puddle', 'guevara', 'fidel', 'diaries', 'touring', 'tackled', 'benicio', 'argentine', 'peasants', 'intellectuals', 'intruder', 'indigenous', 'reproduce', 'byrne', 'nadja', 'modesty', 'blaise', 'capabilities', 'webster', 'tatum', 'gannon', 'miners', 'gunman', 'sling', 'unpopular', 'marple', 'sammi', 'decay', 'defender', 'bi', 'mastermind', 'remaking', 'nutty', 'inhabits', 'thirds', 'objections', 'storylines', 'madame', 'squid', 'miguel', 'oxford', 'dong', 'hopeful', 'babbling', 'yelled', 'pocket', 'posey', 'stylistic', 'referential', 'whistle', 'gestapo', 'tunnels', 'dishonest', 'preservation', 'priestess', 'cooked', 'riveted', 'zorro', 'bigotry', 'deformed', 'hiring', 'machete', 'foes', 'andr', 'strut', 'maniacal', 'loan', 'zack', 'elusive', 'unravels', 'humility', 'recognizing', 'punctuated', 'suppressed', 'mimzy', 'obscene', 'consent', 'gallagher', 'rally', 'pursued', 'mussolini', 'illustrate', 'stagecoach', 'antoinette', 'una', 'ebay', 'systems', 'turtles', 'sizemore', 'seductress', 'hog', 'continent', 'edinburgh', 'articulate', 'sade', 'cinematically', 'glimpsed', 'swept', 'disingenuous', 'falco', 'pantoliano', 'snipes', 'tt', 'jayston', 'beds', 'srk', 'aamir', 'shah', 'ajay', 'recreated', 'sim', 'breeze', 'sway', 'han', 'muscles', 'phantasm', 'hemingway', 'quips', 'trappings', 'retro', 'bey', 'distress', 'rosa', 'grenade', 'cord', 'sealed', 'orient', 'ancestors', 'marcel', 'slackers', 'narcissistic', 'relatable', 'grinch', 'kolchak', 'hecht', 'reporting', 'louisiana', 'founder', 'wherever', 'ellis', 'rents', 'unfaithful', 'bs', 'expanding', 'passive', 'conspiracies', 'moses', 'wistful', 'rocco', 'vignettes', 'patrons', 'carnal', 'discomfort', 'pubescent', 'advertisement', 'rash', 'orientation', 'remembering', 'elder', 'overnight', 'hess', 'attendance', 'southerner', 'delves', 'assaulted', 'squalor', 'coated', 'outsiders', 'songwriter', 'dizzy', 'norma', 'shearer', 'raining', 'proclaims', 'reciting', 'visibly', 'abusing', 'components', 'awesomely', 'tnt', 'spraying', 'hubby', 'salma', 'viciously', 'effortless', 'novella', 'arbuckle', 'ropes', 'conquest', 'armies', 'saber', 'michele', 'conform', 'certificate', 'philo', 'vance', 'astor', 'unsolved', 'forensic', 'fateful', 'denied', 'recovery', 'sinclair', 'plummer', 'burrows', 'sketchy', 'warhols', 'showcasing', 'vh', 'stripes', 'execs', 'polarisdib', 'lurks', 'trademarks', 'whack', 'shack', 'mia', 'bestiality', 'sergei', 'steiger', 'criterion', 'obey', 'poo', 'capitalist', 'exhibition', 'hardships', 'humorless', 'blessed', 'moonstruck', 'malle', 'blaming', 'mulholland', 'redford', 'kindness', 'spiders', 'sizes', 'claws', 'countess', 'ancestor', 'mesh', 'arrange', 'striving', 'esoteric', 'lukewarm', 'spaces', 'personas', 'stems', 'fey', 'embodies', 'frequency', 'departments', 'trois', 'slacker', 'breakup', 'chronological', 'disk', 'indicative', 'chad', 'approximately', 'umberto', 'backbone', 'gamers', 'debates', 'schwimmer', 'kudrow', 'blanc', 'pact', 'impulse', 'emilio', 'mare', 'asimov', 'hardware', 'solves', 'hartnett', 'ordering', 'uncovered', 'scriptwriting', 'frustratingly', 'ringing', 'conceit', 'peppered', 'romantically', 'weddings', 'sparkle', 'brained', 'micro', 'unwanted', 'unflinching', 'feds', 'ji', 'bolt', 'jeffery', 'nickname', 'lesley', 'sailor', 'cobra', 'literate', 'englund', 'elm', 'mug', 'atheist', 'topper', 'leans', 'goldblum', 'malkovich', 'balances', 'behaviors', 'pleading', 'cutouts', 'maclaine', 'novarro', 'spans', 'apathetic', 'galactica', 'chickens', 'imply', 'gillian', 'talbot', 'allied', 'serpent', 'posed', 'hoyt', 'shriek', 'romano', 'governor', 'extinction', 'tracey', 'threshold', 'waterfall', 'astronaut', 'radioactive', 'dissolves', 'saturn', 'hunger', 'corridor', 'competently', 'piling', 'comrades', 'wade', 'underwritten', 'iris', 'acquaintance', 'condemn', 'owning', 'concoction', 'fathom', 'tribulations', 'linney', 'reincarnated', 'offenders', 'avenging', 'britt', 'busting', 'flees', 'soulful', 'debris', 'jar', 'doubles', 'compares', 'rossi', 'noose', 'fortress', 'ringer', 'aesthetics', 'wyoming', 'brokeback', 'stared', 'paralyzed', 'closes', 'squirrel', 'denis', 'leary', 'momentarily', 'forthcoming', 'chant', 'doubtful', 'lottery', 'completing', 'lil', 'slices', 'balloon', 'abject', 'sorcerer', 'rug', 'mermaid', 'bastards', 'mish', 'whispering', 'anais', 'jerome', 'davenport', 'cheryl', 'jocks', 'stoltz', 'taping', 'oprah', 'sematary', 'creed', 'zelda', 'hanger', 'psychedelic', 'glorified', 'examining', 'perversion', 'circular', 'fearless', 'mahoney', 'durning', 'sweaty', 'noirs', 'sympathies', 'honour', 'bona', 'overdue', 'commonly', 'lumley', 'passionately', 'carlyle', 'loathing', 'parodying', 'delpy', 'commentaries', 'retrospective', 'sickness', 'manhood', 'sol', 'zucco', 'enslaved', 'eisenberg', 'kaye', 'addressing', 'varma', 'scar', 'ki', 'broadcasts', 'islamic', 'backward', 'venom', 'inventions', 'overs', 'addled', 'heres', 'chocolate', 'burgess', 'meredith', 'trippy', 'conroy', 'dismay', 'tapped', 'cuz', 'notoriously', 'smiles', 'unstoppable', 'meyer', 'dakota', 'fanning', 'ranking', 'bikers', 'santiago', 'rants', 'villages', 'participated', 'hallways', 'sesame', 'requiring', 'succumbs', 'raging', 'cringing', 'dragonball', 'fiery', 'rails', 'skater', 'coloring', 'reworking', 'raiders', 'resnais', 'reds', 'carney', 'ois', 'commands', 'africans', 'fangoria', 'rubbing', 'bereft', 'revived', 'slated', 'commentator', 'tel', 'penetrate', 'exiled', 'grover', 'expendable', 'contemplating', 'oldman', 'herd', 'adele', 'jeez', 'ek', 'uncontrollable', 'zucker', 'schizophrenia', 'rehab', 'borrowing', 'gabe', 'rooker', 'plaza', 'coolest', 'budgetary', 'parenting', 'roddy', 'mcdowall', 'insensitive', 'indestructible', 'napier', 'herrings', 'mani', 'spunky', 'baring', 'knowles', 'alarming', 'legged', 'craving', 'sierra', 'deluded', 'hefty', 'milton', 'issued', 'valiant', 'claustrophobia', 'hastily', 'juicy', 'condensed', 'sweep', 'ursula', 'fares', 'pong', 'cleopatra', 'julius', 'escalating', 'weber', 'clarkson', 'jayne', 'buses', 'farther', 'copying', 'skies', 'petrified', 'slumber', 'proposition', 'farrelly', 'weave', 'hug', 'substituted', 'diet', 'indies', 'savini', 'lauded', 'ladd', 'mulder', 'scully', 'coins', 'jam', 'limbo', 'graced', 'identified', 'revisit', 'savings', 'storms', 'contradiction', 'aileen', 'contradicts', 'orgasm', 'unfocused', 'sombre', 'gardener', 'giggle', 'missiles', 'plausibility', 'dots', 'sony', 'heaps', 'resent', 'freakish', 'schmidt', 'eleanor', 'bitterness', 'operating', 'ridiculousness', 'conjure', 'rhonda', 'scratches', 'iota', 'gleefully', 'audible', 'gasping', 'theorists', 'notions', 'snot', 'spoils', 'hawkins', 'egyptian', 'romans', 'col', 'shanks', 'tapping', 'arthurian', 'maestro', 'multiplex', 'accuse', 'soundtracks', 'excessively', 'insider', 'referenced', 'universally', 'schlocky', 'spray', 'bald', 'archetype', 'ouch', 'roam', 'dolphin', 'ramble', 'stuffing', 'newton', 'escapism', 'contemplative', 'selfishness', 'shabby', 'greasy', 'gladys', 'courtship', 'dourif', 'lew', 'summoned', 'tautou', 'timeline', 'hijacking', 'malta', 'concluding', 'sabotage', 'devgan', 'patsy', 'cairo', 'uniqueness', 'lists', 'bounds', 'creeped', 'lampoon', 'pap', 'capra', 'sturges', 'poignancy', 'godard', 'truffaut', 'overt', 'talkies', 'bowie', 'humming', 'flourishes', 'cues', 'cillian', 'mcadams', 'alternating', 'forte', 'android', 'rhymes', 'tivo', 'fleischer', 'alphabet', 'priestly', 'possessions', 'smokes', 'predicament', 'pictured', 'kira', 'abiding', 'idealism', 'helm', 'lenzi', 'asides', 'serenity', 'retirement', 'innuendos', 'submitted', 'snobby', 'sacrificing', 'olivia', 'havilland', 'suitor', 'raider', 'booty', 'tee', 'hee', 'ronny', 'robocop', 'distinguishes', 'excalibur', 'hackers', 'computers', 'operated', 'hacker', 'joshua', 'exudes', 'sica', 'hr', 'playground', 'pantomime', 'ott', 'dwelling', 'colbert', 'weirdest', 'swat', 'cellphone', 'elaine', 'dtv', 'vignette', 'incorporate', 'speaker', 'gere', 'fruition', 'dialouge', 'bohemian', 'rhapsody', 'rendezvous', 'tendencies', 'cranky', 'chun', 'honey', 'guild', 'gracious', 'strangled', 'inescapable', 'clayton', 'ames', 'gossip', 'stephens', 'inherits', 'pollack', 'rankin', 'archives', 'pork', 'athlete', 'trainer', 'retelling', 'capsule', 'mississippi', 'alabama', 'mk', 'floriane', 'phrases', 'illusions', 'representative', 'shitty', 'madhuri', 'kajol', 'burying', 'malibu', 'therefor', 'garb', 'mold', 'removes', 'starved', 'repercussions', 'americana', 'barrie', 'sorta', 'silverman', 'ida', 'lupino', 'maltin', 'timmy', 'column', 'airs', 'chairman', 'prizes', 'tawdry', 'extract', 'swain', 'contents', 'rejects', 'saccharine', 'primo', 'promos', 'dreamworks', 'rebirth', 'lancaster', 'boyd', 'twain', 'mythic', 'shove', 'horseback', 'informed', 'scheduled', 'ye', 'barbaric', 'jacob', 'gaudy', 'lime', 'revue', 'memorably', 'fargo', 'newfound', 'tragically', 'accomplishes', 'perfunctory', 'jets', 'formation', 'heidi', 'weaves', 'permanently', 'koch', 'martinez', 'imaginary', 'diplomatic', 'skyscraper', 'moan', 'taliban', 'quickie', 'roster', 'shouted', 'dullest', 'assailant', 'hagen', 'adversaries', 'onset', 'toddler', 'practices', 'accountant', 'solidly', 'perpetrated', 'levinson', 'magnitude', 'jessie', 'overlooking', 'bitchy', 'lindy', 'titans', 'jacobi', 'fingernails', 'ness', 'gorgeously', 'perceptive', 'essay', 'singapore', 'grinding', 'cough', 'lennie', 'steinbeck', 'slums', 'zodiac', 'arabs', 'har', 'begged', 'hungary', 'tournament', 'appealed', 'pope', 'stresses', 'smacks', 'aquarium', 'django', 'donnie', 'infuriating', 'vegetarian', 'cavalry', 'fletcher', 'stirs', 'handyman', 'potty', 'futurama', 'titillating', 'shaq', 'powder', 'magnetic', 'perceptions', 'hectic', 'thematically', 'leprechaun', 'dispatched', 'completists', 'strikingly', 'cum', 'defends', 'screws', 'gloriously', 'cornball', 'affections', 'surrealism', 'bending', 'objectionable', 'elf', 'bogey', 'gripped', 'agendas', 'strategy', 'evaluation', 'whores', 'affinity', 'mabel', 'cheery', 'macarthur', 'laziness', 'awaited', 'typing', 'pullman', 'prequels', 'jeunet', 'silents', 'autopsy', 'worms', 'carolina', 'cozy', 'creations', 'clutches', 'winslet', 'iceberg', 'naming', 'anticipate', 'exceeded', 'resonate', 'nuance', 'montgomery', 'chester', 'lobster', 'fahey', 'tan', 'largest', 'twitch', 'cock', 'melted', 'descendant', 'omg', 'tanner', 'harryhausen', 'ark', 'lister', 'leroy', 'incompetence', 'gizmo', 'enthusiast', 'troop', 'arctic', 'tilly', 'bale', 'categorized', 'subgenre', 'unsurprisingly', 'antichrist', 'bees', 'tightrope', 'onscreen', 'objectively', 'giorgio', 'admits', 'fritz', 'lang', 'manipulates', 'trashed', 'tuning', 'maya', 'robe', 'spellbinding', 'ogre', 'hellraiser', 'crafts', 'transportation', 'raft', 'shipped', 'downstairs', 'devine', 'gosling', 'admitting', 'barrage', 'tens', 'impoverished', 'mckay', 'threats', 'recalling', 'invents', 'shear', 'sphere', 'centred', 'clowns', 'trucks', 'brightly', 'explorers', 'lined', 'melville', 'rewind', 'jawed', 'nosed', 'diagnosis', 'drool', 'kirby', 'blindness', 'console', 'negatives', 'libby', 'implication', 'exercises', 'mechanics', 'macross', 'nat', 'tod', 'limb', 'contradictory', 'slutty', 'tack', 'amato', 'benton', 'anders', 'recommendable', 'yakuza', 'thespian', 'harilal', 'akshaye', 'khanna', 'pony', 'luxurious', 'cuckoo', 'haneke', 'scripture', 'imax', 'havana', 'succession', 'stupider', 'experimenting', 'johns', 'vietnamese', 'stefan', 'stripping', 'haley', 'tangled', 'clare', 'unworthy', 'conditioned', 'homemade', 'unassuming', 'noam', 'outta', 'blades', 'vulgarity', 'labored', 'postwar', 'enigma', 'bosnian', 'capability', 'myriad', 'shield', 'depended', 'shahid', 'kher', 'ur', 'juhi', 'rowdy', 'merciless', 'pitcher', 'coscarelli', 'mist', 'thrive', 'jumbo', 'wtc', 'maze', 'katrina', 'assassinated', 'hesitant', 'retread', 'rampling', 'harassed', 'zizek', 'voyeur', 'sermon', 'inserting', 'detect', 'gulliver', 'barber', 'pastiche', 'luthor', 'tropical', 'ncis', 'circulation', 'chap', 'talkative', 'gibberish', 'selznick', 'linus', 'cheerleaders', 'replicate', 'regiment', 'privates', 'nay', 'sociological', 'theresa', 'tattoos', 'preconceived', 'grad', 'speculation', 'rerun', 'boyhood', 'input', 'evan', 'laboured', 'camerawork', 'decipher', 'friedman', 'vixen', 'buxom', 'dominatrix', 'scorn', 'versatility', 'kibbee', 'exiting', 'chevy', 'modified', 'towering', 'hairstyles', 'guise', 'grasping', 'bla', 'sledgehammer', 'populace', 'sneaky', 'vortex', 'kessler', 'sydow', 'choked', 'lerner', 'operator', 'swiftly', 'registers', 'passages', 'solitude', 'prose', 'collision', 'spins', 'beijing', 'unprecedented', 'flare', 'priorities', 'idiosyncratic', 'joyous', 'wook', 'owing', 'channing', 'daffy', 'raul', 'lulu', 'unrealistically', 'utters', 'buckaroo', 'zellweger', 'scoring', 'banning', 'harper', 'trey', 'farley', 'idealist', 'spiral', 'moms', 'aykroyd', 'pleasence', 'collaborator', 'economical', 'kristy', 'swanson', 'bums', 'skinheads', 'kat', 'dashed', 'jericho', 'brock', 'choking', 'scissors', 'whacked', 'spilled', 'guillotine', 'concentrated', 'misfits', 'ta', 'vivacious', 'cannonball', 'hobbit', 'forged', 'shawshank', 'gathers', 'awaits', 'ripley', 'healer', 'healing', 'theatrically', 'wyler', 'unavailable', 'heartland', 'buchanan', 'morrison', 'despise', 'cad', 'donnell', 'aishwarya', 'corrected', 'unborn', 'extraneous', 'unbeknownst', 'casper', 'truthfully', 'hostages', 'bulls', 'remarked', 'serbs', 'presidents', 'ghouls', 'goblins', 'ferguson', 'frantically', 'instructed', 'unleashes', 'gig', 'snyder', 'beery', 'claudia', 'dogme', 'beulah', 'underplayed', 'violet', 'papillon', 'execute', 'coronation', 'dross', 'whitney', 'charitable', 'constable', 'ridiculed', 'vault', 'mumbo', 'enzo', 'castellari', 'chiba', 'respectful', 'tremors', 'lunacy', 'adores', 'wisecracking', 'ditsy', 'claymation', 'amaze', 'roswell', 'xtro', 'smiled', 'reserve', 'alienate', 'obsessions', 'hare', 'ch', 'smarts', 'defeats', 'testify', 'sparkling', 'spinster', 'ammunition', 'properties', 'paved', 'misunderstanding', 'revisited', 'piggy', 'stamp', 'storyteller', 'bearded', 'subtitle', 'hathaway', 'jolson', 'sloan', 'lecherous', 'hawks', 'utilizes', 'branded', 'verve', 'disposition', 'skips', 'gardenia', 'sensuality', 'pardon', 'whit', 'suspiria', 'starsky', 'hutch', 'jill', 'dreyfus', 'barkin', 'recycling', 'regions', 'colorless', 'virgil', 'goons', 'duchess', 'ghoul', 'hypnotist', 'seeds', 'chabrol', 'treasures', 'auteuil', 'durante', 'clans', 'karma', 'stuttering', 'mein', 'responded', 'outcasts', 'willed', 'pleasance', 'hatton', 'entangled', 'bluth', 'faust', 'frat', 'feminism', 'bobbie', 'appease', 'pandora', 'superlative', 'snooze', 'karyo', 'pluto', 'aloof', 'purchasing', 'hasty', 'vantage', 'americanized', 'shea', 'nameless', 'salvador', 'aficionados', 'lumiere', 'russel', 'mercenaries', 'airplanes', 'wallow', 'heal', 'recommendations', 'characterisations', 'lapse', 'psychopaths', 'shyamalan', 'turkeys', 'mercenary', 'pacifist', 'aplenty', 'utilize', 'skeleton', 'fischer', 'agar', 'awaken', 'bellamy', 'publicly', 'peyton', 'scroll', 'jezebel', 'keefe', 'stew', 'delon', 'olga', 'flood', 'conducted', 'adolescents', 'hairs', 'merrill', 'cobb', 'pentagon', 'lava', 'countdown', 'yanks', 'beggar', 'hail', 'taxes', 'trolls', 'aladdin', 'landlady', 'fitted', 'offices', 'yankee', 'lawson', 'probation', 'cleef', 'impose', 'dizzying', 'priyanka', 'kal', 'decadence', 'amendment', 'hattie', 'higgins', 'myrtle', 'sync', 'monotony', 'clashes', 'spellbound', 'klaus', 'memento', 'engulfed', 'darko', 'ammo', 'laptop', 'frasier', 'cotten', 'facet', 'nastassja', 'globalization', 'weisz', 'giamatti', 'azumi', 'jody', 'imperfect', 'buildup', 'machismo', 'spotting', 'whispers', 'mirren', 'capone', 'dir', 'dillinger', 'dv', 'shaved', 'voyeuristic', 'becky', 'unknowns', 'loch', 'moreland', 'rydell', 'dianne', 'concentrating', 'lenny', 'prospective', 'rishi', 'minotaur', 'popeye', 'zappa', 'greenstreet', 'carlitos', 'gil', 'aquatic', 'kindergarten', 'rife', 'implying', 'advancing', 'mace', 'poirot', 'nile', 'dixie', 'friar', 'rickman', 'connell', 'reduces', 'willard', 'infatuated', 'sensuous', 'dino', 'overdose', 'suicides', 'jc', 'behemoth', 'ugliness', 'benchmark', 'robby', 'kinetic', 'frigid', 'centering', 'belts', 'tongues', 'hunchback', 'gould', 'aslan', 'hanzo', 'gta', 'varney', 'hinting', 'boldly', 'touchy', 'limo', 'harmful', 'backup', 'wince', 'kenya', 'desmond', 'floyd', 'burger', 'profane', 'wellington', 'keyes', 'michigan', 'hanna', 'drastic', 'considine', 'enlists', 'beck', 'currie', 'bubblegum', 'dumbed', 'friel', 'womanizer', 'viet', 'jos', 'booby', 'jeopardy', 'blurry', 'promotes', 'bimbos', 'schoolteacher', 'sherman', 'dell', 'gaynor', 'rot', 'ussr', 'foreigners', 'zenda', 'solar', 'infantry', 'greer', 'garson', 'silva', 'drago', 'deserts', 'wilbur', 'fingerprints', 'stephenson', 'fagin', 'arsenal', 'iowa', 'arranges', 'matriarch', 'hickock', 'whitman', 'yuen', 'consensus', 'scanners', 'mckee', 'hatchet', 'pancake', 'dum', 'peel', 'contradictions', 'robs', 'leila', 'shortage', 'decorations', 'additions', 'attackers', 'snatchers', 'yorkshire', 'katt', 'sawyer', 'icky', 'blackadder', 'apache', 'sinbad', 'abrasive', 'evenings', 'backing', 'savages', 'truncated', 'breasted', 'fracture', 'sturdy', 'liner', 'clients', 'formal', 'hallway', 'deceptive', 'invaders', 'maury', 'bebop', 'fastest', 'bergen', 'torturous', 'slaps', 'umbrella', 'mankiewicz', 'natty', 'solaris', 'mccarey', 'developers', 'nichols', 'oswald', 'satyricon', 'mondo', 'boyz', 'neville', 'addams', 'engrossed', 'dining', 'fiorentino', 'howell', 'erotica', 'leatherface', 'colony', 'breathtakingly', 'poltergeist', 'lodge', 'zemeckis', 'deathstalker', 'beethoven', 'valet', 'hutton', 'narnia', 'quarry', 'paolo', 'conte', 'impressionable', 'wheels', 'mai', 'superiority', 'inhumanity', 'villainy', 'knotts', 'toho', 'reused', 'hitchcockian', 'deadwood', 'pours', 'nypd', 'prisons', 'freezing', 'monument', 'ambassador', 'gamble', 'asses', 'chico', 'accompaniment', 'fetus', 'adamson', 'hammond', 'wongo', 'plumber', 'karaoke', 'cheesiest', 'confrontations', 'doodle', 'hayek', 'dev', 'anand', 'aman', 'janice', 'crudup', 'aditya', 'dearly', 'bleached', 'stem', 'irving', 'windsor', 'commune', 'milius', 'activists', 'tyra', 'gavin', 'bickford', 'kellogg', 'ode', 'indoors', 'conquered', 'carbon', 'kara', 'lillie', 'blanchett', 'vladimir', 'hearst', 'gilda', 'bannister', 'loathsome', 'hurley', 'merge', 'korda', 'chiefly', 'forsyte', 'harpo', 'lucrative', 'molina', 'rag', 'nadia', 'gulf', 'nakata', 'gila', 'stockwell', 'susie', 'completes', 'astin', 'untouchables', 'censor', 'statham', 'rai', 'lea', 'poelzig', 'sorority', 'gutsy', 'claudius', 'contrivances', 'frederick', 'caviezel', 'hackett', 'conceive', 'sank', 'turks', 'chunks', 'unsuccessfully', 'almodovar', 'porky', 'rwanda', 'pinhead', 'huppert', 'audie', 'federation', 'clouseau', 'shand', 'eleniak', 'engineered', 'helsing', 'precursor', 'eloquently', 'promo', 'excused', 'bea', 'heh', 'commandant', 'quigley', 'netherlands', 'chuckled', 'filtered', 'dusk', 'claudette', 'abner', 'stoker', 'opting', 'aurora', 'darkman', 'bateman', 'fatty', 'mcg', 'pointlessness', 'jensen', 'keane', 'gaston', 'opium', 'royale', 'caleb', 'moscow', 'cottage', 'scruffy', 'genocide', 'grandchildren', 'crichton', 'eastman', 'deodato', 'inflict', 'moviegoer', 'creasy', 'rudy', 'completist', 'axel', 'novello', 'culp', 'heady', 'jasmine', 'mediterranean', 'generosity', 'astounded', 'bake', 'siodmak', 'lunatics', 'catastrophic', 'intercut', 'annabelle', 'yeoh', 'anarchist', 'gator', 'brecht', 'gregg', 'abduction', 'madam', 'orville', 'farmhouse', 'pinocchio', 'kalifornia', 'hauntingly', 'wellman', 'vinod', 'janeway', 'bondi', 'raf', 'zabriskie', 'disturbs', 'uninvolving', 'forsyth', 'della', 'haas', 'bookie', 'untold', 'scrimm', 'goku', 'cylons', 'eclipse', 'mallory', 'sutton', 'naish', 'robberies', 'gabin', 'heartbroken', 'carriage', 'fiends', 'abuses', 'pussy', 'keach', 'cabot', 'copper', 'lingerie', 'vi', 'astro', 'rabbits', 'yeager', 'gidget', 'marcos', 'endearment', 'smartest', 'ferrara', 'rig', 'gruner', 'undergo', 'lorraine', 'kern', 'enid', 'manu', 'informing', 'lom', 'curt', 'roberta', 'alucard', 'yor', 'gypo', 'lonesome', 'yee', 'adjusted', 'blacktop', 'godawful', 'ayres', 'gilmore', 'investigators', 'prima', 'au', 'lelouch', 'unconvincingly', 'warsaw', 'discerning', 'tenement', 'populate', 'ravaged', 'shalhoub', 'gibbs', 'benigni', 'headline', 'corbucci', 'moog', 'cates', 'swank', 'wasp', 'duane', 'apostle', 'bennet', 'rv', 'fancies', 'donen', 'traci', 'janie', 'missy', 'kisna', 'perverts', 'besson', 'dacascos', 'obtained', 'thundercats', 'remembrance', 'dink', 'lucinda', 'rodman', 'footloose', 'jackhammer', 'aspires', 'berger', 'kristel', 'reinhold', 'ff', 'bram', 'mallrats', 'turbo', 'farrow', 'clayburgh', 'terrence', 'aquaman', 'sorceress', 'showgirl', 'sneakers', 'carandiru', 'bingo', 'democrats', 'pike', 'chopin', 'fincher', 'tai', 'wynorski', 'mayan', 'nene', 'paddy', 'wiest', 'lodger', 'hodiak', 'detest', 'latifah', 'gram', 'peppard', 'dolphins', 'arn', 'picard', 'ops', 'solondz', 'romasanta', 'augustus', 'yossi', 'tuck', 'labute', 'sobieski', 'stealer', 'garr', 'jang', 'mcewan', 'pare', 'locusts', 'withers', 'jovovich', 'indigo', 'bianca', 'triggered', 'wilding', 'outback', 'matteo', 'reef', 'dutt', 'graf', 'pumpkinhead', 'elsie', 'fireflies', 'eel', 'crusades', 'goblin', 'kerrigan', 'poachers', 'karan', 'ayesha', 'dehavilland', 'feathers', 'kitano', 'roshan', 'boop', 'marv', 'mcclane', 'inuyasha', 'breslin', 'ulmer', 'puck', 'valdez', 'haggis', 'pearce', 'akbar', 'alexei', 'delicatessen', 'prinze', 'vlad', 'lillard', 'cartman', 'hidalgo', 'mukherjee', 'jeb', 'colossus', 'amar', 'hildy', 'horsemen', 'swann', 'packard', 'taj', 'bogarde', 'guffman', 'saawariya', 'hrithik', 'rahul', 'vivek', 'oberoi', 'aldrich', 'araki', 'sayles', 'zac', 'farina', 'derrida', 'duk', 'mcphee', 'milla', 'elfen', 'keating', 'selena', 'ozon', 'bulworth', 'screamers', 'ged', 'carvey', 'thora', 'ghai', 'zohan', 'fredric', 'paulette', 'ember', 'rimmer', 'eklavya', 'dumplings', 'crumb', 'mcdormand', 'ffolkes', 'ranbir', 'mantee', 'snowblood', 'etting', 'toback', 'duris', 'helene', 'merrick', 'neel', 'jamaica', 'hellworld', 'danika', 'nukie', 'grau', 'tanz', 'sadako', 'supergirl', 'starcraft', 'woodcock', 'spee', 'kagome', 'hellgate', 'rts', 'kersey', 'brundle', 'decoys', 'baumbach', 'squall', 'asoka', 'minghella', 'jakob', 'sukiyaki', 'vitus', 'elwood', 'petulia', 'silkwood', 'naina', 'bratz', 'milian', 'amira', 'sisko', 'ricco', 'gaul', 'nanon', 'anderton', 'nobile', 'jodhaa', 'forbin', 'wigand', 'belial', 'pammy', 'korvo'])"
      ]
     },
     "execution_count": 73,
     "metadata": {},
     "output_type": "execute_result"
    }
   ],
   "source": [
    "model.wv.vocab.keys()"
   ]
  },
  {
   "cell_type": "code",
   "execution_count": 84,
   "metadata": {},
   "outputs": [
    {
     "name": "stdout",
     "output_type": "stream",
     "text": [
      "Fitting a random forest to labeled training data...\n",
      "\n",
      " RandomForestClassifier(bootstrap=True, class_weight=None, criterion='gini',\n",
      "            max_depth=None, max_features='auto', max_leaf_nodes=None,\n",
      "            min_impurity_split=1e-07, min_samples_leaf=1,\n",
      "            min_samples_split=2, min_weight_fraction_leaf=0.0,\n",
      "            n_estimators=220, n_jobs=1, oob_score=False, random_state=None,\n",
      "            verbose=0, warm_start=False)\n"
     ]
    }
   ],
   "source": [
    "from sklearn.model_selection import GridSearchCV\n",
    "params_rf = {'n_estimators': [x for x in range(180,240,20)]}\n",
    "\n",
    "\n",
    "RF_grid = GridSearchCV(estimator=RandomForestClassifier(), param_grid=params_rf, n_jobs=-1, cv=5)\n",
    "print(\"Fitting a random forest to labeled training data...\")\n",
    "forest = RF_grid.fit( trainDataVecs, train[\"sentiment\"] )\n",
    "print('\\n',RF_grid.best_estimator_)\n",
    "\n",
    "\n"
   ]
  },
  {
   "cell_type": "code",
   "execution_count": 93,
   "metadata": {},
   "outputs": [
    {
     "name": "stdout",
     "output_type": "stream",
     "text": [
      "(25000, 2)\n",
      "25000\n"
     ]
    }
   ],
   "source": [
    "test = pd.read_csv(\"testData.tsv\", header=0, delimiter=\"\\t\", \\\n",
    "                   quoting=3 )\n",
    "print(test.shape)\n",
    "\n",
    "num_reviews = len(test[\"review\"])\n",
    "print(num_reviews)"
   ]
  },
  {
   "cell_type": "code",
   "execution_count": 94,
   "metadata": {},
   "outputs": [
    {
     "name": "stdout",
     "output_type": "stream",
     "text": [
      "Creating average feature vecs for test reviews\n"
     ]
    },
    {
     "name": "stderr",
     "output_type": "stream",
     "text": [
      "C:\\Users\\admin\\Anaconda3\\lib\\site-packages\\bs4\\__init__.py:181: UserWarning: No parser was explicitly specified, so I'm using the best available HTML parser for this system (\"lxml\"). This usually isn't a problem, but if you run this code on another system, or in a different virtual environment, it may use a different parser and behave differently.\n",
      "\n",
      "The code that caused this warning is on line 193 of the file C:\\Users\\admin\\Anaconda3\\lib\\runpy.py. To get rid of this warning, change code that looks like this:\n",
      "\n",
      " BeautifulSoup(YOUR_MARKUP})\n",
      "\n",
      "to this:\n",
      "\n",
      " BeautifulSoup(YOUR_MARKUP, \"lxml\")\n",
      "\n",
      "  markup_type=markup_type))\n"
     ]
    },
    {
     "name": "stdout",
     "output_type": "stream",
     "text": [
      "Wall time: 57.2 s\n"
     ]
    }
   ],
   "source": [
    "%%time\n",
    "print(\"Creating average feature vecs for test reviews\")\n",
    "clean_test_reviews = []\n",
    "for review in test[\"review\"]:\n",
    "    clean_test_reviews.append( review_to_wordlist( review ))"
   ]
  },
  {
   "cell_type": "code",
   "execution_count": 95,
   "metadata": {},
   "outputs": [
    {
     "name": "stdout",
     "output_type": "stream",
     "text": [
      "Wall time: 0 ns\n",
      "Review 0 of 25000\n",
      "Review 5000 of 25000\n",
      "Review 10000 of 25000\n",
      "Review 15000 of 25000\n",
      "Review 20000 of 25000\n"
     ]
    }
   ],
   "source": [
    "%time \n",
    "testDataVecs = getAvgFeatureVecs(clean_test_reviews, model, num_features)"
   ]
  },
  {
   "cell_type": "code",
   "execution_count": 96,
   "metadata": {},
   "outputs": [],
   "source": [
    "result = RF_grid.best_estimator_.predict( testDataVecs )\n",
    "output = pd.DataFrame( data={\"id\":test[\"id\"], \"sentiment\":result} )\n",
    "output.to_csv( \"Word2Vec_AverageVectors.csv\", index=False, quoting=3 )"
   ]
  },
  {
   "cell_type": "code",
   "execution_count": 97,
   "metadata": {},
   "outputs": [],
   "source": [
    "#0.84696 kaggle."
   ]
  },
  {
   "cell_type": "code",
   "execution_count": null,
   "metadata": {},
   "outputs": [],
   "source": []
  },
  {
   "cell_type": "code",
   "execution_count": null,
   "metadata": {},
   "outputs": [],
   "source": []
  },
  {
   "cell_type": "code",
   "execution_count": null,
   "metadata": {},
   "outputs": [],
   "source": []
  },
  {
   "cell_type": "code",
   "execution_count": null,
   "metadata": {},
   "outputs": [],
   "source": []
  },
  {
   "cell_type": "code",
   "execution_count": null,
   "metadata": {},
   "outputs": [],
   "source": []
  },
  {
   "cell_type": "code",
   "execution_count": null,
   "metadata": {},
   "outputs": [],
   "source": []
  },
  {
   "cell_type": "code",
   "execution_count": null,
   "metadata": {},
   "outputs": [],
   "source": []
  },
  {
   "cell_type": "code",
   "execution_count": 16,
   "metadata": {},
   "outputs": [],
   "source": [
    "# Try with another params\n",
    "num_features = 750    # Word vector dimensionality                      \n",
    "min_word_count = 20   # Minimum word count                        \n",
    "num_workers = 8       # Number of threads to run in parallel\n",
    "context = 6         # Context window size                                                                                    \n",
    "downsampling = 1e-3   # Downsample setting for frequent words"
   ]
  },
  {
   "cell_type": "code",
   "execution_count": 17,
   "metadata": {},
   "outputs": [
    {
     "name": "stdout",
     "output_type": "stream",
     "text": [
      "Training model...\n",
      "Wall time: 2min\n"
     ]
    }
   ],
   "source": [
    "%%time\n",
    "print(\"Training model...\")\n",
    "model = Word2Vec(sentences, workers=num_workers, \\\n",
    "            size=num_features, min_count = min_word_count, \\\n",
    "            window = context, sample = downsampling)\n"
   ]
  },
  {
   "cell_type": "code",
   "execution_count": 53,
   "metadata": {},
   "outputs": [],
   "source": [
    "from collections import Counter\n",
    "import math\n",
    "\n",
    "def compute_tfidf(corpus):\n",
    "    def compute_tf(text):\n",
    "        tf_text = Counter(text)\n",
    "        for i in tf_text:\n",
    "            tf_text[i] = tf_text[i]/float(len(text))\n",
    "        return tf_text\n",
    "    def compute_idf(word, corpus):\n",
    "        return math.log10(len(corpus)/sum([1.0 for i in corpus if word in i]))\n",
    "    documents_list = []\n",
    "    i = 0\n",
    "    for text in corpus:\n",
    "        print(\"Review %d of %d\" % (i, len(corpus)))\n",
    "        i += 1\n",
    "        tf_idf_dictionary = {}\n",
    "        computed_tf = compute_tf(text)\n",
    "        for word in computed_tf:\n",
    "            tf_idf_dictionary[word] = computed_tf[word] * compute_idf(word, corpus)\n",
    "        documents_list.append(tf_idf_dictionary)\n",
    "    return documents_list"
   ]
  },
  {
   "cell_type": "code",
   "execution_count": null,
   "metadata": {},
   "outputs": [],
   "source": []
  },
  {
   "cell_type": "code",
   "execution_count": null,
   "metadata": {},
   "outputs": [],
   "source": []
  },
  {
   "cell_type": "code",
   "execution_count": 18,
   "metadata": {},
   "outputs": [],
   "source": [
    "import collections\n",
    "\n",
    "def compute_tf(text):\n",
    "    tf_text = collections.Counter(text)\n",
    "    for i in tf_text:\n",
    "        tf_text[i] = tf_text[i]/float(len(text))\n",
    "    return tf_text"
   ]
  },
  {
   "cell_type": "code",
   "execution_count": 19,
   "metadata": {},
   "outputs": [],
   "source": [
    "import math\n",
    "\n",
    "def compute_idf(word, corpus):\n",
    "    return math.log10(len(corpus)/sum([1.0 for i in corpus if word in i]))"
   ]
  },
  {
   "cell_type": "code",
   "execution_count": 55,
   "metadata": {},
   "outputs": [],
   "source": [
    "def makeFeatureVec(words, model, num_features, reviews):\n",
    "    featureVec = np.zeros((num_features,),dtype=\"float32\")\n",
    "    nwords = 0\n",
    "    index2word_set = set(model.wv.index2word)\n",
    "    for word in words:\n",
    "        if word in index2word_set : \n",
    "            nwords = nwords + 1.\n",
    "            featureVec = np.add(featureVec,model[word])\n",
    "    featureVec = np.divide(featureVec,nwords)\n",
    "    return featureVec\n",
    "\n"
   ]
  },
  {
   "cell_type": "code",
   "execution_count": 56,
   "metadata": {},
   "outputs": [],
   "source": [
    "def getAvgFeatureVecs(reviews, model, num_features):\n",
    "    counter = 0\n",
    "    reviewFeatureVecs = np.zeros((len(reviews),num_features),dtype=\"float32\")\n",
    "    for review in reviews:\n",
    "       if counter%500 == 0:\n",
    "           print(\"Review %d of %d\" % (counter, len(reviews)))\n",
    "       reviewFeatureVecs[counter] = makeFeatureVec(review, model, num_features, reviews)\n",
    "       counter = counter + 1\n",
    "    return reviewFeatureVecs"
   ]
  },
  {
   "cell_type": "code",
   "execution_count": null,
   "metadata": {},
   "outputs": [],
   "source": []
  },
  {
   "cell_type": "code",
   "execution_count": null,
   "metadata": {},
   "outputs": [],
   "source": []
  },
  {
   "cell_type": "code",
   "execution_count": null,
   "metadata": {},
   "outputs": [],
   "source": []
  },
  {
   "cell_type": "code",
   "execution_count": null,
   "metadata": {},
   "outputs": [],
   "source": []
  },
  {
   "cell_type": "code",
   "execution_count": 24,
   "metadata": {},
   "outputs": [
    {
     "name": "stderr",
     "output_type": "stream",
     "text": [
      "C:\\Users\\admin\\Anaconda3\\lib\\site-packages\\bs4\\__init__.py:181: UserWarning: No parser was explicitly specified, so I'm using the best available HTML parser for this system (\"lxml\"). This usually isn't a problem, but if you run this code on another system, or in a different virtual environment, it may use a different parser and behave differently.\n",
      "\n",
      "The code that caused this warning is on line 193 of the file C:\\Users\\admin\\Anaconda3\\lib\\runpy.py. To get rid of this warning, change code that looks like this:\n",
      "\n",
      " BeautifulSoup(YOUR_MARKUP})\n",
      "\n",
      "to this:\n",
      "\n",
      " BeautifulSoup(YOUR_MARKUP, \"lxml\")\n",
      "\n",
      "  markup_type=markup_type))\n"
     ]
    },
    {
     "name": "stdout",
     "output_type": "stream",
     "text": [
      "Wall time: 56.9 s\n"
     ]
    }
   ],
   "source": [
    "%%time\n",
    "clean_train_reviews = []\n",
    "for review in train[\"review\"]:\n",
    "    clean_train_reviews.append( review_to_wordlist( review))"
   ]
  },
  {
   "cell_type": "code",
   "execution_count": 59,
   "metadata": {},
   "outputs": [
    {
     "name": "stdout",
     "output_type": "stream",
     "text": [
      "Wall time: 0 ns\n",
      "Review 0 of 25000\n",
      "Review 500 of 25000\n",
      "Review 1000 of 25000\n",
      "Review 1500 of 25000\n",
      "Review 2000 of 25000\n",
      "Review 2500 of 25000\n",
      "Review 3000 of 25000\n",
      "Review 3500 of 25000\n",
      "Review 4000 of 25000\n",
      "Review 4500 of 25000\n",
      "Review 5000 of 25000\n",
      "Review 5500 of 25000\n",
      "Review 6000 of 25000\n",
      "Review 6500 of 25000\n",
      "Review 7000 of 25000\n",
      "Review 7500 of 25000\n",
      "Review 8000 of 25000\n",
      "Review 8500 of 25000\n",
      "Review 9000 of 25000\n",
      "Review 9500 of 25000\n",
      "Review 10000 of 25000\n",
      "Review 10500 of 25000\n",
      "Review 11000 of 25000\n",
      "Review 11500 of 25000\n",
      "Review 12000 of 25000\n",
      "Review 12500 of 25000\n",
      "Review 13000 of 25000\n",
      "Review 13500 of 25000\n",
      "Review 14000 of 25000\n",
      "Review 14500 of 25000\n",
      "Review 15000 of 25000\n",
      "Review 15500 of 25000\n",
      "Review 16000 of 25000\n",
      "Review 16500 of 25000\n",
      "Review 17000 of 25000\n",
      "Review 17500 of 25000\n",
      "Review 18000 of 25000\n",
      "Review 18500 of 25000\n",
      "Review 19000 of 25000\n",
      "Review 19500 of 25000\n",
      "Review 20000 of 25000\n",
      "Review 20500 of 25000\n",
      "Review 21000 of 25000\n",
      "Review 21500 of 25000\n",
      "Review 22000 of 25000\n",
      "Review 22500 of 25000\n",
      "Review 23000 of 25000\n",
      "Review 23500 of 25000\n",
      "Review 24000 of 25000\n",
      "Review 24500 of 25000\n"
     ]
    }
   ],
   "source": [
    "%time \n",
    "trainDataVecs = getAvgFeatureVecs(clean_train_reviews, model, num_features )"
   ]
  },
  {
   "cell_type": "code",
   "execution_count": 60,
   "metadata": {},
   "outputs": [
    {
     "name": "stdout",
     "output_type": "stream",
     "text": [
      "Fitting a random forest to labeled training data...\n",
      "\n",
      " RandomForestClassifier(bootstrap=True, class_weight=None, criterion='gini',\n",
      "            max_depth=None, max_features='auto', max_leaf_nodes=None,\n",
      "            min_impurity_split=1e-07, min_samples_leaf=1,\n",
      "            min_samples_split=2, min_weight_fraction_leaf=0.0,\n",
      "            n_estimators=220, n_jobs=1, oob_score=False, random_state=None,\n",
      "            verbose=0, warm_start=False)\n"
     ]
    }
   ],
   "source": [
    "from sklearn.model_selection import GridSearchCV\n",
    "params_rf = {'n_estimators': [x for x in range(160,250,20)]}\n",
    "\n",
    "RF_grid = GridSearchCV(estimator=RandomForestClassifier(), param_grid=params_rf, n_jobs=-1, cv=5)\n",
    "print(\"Fitting a random forest to labeled training data...\")\n",
    "forest = RF_grid.fit( trainDataVecs, train[\"sentiment\"] )\n",
    "print('\\n',RF_grid.best_estimator_)\n",
    "\n",
    "\n"
   ]
  },
  {
   "cell_type": "code",
   "execution_count": 178,
   "metadata": {},
   "outputs": [],
   "source": [
    "test = pd.read_csv(\"testData.tsv\", header=0, delimiter=\"\\t\", \\\n",
    "                   quoting=3 )\n"
   ]
  },
  {
   "cell_type": "code",
   "execution_count": 63,
   "metadata": {},
   "outputs": [
    {
     "name": "stderr",
     "output_type": "stream",
     "text": [
      "C:\\Users\\admin\\Anaconda3\\lib\\site-packages\\bs4\\__init__.py:181: UserWarning: No parser was explicitly specified, so I'm using the best available HTML parser for this system (\"lxml\"). This usually isn't a problem, but if you run this code on another system, or in a different virtual environment, it may use a different parser and behave differently.\n",
      "\n",
      "The code that caused this warning is on line 193 of the file C:\\Users\\admin\\Anaconda3\\lib\\runpy.py. To get rid of this warning, change code that looks like this:\n",
      "\n",
      " BeautifulSoup(YOUR_MARKUP})\n",
      "\n",
      "to this:\n",
      "\n",
      " BeautifulSoup(YOUR_MARKUP, \"lxml\")\n",
      "\n",
      "  markup_type=markup_type))\n"
     ]
    }
   ],
   "source": [
    "clean_test_reviews = []\n",
    "for review in test[\"review\"]:\n",
    "    clean_test_reviews.append( review_to_wordlist( review ))"
   ]
  },
  {
   "cell_type": "code",
   "execution_count": 64,
   "metadata": {},
   "outputs": [
    {
     "name": "stdout",
     "output_type": "stream",
     "text": [
      "Wall time: 0 ns\n",
      "Review 0 of 25000\n",
      "Review 500 of 25000\n",
      "Review 1000 of 25000\n",
      "Review 1500 of 25000\n",
      "Review 2000 of 25000\n",
      "Review 2500 of 25000\n",
      "Review 3000 of 25000\n",
      "Review 3500 of 25000\n",
      "Review 4000 of 25000\n",
      "Review 4500 of 25000\n",
      "Review 5000 of 25000\n",
      "Review 5500 of 25000\n",
      "Review 6000 of 25000\n",
      "Review 6500 of 25000\n",
      "Review 7000 of 25000\n",
      "Review 7500 of 25000\n",
      "Review 8000 of 25000\n",
      "Review 8500 of 25000\n",
      "Review 9000 of 25000\n",
      "Review 9500 of 25000\n",
      "Review 10000 of 25000\n",
      "Review 10500 of 25000\n",
      "Review 11000 of 25000\n",
      "Review 11500 of 25000\n",
      "Review 12000 of 25000\n",
      "Review 12500 of 25000\n",
      "Review 13000 of 25000\n",
      "Review 13500 of 25000\n",
      "Review 14000 of 25000\n",
      "Review 14500 of 25000\n",
      "Review 15000 of 25000\n",
      "Review 15500 of 25000\n",
      "Review 16000 of 25000\n",
      "Review 16500 of 25000\n",
      "Review 17000 of 25000\n",
      "Review 17500 of 25000\n",
      "Review 18000 of 25000\n",
      "Review 18500 of 25000\n",
      "Review 19000 of 25000\n",
      "Review 19500 of 25000\n",
      "Review 20000 of 25000\n",
      "Review 20500 of 25000\n",
      "Review 21000 of 25000\n",
      "Review 21500 of 25000\n",
      "Review 22000 of 25000\n",
      "Review 22500 of 25000\n",
      "Review 23000 of 25000\n",
      "Review 23500 of 25000\n",
      "Review 24000 of 25000\n",
      "Review 24500 of 25000\n"
     ]
    }
   ],
   "source": [
    "%time \n",
    "testDataVecs = getAvgFeatureVecs(clean_test_reviews, model, num_features)"
   ]
  },
  {
   "cell_type": "code",
   "execution_count": 66,
   "metadata": {},
   "outputs": [],
   "source": [
    "result = RF_grid.best_estimator_.predict( testDataVecs )\n",
    "output = pd.DataFrame( data={\"id\":test[\"id\"], \"sentiment\":result} )\n",
    "output.to_csv( \"Word2Vec_AverageVectors_750_features.csv\", index=False, quoting=3 )"
   ]
  },
  {
   "cell_type": "code",
   "execution_count": 67,
   "metadata": {},
   "outputs": [],
   "source": [
    "from sklearn.feature_extraction.text import TfidfVectorizer\n",
    "from collections import defaultdict"
   ]
  },
  {
   "cell_type": "code",
   "execution_count": 78,
   "metadata": {},
   "outputs": [],
   "source": [
    "tfidf = TfidfVectorizer()\n"
   ]
  },
  {
   "cell_type": "code",
   "execution_count": 146,
   "metadata": {},
   "outputs": [],
   "source": [
    "vectorizer = TfidfVectorizer(max_df=0.5, max_features=num_features,\n",
    "                                 min_df=2, stop_words='english',\n",
    "                                 use_idf=True)\n",
    "X = vectorizer.fit(train['review'])\n"
   ]
  },
  {
   "cell_type": "code",
   "execution_count": 144,
   "metadata": {},
   "outputs": [
    {
     "data": {
      "text/plain": [
       "(25000, 3)"
      ]
     },
     "execution_count": 144,
     "metadata": {},
     "output_type": "execute_result"
    }
   ],
   "source": [
    "train.shape"
   ]
  },
  {
   "cell_type": "code",
   "execution_count": null,
   "metadata": {},
   "outputs": [],
   "source": []
  },
  {
   "cell_type": "code",
   "execution_count": 152,
   "metadata": {
    "scrolled": true
   },
   "outputs": [
    {
     "data": {
      "text/plain": [
       "dict_items([('stuff', 628), ('going', 271), ('moment', 423), ('ve', 694), ('started', 617), ('music', 432), ('watching', 713), ('documentary', 158), ('watched', 712), ('maybe', 405), ('just', 339), ('want', 705), ('certain', 86), ('guy', 280), ('thought', 658), ('really', 523), ('cool', 115), ('make', 396), ('mind', 418), ('feature', 224), ('remember', 530), ('cinema', 98), ('released', 529), ('feeling', 227), ('obvious', 449), ('message', 415), ('bad', 41), ('course', 120), ('michael', 416), ('unless', 687), ('like', 373), ('hate', 291), ('boring', 62), ('making', 398), ('fans', 217), ('say', 553), ('true', 672), ('nice', 443), ('actual', 12), ('bit', 57), ('finally', 238), ('starts', 618), ('20', 1), ('minutes', 420), ('sequence', 573), ('joe', 335), ('powerful', 501), ('wants', 707), ('dead', 134), ('character', 90), ('wanted', 706), ('people', 471), ('know', 351), ('lots', 390), ('things', 655), ('car', 80), ('director', 153), ('came', 78), ('usually', 692), ('directors', 154), ('working', 731), ('kid', 342), ('let', 369), ('bunch', 74), ('dance', 128), ('scene', 557), ('line', 375), ('level', 370), ('think', 656), ('stay', 619), ('away', 37), ('does', 159), ('try', 675), ('girl', 263), ('truly', 673), ('attention', 33), ('gave', 256), ('subject', 631), ('don', 163), ('different', 148), ('fact', 210), ('extremely', 206), ('stupid', 629), ('hope', 308), ('classic', 102), ('war', 708), ('entertaining', 190), ('obviously', 450), ('goes', 270), ('great', 276), ('effort', 180), ('book', 61), ('mr', 430), ('doing', 162), ('predictable', 502), ('hollywood', 306), ('comes', 108), ('year', 744), ('version', 695), ('tom', 665), ('looks', 387), ('look', 384), ('rate', 515), ('important', 322), ('enjoyed', 189), ('novel', 447), ('easy', 176), ('giving', 268), ('robert', 540), ('secret', 567), ('using', 690), ('nature', 436), ('turns', 679), ('high', 301), ('begins', 50), ('human', 316), ('fight', 232), ('hardly', 290), ('real', 519), ('star', 614), ('stars', 615), ('group', 278), ('run', 547), ('slow', 597), ('blood', 59), ('gore', 274), ('appear', 26), ('special', 611), ('effects', 179), ('story', 622), ('entertainment', 191), ('quite', 514), ('totally', 668), ('performances', 475), ('actors', 10), ('running', 548), ('ridiculous', 538), ('final', 237), ('small', 598), ('kids', 343), ('realistic', 520), ('scenes', 558), ('films', 236), ('james', 331), ('david', 131), ('john', 336), ('better', 55), ('10', 0), ('picture', 480), ('moments', 424), ('badly', 42), ('directed', 150), ('george', 260), ('takes', 640), ('elements', 181), ('previous', 506), ('television', 647), ('earth', 174), ('man', 400), ('rating', 516), ('average', 35), ('greatest', 277), ('filmed', 235), ('didn', 146), ('read', 517), ('care', 81), ('song', 602), ('reading', 518), ('score', 561), ('matter', 404), ('play', 483), ('especially', 196), ('near', 437), ('decided', 138), ('title', 662), ('kind', 348), ('seen', 569), ('face', 209), ('heard', 296), ('voice', 703), ('appears', 27), ('playing', 485), ('good', 273), ('way', 714), ('piece', 481), ('couldn', 117), ('sound', 607), ('hard', 289), ('particular', 465), ('sort', 606), ('review', 535), ('sense', 571), ('half', 282), ('set', 577), ('modern', 422), ('credits', 124), ('opening', 458), ('sequences', 574), ('somewhat', 600), ('drama', 166), ('need', 439), ('later', 358), ('close', 105), ('relationship', 527), ('imagine', 320), ('sister', 594), ('body', 60), ('doesn', 160), ('parents', 464), ('took', 666), ('plot', 488), ('years', 745), ('incredibly', 324), ('white', 719), ('life', 371), ('little', 377), ('sure', 635), ('lot', 389), ('fun', 252), ('watch', 711), ('time', 660), ('violence', 702), ('single', 593), ('twist', 681), ('script', 564), ('won', 724), ('reason', 524), ('needs', 441), ('big', 56), ('black', 58), ('local', 382), ('theme', 653), ('plays', 486), ('times', 661), ('love', 391), ('god', 269), ('brilliant', 67), ('experience', 205), ('original', 461), ('french', 249), ('makes', 397), ('rest', 532), ('got', 275), ('pretty', 505), ('action', 8), ('change', 89), ('form', 246), ('liked', 374), ('town', 669), ('cop', 116), ('short', 583), ('cheesy', 94), ('acting', 7), ('looked', 385), ('past', 468), ('wasn', 709), ('background', 40), ('evil', 199), ('woman', 722), ('gets', 261), ('clearly', 104), ('keeps', 340), ('completely', 114), ('potential', 499), ('tv', 680), ('avoid', 36), ('video', 696), ('friend', 250), ('house', 314), ('did', 145), ('waste', 710), ('money', 425), ('instead', 325), ('ends', 185), ('showing', 586), ('lead', 361), ('believe', 52), ('american', 21), ('general', 258), ('despite', 141), ('young', 748), ('funny', 253), ('taking', 641), ('straight', 624), ('audience', 34), ('hot', 311), ('girls', 265), ('order', 460), ('women', 723), ('named', 435), ('lost', 388), ('break', 66), ('worst', 735), ('clear', 103), ('peter', 479), ('masterpiece', 402), ('ll', 381), ('talk', 644), ('future', 254), ('happens', 287), ('example', 201), ('era', 195), ('decent', 137), ('supporting', 633), ('cast', 84), ('actually', 13), ('far', 220), ('comment', 111), ('opinion', 459), ('written', 742), ('question', 512), ('words', 728), ('superb', 632), ('movies', 428), ('case', 83), ('number', 448), ('famous', 215), ('brother', 71), ('recommend', 525), ('dvd', 171), ('performance', 474), ('based', 43), ('deep', 139), ('moving', 429), ('expected', 204), ('school', 559), ('used', 689), ('comic', 109), ('situation', 596), ('dramatic', 167), ('british', 70), ('tell', 648), ('mean', 406), ('usual', 691), ('role', 542), ('leads', 363), ('portrayed', 496), ('ben', 53), ('america', 20), ('christmas', 97), ('played', 484), ('unfortunately', 685), ('saw', 552), ('best', 54), ('men', 412), ('wouldn', 737), ('right', 539), ('looking', 386), ('sounds', 608), ('editing', 177), ('couple', 119), ('ok', 452), ('said', 550), ('problems', 509), ('production', 510), ('flick', 241), ('rent', 531), ('miss', 421), ('note', 446), ('mystery', 434), ('theater', 652), ('favorite', 223), ('simply', 592), ('complete', 113), ('trying', 676), ('dialog', 143), ('hand', 283), ('buy', 76), ('king', 349), ('family', 214), ('home', 307), ('father', 222), ('finds', 239), ('horror', 310), ('end', 183), ('point', 490), ('memorable', 411), ('old', 454), ('sequel', 572), ('wonder', 725), ('work', 729), ('fantastic', 218), ('worse', 734), ('screen', 562), ('shot', 584), ('dream', 168), ('battle', 45), ('place', 482), ('minute', 419), ('absolutely', 4), ('interesting', 327), ('basically', 44), ('series', 575), ('works', 732), ('quickly', 513), ('poor', 494), ('room', 546), ('dialogue', 144), ('actress', 11), ('die', 147), ('genre', 259), ('effect', 178), ('imdb', 321), ('low', 393), ('budget', 73), ('worth', 736), ('taken', 639), ('seriously', 576), ('left', 368), ('open', 457), ('seeing', 568), ('day', 132), ('return', 534), ('earlier', 172), ('happy', 288), ('known', 352), ('laugh', 359), ('footage', 243), ('start', 616), ('total', 667), ('scary', 556), ('friends', 251), ('probably', 507), ('direction', 152), ('awful', 38), ('tries', 671), ('camera', 79), ('dull', 169), ('hear', 295), ('parts', 467), ('events', 197), ('beginning', 49), ('mention', 413), ('happened', 286), ('new', 442), ('thing', 654), ('supposed', 634), ('doubt', 164), ('forget', 245), ('idea', 319), ('songs', 603), ('cinematography', 99), ('excellent', 202), ('gone', 272), ('days', 133), ('emotional', 182), ('yes', 746), ('strong', 627), ('history', 304), ('setting', 579), ('lady', 355), ('fighting', 233), ('early', 173), ('understand', 684), ('feel', 226), ('felt', 229), ('wonderful', 726), ('fine', 240), ('today', 663), ('premise', 503), ('typical', 683), ('quality', 511), ('york', 747), ('murder', 431), ('dark', 129), ('come', 106), ('surprise', 636), ('atmosphere', 31), ('easily', 175), ('dr', 165), ('space', 610), ('problem', 508), ('having', 293), ('sex', 580), ('beauty', 47), ('sexual', 581), ('male', 399), ('major', 395), ('deal', 135), ('eyes', 208), ('soundtrack', 609), ('enjoy', 187), ('definitely', 140), ('viewers', 699), ('called', 77), ('oscar', 462), ('business', 75), ('style', 630), ('hours', 313), ('wait', 704), ('dog', 161), ('lame', 356), ('amazing', 19), ('career', 82), ('leading', 362), ('turn', 677), ('son', 601), ('monster', 426), ('paul', 469), ('rock', 541), ('sit', 595), ('entire', 192), ('silly', 589), ('aren', 28), ('kill', 344), ('live', 378), ('killer', 346), ('possible', 497), ('create', 123), ('guess', 279), ('enjoyable', 188), ('crap', 121), ('second', 566), ('person', 477), ('death', 136), ('characters', 91), ('gay', 257), ('period', 476), ('box', 63), ('wrong', 743), ('plenty', 487), ('begin', 48), ('save', 551), ('writing', 741), ('points', 491), ('follow', 242), ('difficult', 149), ('possibly', 498), ('soon', 604), ('reviews', 536), ('writer', 739), ('actor', 9), ('sad', 549), ('wish', 721), ('children', 96), ('view', 697), ('art', 29), ('isn', 329), ('haven', 292), ('english', 186), ('richard', 537), ('brought', 72), ('ways', 715), ('comedy', 107), ('middle', 417), ('ask', 30), ('older', 455), ('husband', 318), ('gives', 267), ('fall', 212), ('ending', 184), ('horrible', 309), ('viewer', 698), ('chance', 88), ('lines', 376), ('beautiful', 46), ('present', 504), ('non', 445), ('joke', 337), ('saying', 554), ('job', 334), ('weird', 717), ('involved', 328), ('knew', 350), ('eye', 207), ('game', 255), ('kept', 341), ('main', 394), ('thinking', 657), ('mother', 427), ('directing', 151), ('release', 528), ('tried', 670), ('happen', 285), ('highly', 302), ('light', 372), ('dumb', 170), ('eventually', 198), ('laughs', 360), ('simple', 591), ('female', 230), ('long', 383), ('believable', 51), ('roles', 543), ('late', 357), ('night', 444), ('result', 533), ('world', 733), ('self', 570), ('features', 225), ('oh', 451), ('screenplay', 563), ('means', 407), ('casting', 85), ('japanese', 333), ('turned', 678), ('expect', 203), ('30', 2), ('perfectly', 473), ('hour', 312), ('development', 142), ('fast', 221), ('romantic', 545), ('power', 500), ('falls', 213), ('creepy', 125), ('hell', 298), ('writers', 740), ('apparently', 25), ('attempt', 32), ('guys', 281), ('loved', 392), ('episode', 193), ('getting', 262), ('crime', 126), ('cheap', 92), ('terrible', 651), ('boy', 64), ('okay', 453), ('sorry', 605), ('lives', 379), ('living', 380), ('ones', 456), ('disappointed', 155), ('meets', 410), ('forward', 247), ('able', 3), ('heart', 297), ('hit', 305), ('class', 101), ('material', 403), ('stage', 612), ('daughter', 130), ('wife', 720), ('reality', 521), ('hero', 300), ('storyline', 623), ('sets', 578), ('viewing', 700), ('given', 266), ('police', 492), ('killed', 345), ('including', 323), ('stories', 621), ('tale', 642), ('ago', 17), ('figure', 234), ('lee', 367), ('meant', 408), ('doctor', 157), ('admit', 15), ('overall', 463), ('telling', 649), ('fan', 216), ('romance', 544), ('child', 95), ('use', 688), ('plus', 489), ('various', 693), ('feels', 228), ('hands', 284), ('head', 294), ('write', 738), ('went', 718), ('says', 555), ('hilarious', 303), ('forced', 244), ('free', 248), ('humor', 317), ('weak', 716), ('pay', 470), ('told', 664), ('meet', 409), ('street', 626), ('learn', 364), ('help', 299), ('jokes', 338), ('realize', 522), ('needed', 440), ('nearly', 438), ('huge', 315), ('villain', 701), ('stop', 620), ('brings', 69), ('musical', 433), ('add', 14), ('perfect', 472), ('disney', 156), ('shots', 585), ('annoying', 23), ('talent', 643), ('bring', 68), ('unique', 686), ('check', 93), ('crazy', 122), ('apart', 24), ('strange', 625), ('word', 727), ('episodes', 194), ('city', 100), ('season', 565), ('sci', 560), ('fi', 231), ('particularly', 466), ('lack', 354), ('thriller', 659), ('mark', 401), ('zombie', 749), ('killing', 347), ('girlfriend', 264), ('team', 646), ('surprised', 637), ('type', 682), ('talking', 645), ('exactly', 200), ('country', 118), ('society', 599), ('knows', 353), ('shows', 588), ('act', 5), ('age', 16), ('acted', 6), ('stand', 613), ('comments', 112), ('coming', 110), ('red', 526), ('tells', 650), ('jane', 332), ('cut', 127), ('shown', 587), ('animation', 22), ('baby', 39), ('certainly', 87), ('air', 18), ('political', 493), ('similar', 590), ('worked', 730), ('personal', 478), ('suspense', 638), ('jack', 330), ('leaves', 366), ('truth', 674), ('fails', 211), ('fantasy', 219), ('poorly', 495), ('mess', 414), ('leave', 365), ('shame', 582), ('boys', 65), ('interested', 326)])"
      ]
     },
     "execution_count": 152,
     "metadata": {},
     "output_type": "execute_result"
    }
   ],
   "source": [
    "X.vocabulary_.items()"
   ]
  },
  {
   "cell_type": "code",
   "execution_count": null,
   "metadata": {},
   "outputs": [],
   "source": []
  },
  {
   "cell_type": "code",
   "execution_count": 150,
   "metadata": {},
   "outputs": [
    {
     "data": {
      "text/plain": [
       "5.4918814998811092"
      ]
     },
     "execution_count": 150,
     "metadata": {},
     "output_type": "execute_result"
    }
   ],
   "source": [
    "max_idf = max(X.idf_)\n",
    "max_idf"
   ]
  },
  {
   "cell_type": "code",
   "execution_count": 155,
   "metadata": {},
   "outputs": [
    {
     "data": {
      "text/plain": [
       "4.6620827993603982"
      ]
     },
     "execution_count": 155,
     "metadata": {},
     "output_type": "execute_result"
    }
   ],
   "source": [
    "X.idf_[1]"
   ]
  },
  {
   "cell_type": "code",
   "execution_count": 156,
   "metadata": {},
   "outputs": [],
   "source": [
    "word2weight = defaultdict(\n",
    "            lambda: max_idf,\n",
    "            [(w, X.idf_[i]) for w, i in X.vocabulary_.items()])\n"
   ]
  },
  {
   "cell_type": "code",
   "execution_count": 163,
   "metadata": {},
   "outputs": [],
   "source": [
    "s = 0\n",
    "for item, value in word2weight.items():\n",
    "    s += value\n",
    "    "
   ]
  },
  {
   "cell_type": "code",
   "execution_count": 165,
   "metadata": {},
   "outputs": [],
   "source": [
    "avg_weight = s/len(word2weight)"
   ]
  },
  {
   "cell_type": "code",
   "execution_count": 166,
   "metadata": {},
   "outputs": [
    {
     "data": {
      "text/plain": [
       "4.1466395047671964"
      ]
     },
     "execution_count": 166,
     "metadata": {},
     "output_type": "execute_result"
    }
   ],
   "source": [
    "avg_weight"
   ]
  },
  {
   "cell_type": "code",
   "execution_count": 130,
   "metadata": {},
   "outputs": [],
   "source": [
    "X = X.toarray()"
   ]
  },
  {
   "cell_type": "code",
   "execution_count": null,
   "metadata": {},
   "outputs": [],
   "source": []
  },
  {
   "cell_type": "code",
   "execution_count": null,
   "metadata": {},
   "outputs": [],
   "source": []
  },
  {
   "cell_type": "code",
   "execution_count": 137,
   "metadata": {},
   "outputs": [],
   "source": [
    "# Try with another params\n",
    "num_features = 750    # Word vector dimensionality                      \n",
    "min_word_count = 40   # Minimum word count                        \n",
    "num_workers = 8       # Number of threads to run in parallel\n",
    "context = 10         # Context window size                                                                                    \n",
    "downsampling = 1e-3   # Downsample setting for frequent words"
   ]
  },
  {
   "cell_type": "code",
   "execution_count": 138,
   "metadata": {},
   "outputs": [
    {
     "name": "stdout",
     "output_type": "stream",
     "text": [
      "Training model...\n",
      "Wall time: 2min 2s\n"
     ]
    }
   ],
   "source": [
    "%%time\n",
    "print(\"Training model...\")\n",
    "model = Word2Vec(sentences, workers=num_workers, \\\n",
    "            size=num_features, min_count = min_word_count, \\\n",
    "            window = context, sample = downsampling)\n"
   ]
  },
  {
   "cell_type": "code",
   "execution_count": 167,
   "metadata": {},
   "outputs": [],
   "source": [
    "def makeFeatureVec(words, model, num_features, reviews):\n",
    "    featureVec = np.zeros((num_features,),dtype=\"float32\")\n",
    "    nwords = 0\n",
    "    index2word_set = set(model.wv.index2word)\n",
    "    for word in words:\n",
    "        if word in index2word_set and word2weight[word] > avg_weight: \n",
    "            nwords = nwords + 1.\n",
    "            featureVec = np.add(featureVec,model[word])\n",
    "    featureVec = np.divide(featureVec,nwords)\n",
    "    return featureVec\n",
    "\n"
   ]
  },
  {
   "cell_type": "code",
   "execution_count": 168,
   "metadata": {},
   "outputs": [],
   "source": [
    "def getAvgFeatureVecs(reviews, model, num_features):\n",
    "    counter = 0\n",
    "    reviewFeatureVecs = np.zeros((len(reviews),num_features),dtype=\"float32\")\n",
    "    for review in reviews:\n",
    "       if counter%500 == 0:\n",
    "           print(\"Review %d of %d\" % (counter, len(reviews)))\n",
    "       reviewFeatureVecs[counter] = makeFeatureVec(review, model, num_features, reviews)\n",
    "       counter = counter + 1\n",
    "    return reviewFeatureVecs"
   ]
  },
  {
   "cell_type": "code",
   "execution_count": null,
   "metadata": {},
   "outputs": [],
   "source": []
  },
  {
   "cell_type": "code",
   "execution_count": 169,
   "metadata": {},
   "outputs": [
    {
     "name": "stdout",
     "output_type": "stream",
     "text": [
      "Wall time: 0 ns\n",
      "Review 0 of 25000\n",
      "Review 500 of 25000\n",
      "Review 1000 of 25000\n",
      "Review 1500 of 25000\n",
      "Review 2000 of 25000\n",
      "Review 2500 of 25000\n",
      "Review 3000 of 25000\n",
      "Review 3500 of 25000\n",
      "Review 4000 of 25000\n",
      "Review 4500 of 25000\n",
      "Review 5000 of 25000\n",
      "Review 5500 of 25000\n",
      "Review 6000 of 25000\n",
      "Review 6500 of 25000\n",
      "Review 7000 of 25000\n",
      "Review 7500 of 25000\n",
      "Review 8000 of 25000\n",
      "Review 8500 of 25000\n",
      "Review 9000 of 25000\n",
      "Review 9500 of 25000\n",
      "Review 10000 of 25000\n",
      "Review 10500 of 25000\n",
      "Review 11000 of 25000\n",
      "Review 11500 of 25000\n",
      "Review 12000 of 25000\n",
      "Review 12500 of 25000\n",
      "Review 13000 of 25000\n",
      "Review 13500 of 25000\n",
      "Review 14000 of 25000\n",
      "Review 14500 of 25000\n",
      "Review 15000 of 25000\n",
      "Review 15500 of 25000\n",
      "Review 16000 of 25000\n",
      "Review 16500 of 25000\n",
      "Review 17000 of 25000\n",
      "Review 17500 of 25000\n",
      "Review 18000 of 25000\n",
      "Review 18500 of 25000\n",
      "Review 19000 of 25000\n",
      "Review 19500 of 25000\n",
      "Review 20000 of 25000\n",
      "Review 20500 of 25000\n",
      "Review 21000 of 25000\n",
      "Review 21500 of 25000\n",
      "Review 22000 of 25000\n",
      "Review 22500 of 25000\n",
      "Review 23000 of 25000\n",
      "Review 23500 of 25000\n",
      "Review 24000 of 25000\n",
      "Review 24500 of 25000\n"
     ]
    }
   ],
   "source": [
    "%time \n",
    "trainDataVecs = getAvgFeatureVecs(clean_train_reviews, model, num_features )"
   ]
  },
  {
   "cell_type": "code",
   "execution_count": 142,
   "metadata": {},
   "outputs": [
    {
     "ename": "AttributeError",
     "evalue": "'numpy.ndarray' object has no attribute 'vocabulary_'",
     "output_type": "error",
     "traceback": [
      "\u001b[1;31m---------------------------------------------------------------------------\u001b[0m",
      "\u001b[1;31mAttributeError\u001b[0m                            Traceback (most recent call last)",
      "\u001b[1;32m<ipython-input-142-d700eaa5286f>\u001b[0m in \u001b[0;36m<module>\u001b[1;34m()\u001b[0m\n\u001b[1;32m----> 1\u001b[1;33m \u001b[0mX\u001b[0m\u001b[1;33m.\u001b[0m\u001b[0mvocabulary_\u001b[0m\u001b[1;33m.\u001b[0m\u001b[0mitems\u001b[0m\u001b[1;33m(\u001b[0m\u001b[1;33m)\u001b[0m\u001b[1;33m\u001b[0m\u001b[0m\n\u001b[0m",
      "\u001b[1;31mAttributeError\u001b[0m: 'numpy.ndarray' object has no attribute 'vocabulary_'"
     ]
    }
   ],
   "source": []
  },
  {
   "cell_type": "code",
   "execution_count": 170,
   "metadata": {},
   "outputs": [
    {
     "name": "stdout",
     "output_type": "stream",
     "text": [
      "Fitting a random forest to labeled training data...\n",
      "\n",
      " RandomForestClassifier(bootstrap=True, class_weight=None, criterion='gini',\n",
      "            max_depth=None, max_features='auto', max_leaf_nodes=None,\n",
      "            min_impurity_split=1e-07, min_samples_leaf=1,\n",
      "            min_samples_split=2, min_weight_fraction_leaf=0.0,\n",
      "            n_estimators=220, n_jobs=1, oob_score=False, random_state=None,\n",
      "            verbose=0, warm_start=False)\n"
     ]
    }
   ],
   "source": [
    "\n",
    "forest = RandomForestClassifier(n_estimators=220, n_jobs=-1)\n",
    "print(\"Fitting a random forest to labeled training data...\")\n",
    "forest = forest.fit( trainDataVecs, train[\"sentiment\"] )\n"
   ]
  },
  {
   "cell_type": "code",
   "execution_count": 171,
   "metadata": {},
   "outputs": [
    {
     "name": "stdout",
     "output_type": "stream",
     "text": [
      "Wall time: 0 ns\n",
      "Review 0 of 25000\n",
      "Review 500 of 25000\n",
      "Review 1000 of 25000\n",
      "Review 1500 of 25000\n",
      "Review 2000 of 25000\n",
      "Review 2500 of 25000\n",
      "Review 3000 of 25000\n",
      "Review 3500 of 25000\n",
      "Review 4000 of 25000\n",
      "Review 4500 of 25000\n",
      "Review 5000 of 25000\n",
      "Review 5500 of 25000\n",
      "Review 6000 of 25000\n",
      "Review 6500 of 25000\n",
      "Review 7000 of 25000\n",
      "Review 7500 of 25000\n",
      "Review 8000 of 25000\n",
      "Review 8500 of 25000\n",
      "Review 9000 of 25000\n",
      "Review 9500 of 25000\n",
      "Review 10000 of 25000\n",
      "Review 10500 of 25000\n",
      "Review 11000 of 25000\n",
      "Review 11500 of 25000\n",
      "Review 12000 of 25000\n",
      "Review 12500 of 25000\n",
      "Review 13000 of 25000\n",
      "Review 13500 of 25000\n",
      "Review 14000 of 25000\n",
      "Review 14500 of 25000\n",
      "Review 15000 of 25000\n",
      "Review 15500 of 25000\n",
      "Review 16000 of 25000\n",
      "Review 16500 of 25000\n",
      "Review 17000 of 25000\n",
      "Review 17500 of 25000\n",
      "Review 18000 of 25000\n",
      "Review 18500 of 25000\n",
      "Review 19000 of 25000\n",
      "Review 19500 of 25000\n",
      "Review 20000 of 25000\n",
      "Review 20500 of 25000\n",
      "Review 21000 of 25000\n",
      "Review 21500 of 25000\n",
      "Review 22000 of 25000\n",
      "Review 22500 of 25000\n",
      "Review 23000 of 25000\n",
      "Review 23500 of 25000\n",
      "Review 24000 of 25000\n",
      "Review 24500 of 25000\n"
     ]
    }
   ],
   "source": [
    "%time \n",
    "testDataVecs = getAvgFeatureVecs(clean_test_reviews, model, num_features)"
   ]
  },
  {
   "cell_type": "code",
   "execution_count": 174,
   "metadata": {},
   "outputs": [],
   "source": [
    "result = forest.predict( testDataVecs )"
   ]
  },
  {
   "cell_type": "code",
   "execution_count": 180,
   "metadata": {},
   "outputs": [],
   "source": [
    "output = pd.DataFrame( data={\"id\":test[\"id\"], \"sentiment\":result} )"
   ]
  },
  {
   "cell_type": "code",
   "execution_count": 181,
   "metadata": {},
   "outputs": [],
   "source": [
    "output.to_csv( \"Word2Vec_AverageVectors_with_tf-idf.csv\", index=False, quoting=3 )"
   ]
  },
  {
   "cell_type": "code",
   "execution_count": 182,
   "metadata": {},
   "outputs": [],
   "source": [
    "#kaggle 0.81392\n"
   ]
  },
  {
   "cell_type": "code",
   "execution_count": null,
   "metadata": {},
   "outputs": [],
   "source": []
  }
 ],
 "metadata": {
  "kernelspec": {
   "display_name": "py35-anaconda",
   "language": "python",
   "name": "py35-anaconda"
  },
  "language_info": {
   "codemirror_mode": {
    "name": "ipython",
    "version": 3
   },
   "file_extension": ".py",
   "mimetype": "text/x-python",
   "name": "python",
   "nbconvert_exporter": "python",
   "pygments_lexer": "ipython3",
   "version": "3.6.1"
  }
 },
 "nbformat": 4,
 "nbformat_minor": 2
}
